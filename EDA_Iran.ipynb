{
 "cells": [
  {
   "cell_type": "markdown",
   "metadata": {},
   "source": [
    "## A quick look at the major economic indicators of a few countries  \n",
    "\n",
    "We start by importing the relevant libraries and the [gdp-per-capita dataset from Kaggle](https://www.kaggle.com/datasets/shaswatatripathy/gdp-per-capita-gov-expenditure-trade/data)."
   ]
  },
  {
   "cell_type": "code",
   "execution_count": 1,
   "metadata": {},
   "outputs": [
    {
     "name": "stdout",
     "output_type": "stream",
     "text": [
      "Dataset Info:\n",
      "----------------------------------------------------------------------------------------------------\n"
     ]
    },
    {
     "data": {
      "text/html": [
       "<div>\n",
       "<style scoped>\n",
       "    .dataframe tbody tr th:only-of-type {\n",
       "        vertical-align: middle;\n",
       "    }\n",
       "\n",
       "    .dataframe tbody tr th {\n",
       "        vertical-align: top;\n",
       "    }\n",
       "\n",
       "    .dataframe thead th {\n",
       "        text-align: right;\n",
       "    }\n",
       "</style>\n",
       "<table border=\"1\" class=\"dataframe\">\n",
       "  <thead>\n",
       "    <tr style=\"text-align: right;\">\n",
       "      <th></th>\n",
       "      <th>Column</th>\n",
       "      <th>Column Type</th>\n",
       "      <th>Missing Values</th>\n",
       "      <th>Total</th>\n",
       "      <th>Uniques</th>\n",
       "      <th>min</th>\n",
       "      <th>mean</th>\n",
       "      <th>median</th>\n",
       "      <th>max</th>\n",
       "    </tr>\n",
       "  </thead>\n",
       "  <tbody>\n",
       "    <tr>\n",
       "      <th>0</th>\n",
       "      <td>Entity</td>\n",
       "      <td>object</td>\n",
       "      <td>0</td>\n",
       "      <td>147615</td>\n",
       "      <td>173</td>\n",
       "      <td>NaN</td>\n",
       "      <td>NaN</td>\n",
       "      <td>NaN</td>\n",
       "      <td>NaN</td>\n",
       "    </tr>\n",
       "    <tr>\n",
       "      <th>1</th>\n",
       "      <td>GDP per capita</td>\n",
       "      <td>float64</td>\n",
       "      <td>0</td>\n",
       "      <td>147615</td>\n",
       "      <td>9710</td>\n",
       "      <td>403.601900</td>\n",
       "      <td>8770.541322</td>\n",
       "      <td>3204.651900</td>\n",
       "      <td>160051.23000</td>\n",
       "    </tr>\n",
       "    <tr>\n",
       "      <th>2</th>\n",
       "      <td>Government expenditure (% of GDP)</td>\n",
       "      <td>float64</td>\n",
       "      <td>139202</td>\n",
       "      <td>8413</td>\n",
       "      <td>8318</td>\n",
       "      <td>0.684444</td>\n",
       "      <td>23.679777</td>\n",
       "      <td>20.274118</td>\n",
       "      <td>594.76980</td>\n",
       "    </tr>\n",
       "    <tr>\n",
       "      <th>3</th>\n",
       "      <td>Inflation, consumer prices (annual %)</td>\n",
       "      <td>float64</td>\n",
       "      <td>3884</td>\n",
       "      <td>143731</td>\n",
       "      <td>7859</td>\n",
       "      <td>-17.640425</td>\n",
       "      <td>7.225029</td>\n",
       "      <td>4.652298</td>\n",
       "      <td>23773.13000</td>\n",
       "    </tr>\n",
       "    <tr>\n",
       "      <th>4</th>\n",
       "      <td>Trade as a Share of GDP</td>\n",
       "      <td>float64</td>\n",
       "      <td>3886</td>\n",
       "      <td>143729</td>\n",
       "      <td>8231</td>\n",
       "      <td>0.000000</td>\n",
       "      <td>51.509635</td>\n",
       "      <td>48.775925</td>\n",
       "      <td>442.62003</td>\n",
       "    </tr>\n",
       "    <tr>\n",
       "      <th>5</th>\n",
       "      <td>Value of global merchandise exports as a share...</td>\n",
       "      <td>float64</td>\n",
       "      <td>15019</td>\n",
       "      <td>132596</td>\n",
       "      <td>10007</td>\n",
       "      <td>0.044430</td>\n",
       "      <td>19.745334</td>\n",
       "      <td>17.700430</td>\n",
       "      <td>302.30634</td>\n",
       "    </tr>\n",
       "    <tr>\n",
       "      <th>6</th>\n",
       "      <td>Year</td>\n",
       "      <td>int64</td>\n",
       "      <td>0</td>\n",
       "      <td>147615</td>\n",
       "      <td>223</td>\n",
       "      <td>1800.000000</td>\n",
       "      <td>1995.451099</td>\n",
       "      <td>2000.000000</td>\n",
       "      <td>2022.00000</td>\n",
       "    </tr>\n",
       "  </tbody>\n",
       "</table>\n",
       "</div>"
      ],
      "text/plain": [
       "                                              Column Column Type  \\\n",
       "0                                             Entity      object   \n",
       "1                                     GDP per capita     float64   \n",
       "2                  Government expenditure (% of GDP)     float64   \n",
       "3              Inflation, consumer prices (annual %)     float64   \n",
       "4                            Trade as a Share of GDP     float64   \n",
       "5  Value of global merchandise exports as a share...     float64   \n",
       "6                                               Year       int64   \n",
       "\n",
       "   Missing Values   Total  Uniques          min         mean       median  \\\n",
       "0               0  147615      173          NaN          NaN          NaN   \n",
       "1               0  147615     9710   403.601900  8770.541322  3204.651900   \n",
       "2          139202    8413     8318     0.684444    23.679777    20.274118   \n",
       "3            3884  143731     7859   -17.640425     7.225029     4.652298   \n",
       "4            3886  143729     8231     0.000000    51.509635    48.775925   \n",
       "5           15019  132596    10007     0.044430    19.745334    17.700430   \n",
       "6               0  147615      223  1800.000000  1995.451099  2000.000000   \n",
       "\n",
       "            max  \n",
       "0           NaN  \n",
       "1  160051.23000  \n",
       "2     594.76980  \n",
       "3   23773.13000  \n",
       "4     442.62003  \n",
       "5     302.30634  \n",
       "6    2022.00000  "
      ]
     },
     "metadata": {},
     "output_type": "display_data"
    },
    {
     "name": "stdout",
     "output_type": "stream",
     "text": [
      "\n",
      "First few rows:\n",
      "----------------------------------------------------------------------------------------------------\n"
     ]
    },
    {
     "data": {
      "text/html": [
       "<div>\n",
       "<style scoped>\n",
       "    .dataframe tbody tr th:only-of-type {\n",
       "        vertical-align: middle;\n",
       "    }\n",
       "\n",
       "    .dataframe tbody tr th {\n",
       "        vertical-align: top;\n",
       "    }\n",
       "\n",
       "    .dataframe thead th {\n",
       "        text-align: right;\n",
       "    }\n",
       "</style>\n",
       "<table border=\"1\" class=\"dataframe\">\n",
       "  <thead>\n",
       "    <tr style=\"text-align: right;\">\n",
       "      <th></th>\n",
       "      <th>Entity</th>\n",
       "      <th>Year</th>\n",
       "      <th>GDP per capita</th>\n",
       "      <th>Value of global merchandise exports as a share of GDP</th>\n",
       "      <th>Government expenditure (% of GDP)</th>\n",
       "      <th>Trade as a Share of GDP</th>\n",
       "      <th>Inflation, consumer prices (annual %)</th>\n",
       "    </tr>\n",
       "  </thead>\n",
       "  <tbody>\n",
       "    <tr>\n",
       "      <th>0</th>\n",
       "      <td>Afghanistan</td>\n",
       "      <td>2005</td>\n",
       "      <td>964.4081</td>\n",
       "      <td>6.11945</td>\n",
       "      <td>NaN</td>\n",
       "      <td>NaN</td>\n",
       "      <td>12.686269</td>\n",
       "    </tr>\n",
       "    <tr>\n",
       "      <th>1</th>\n",
       "      <td>Afghanistan</td>\n",
       "      <td>2006</td>\n",
       "      <td>1057.0966</td>\n",
       "      <td>5.89436</td>\n",
       "      <td>NaN</td>\n",
       "      <td>NaN</td>\n",
       "      <td>6.784596</td>\n",
       "    </tr>\n",
       "    <tr>\n",
       "      <th>2</th>\n",
       "      <td>Afghanistan</td>\n",
       "      <td>2007</td>\n",
       "      <td>1259.9967</td>\n",
       "      <td>4.61202</td>\n",
       "      <td>NaN</td>\n",
       "      <td>NaN</td>\n",
       "      <td>8.680571</td>\n",
       "    </tr>\n",
       "    <tr>\n",
       "      <th>3</th>\n",
       "      <td>Afghanistan</td>\n",
       "      <td>2008</td>\n",
       "      <td>1319.6074</td>\n",
       "      <td>5.11368</td>\n",
       "      <td>NaN</td>\n",
       "      <td>NaN</td>\n",
       "      <td>26.418665</td>\n",
       "    </tr>\n",
       "    <tr>\n",
       "      <th>4</th>\n",
       "      <td>Afghanistan</td>\n",
       "      <td>2009</td>\n",
       "      <td>1557.3207</td>\n",
       "      <td>3.93394</td>\n",
       "      <td>NaN</td>\n",
       "      <td>NaN</td>\n",
       "      <td>-6.811161</td>\n",
       "    </tr>\n",
       "  </tbody>\n",
       "</table>\n",
       "</div>"
      ],
      "text/plain": [
       "        Entity  Year  GDP per capita  \\\n",
       "0  Afghanistan  2005        964.4081   \n",
       "1  Afghanistan  2006       1057.0966   \n",
       "2  Afghanistan  2007       1259.9967   \n",
       "3  Afghanistan  2008       1319.6074   \n",
       "4  Afghanistan  2009       1557.3207   \n",
       "\n",
       "   Value of global merchandise exports as a share of GDP  \\\n",
       "0                                            6.11945       \n",
       "1                                            5.89436       \n",
       "2                                            4.61202       \n",
       "3                                            5.11368       \n",
       "4                                            3.93394       \n",
       "\n",
       "   Government expenditure (% of GDP)  Trade as a Share of GDP  \\\n",
       "0                                NaN                      NaN   \n",
       "1                                NaN                      NaN   \n",
       "2                                NaN                      NaN   \n",
       "3                                NaN                      NaN   \n",
       "4                                NaN                      NaN   \n",
       "\n",
       "   Inflation, consumer prices (annual %)  \n",
       "0                              12.686269  \n",
       "1                               6.784596  \n",
       "2                               8.680571  \n",
       "3                              26.418665  \n",
       "4                              -6.811161  "
      ]
     },
     "metadata": {},
     "output_type": "display_data"
    }
   ],
   "source": [
    "import pandas as pd\n",
    "import numpy as np\n",
    "import matplotlib.pyplot as plt\n",
    "import seaborn as sns\n",
    "import plotly.graph_objects as go\n",
    "from plotly.subplots import make_subplots\n",
    "\n",
    "# Set style for better visualizations\n",
    "plt.style.use('fast')\n",
    "sns.set_palette('husl')\n",
    "\n",
    "# Read the dataset\n",
    "dfgdp = pd.read_csv('gdp_per_capita.csv')\n",
    "dfgdp = dfgdp.drop(columns=[\"Code\"]) # useless column\n",
    "summary = pd.DataFrame({\n",
    "    'Column Type': dfgdp.dtypes,\n",
    "    'Missing Values': dfgdp.isnull().sum(),\n",
    "    'Total': dfgdp.count(),\n",
    "    'Uniques': dfgdp.nunique(),\n",
    "    'min': dfgdp.min(numeric_only=True),\n",
    "    'mean': dfgdp.mean(numeric_only=True),\n",
    "    'median': dfgdp.median(numeric_only=True),\n",
    "    'max': dfgdp.max(numeric_only=True)\n",
    "}).reset_index().rename(columns={'index': 'Column'})\n",
    "\n",
    "# Display basic information\n",
    "print(\"Dataset Info:\")\n",
    "print(\"-\" * 100)\n",
    "display(summary)\n",
    "\n",
    "print(\"\\nFirst few rows:\")\n",
    "print(\"-\" * 100)\n",
    "display(dfgdp.head())"
   ]
  },
  {
   "cell_type": "markdown",
   "metadata": {},
   "source": [
    "We'll start with Iran, including some of its major historical events. Note that these events are not an exhaustive list of influential events. Naother notheworthy point is the fact that most of this data comes from government-affilited sources, which means it could be altered considering the authoritarian behaviour of the Islamic Republic."
   ]
  },
  {
   "cell_type": "code",
   "execution_count": 2,
   "metadata": {},
   "outputs": [
    {
     "name": "stdout",
     "output_type": "stream",
     "text": [
      "Major Events in Iran's Recent History:\n"
     ]
    },
    {
     "data": {
      "text/html": [
       "<div>\n",
       "<style scoped>\n",
       "    .dataframe tbody tr th:only-of-type {\n",
       "        vertical-align: middle;\n",
       "    }\n",
       "\n",
       "    .dataframe tbody tr th {\n",
       "        vertical-align: top;\n",
       "    }\n",
       "\n",
       "    .dataframe thead th {\n",
       "        text-align: right;\n",
       "    }\n",
       "</style>\n",
       "<table border=\"1\" class=\"dataframe\">\n",
       "  <thead>\n",
       "    <tr style=\"text-align: right;\">\n",
       "      <th></th>\n",
       "      <th>Year</th>\n",
       "      <th>Event</th>\n",
       "    </tr>\n",
       "  </thead>\n",
       "  <tbody>\n",
       "    <tr>\n",
       "      <th>0</th>\n",
       "      <td>1963</td>\n",
       "      <td>Shah launches \"White Revolution\" modernization...</td>\n",
       "    </tr>\n",
       "    <tr>\n",
       "      <th>1</th>\n",
       "      <td>1978</td>\n",
       "      <td>Mass demonstrations against Shah, martial law ...</td>\n",
       "    </tr>\n",
       "    <tr>\n",
       "      <th>2</th>\n",
       "      <td>1979</td>\n",
       "      <td>Islamic Revolution - Shah forced into exile, I...</td>\n",
       "    </tr>\n",
       "    <tr>\n",
       "      <th>3</th>\n",
       "      <td>1980</td>\n",
       "      <td>Iran-Iraq war starts</td>\n",
       "    </tr>\n",
       "    <tr>\n",
       "      <th>4</th>\n",
       "      <td>1988</td>\n",
       "      <td>Iran-Iraq war ends with ceasefire</td>\n",
       "    </tr>\n",
       "    <tr>\n",
       "      <th>5</th>\n",
       "      <td>1989</td>\n",
       "      <td>Khomeini dies, Khamenei becomes supreme leader</td>\n",
       "    </tr>\n",
       "    <tr>\n",
       "      <th>6</th>\n",
       "      <td>1995</td>\n",
       "      <td>US imposes oil and trade sanctions</td>\n",
       "    </tr>\n",
       "    <tr>\n",
       "      <th>7</th>\n",
       "      <td>2002</td>\n",
       "      <td>Bush says Iran in \"Axis of Evil\"</td>\n",
       "    </tr>\n",
       "    <tr>\n",
       "      <th>8</th>\n",
       "      <td>2003</td>\n",
       "      <td>Iran suspends uranium enrichment program</td>\n",
       "    </tr>\n",
       "    <tr>\n",
       "      <th>9</th>\n",
       "      <td>2005</td>\n",
       "      <td>Mahmoud Ahmadinejad becomes president</td>\n",
       "    </tr>\n",
       "    <tr>\n",
       "      <th>10</th>\n",
       "      <td>2009</td>\n",
       "      <td>Green Movement protests</td>\n",
       "    </tr>\n",
       "    <tr>\n",
       "      <th>11</th>\n",
       "      <td>2010</td>\n",
       "      <td>UN imposes new sanctions over nuclear program</td>\n",
       "    </tr>\n",
       "    <tr>\n",
       "      <th>12</th>\n",
       "      <td>2012</td>\n",
       "      <td>EU oil embargo, Iranian currency (rial) falls 80%</td>\n",
       "    </tr>\n",
       "    <tr>\n",
       "      <th>13</th>\n",
       "      <td>2013</td>\n",
       "      <td>Hassan Rouhani wins presidential election</td>\n",
       "    </tr>\n",
       "    <tr>\n",
       "      <th>14</th>\n",
       "      <td>2015</td>\n",
       "      <td>Nuclear deal reached with world powers</td>\n",
       "    </tr>\n",
       "    <tr>\n",
       "      <th>15</th>\n",
       "      <td>2018</td>\n",
       "      <td>US withdraws from nuclear deal</td>\n",
       "    </tr>\n",
       "    <tr>\n",
       "      <th>16</th>\n",
       "      <td>2019</td>\n",
       "      <td>\"Bloody Aban\" mass protests</td>\n",
       "    </tr>\n",
       "    <tr>\n",
       "      <th>17</th>\n",
       "      <td>2020</td>\n",
       "      <td>US kills Qasem (Kotlet) Soleimani</td>\n",
       "    </tr>\n",
       "  </tbody>\n",
       "</table>\n",
       "</div>"
      ],
      "text/plain": [
       "    Year                                              Event\n",
       "0   1963  Shah launches \"White Revolution\" modernization...\n",
       "1   1978  Mass demonstrations against Shah, martial law ...\n",
       "2   1979  Islamic Revolution - Shah forced into exile, I...\n",
       "3   1980                               Iran-Iraq war starts\n",
       "4   1988                  Iran-Iraq war ends with ceasefire\n",
       "5   1989     Khomeini dies, Khamenei becomes supreme leader\n",
       "6   1995                 US imposes oil and trade sanctions\n",
       "7   2002                   Bush says Iran in \"Axis of Evil\"\n",
       "8   2003           Iran suspends uranium enrichment program\n",
       "9   2005              Mahmoud Ahmadinejad becomes president\n",
       "10  2009                            Green Movement protests\n",
       "11  2010      UN imposes new sanctions over nuclear program\n",
       "12  2012  EU oil embargo, Iranian currency (rial) falls 80%\n",
       "13  2013          Hassan Rouhani wins presidential election\n",
       "14  2015             Nuclear deal reached with world powers\n",
       "15  2018                     US withdraws from nuclear deal\n",
       "16  2019                        \"Bloody Aban\" mass protests\n",
       "17  2020                  US kills Qasem (Kotlet) Soleimani"
      ]
     },
     "metadata": {},
     "output_type": "display_data"
    }
   ],
   "source": [
    "# Filter data for Iran\n",
    "iran_data = dfgdp[dfgdp['Entity'] == 'Iran']\n",
    "\n",
    "# Create a dictionary of events\n",
    "iran_events = {\n",
    "    'Year': [\n",
    "        1963, 1978, 1979, 1980, 1988, 1989, 1995, 2002, 2003, 2005, 2009, 2010, \n",
    "        2012, 2013, 2015, 2018, 2019, 2020\n",
    "    ],\n",
    "    'Event': [\n",
    "        'Shah launches \"White Revolution\" modernization program',\n",
    "        'Mass demonstrations against Shah, martial law imposed',\n",
    "        'Islamic Revolution - Shah forced into exile, Islamic Republic established',\n",
    "        'Iran-Iraq war starts',\n",
    "        'Iran-Iraq war ends with ceasefire',\n",
    "        'Khomeini dies, Khamenei becomes supreme leader',\n",
    "        'US imposes oil and trade sanctions',\n",
    "        'Bush says Iran in \"Axis of Evil\"',\n",
    "        'Iran suspends uranium enrichment program',\n",
    "        'Mahmoud Ahmadinejad becomes president',\n",
    "        'Green Movement protests',\n",
    "        'UN imposes new sanctions over nuclear program',\n",
    "        'EU oil embargo, Iranian currency (rial) falls 80%',\n",
    "        'Hassan Rouhani wins presidential election',\n",
    "        'Nuclear deal reached with world powers',\n",
    "        'US withdraws from nuclear deal',\n",
    "        '\"Bloody Aban\" mass protests',\n",
    "        'US kills Qasem (Kotlet) Soleimani'\n",
    "    ]\n",
    "}\n",
    "\n",
    "# Create DataFrame\n",
    "events_df = pd.DataFrame(iran_events)\n",
    "\n",
    "# Display the events\n",
    "print(\"Major Events in Iran's Recent History:\")\n",
    "display(events_df)\n",
    "\n",
    "event_categories = [\n",
    "    'Social',         # 1963\n",
    "    'Political',      # 1978\n",
    "    'Political',      # 1979 Revolution\n",
    "    'Military',       # 1980 War\n",
    "    'Military',       # 1988\n",
    "    'Political',      # 1989\n",
    "    'Economic',       # 1995\n",
    "    'Diplomatic',     # 2002\n",
    "    'Diplomatic',     # 2003\n",
    "    'Political',      # 2005\n",
    "    'Political',      # 2009\n",
    "    'Economic',       # 2010\n",
    "    'Economic',       # 2012\n",
    "    'Political',      # 2013\n",
    "    'Diplomatic',     # 2015\n",
    "    'Diplomatic',     # 2018\n",
    "    'Economic',       # 2019\n",
    "    'Military'        # 2020\n",
    "]\n",
    "\n",
    "color_dict = {\n",
    "    'Political': '#E74C3C',    # Red\n",
    "    'Economic': '#2ECC71',     # Green\n",
    "    'Military': '#8E44AD',     # Purple\n",
    "    'Diplomatic': '#3498DB',   # Blue\n",
    "    'Social': '#F39C12',       # Orange\n",
    "}\n",
    "\n",
    "# Create the color list based on categories\n",
    "event_colors = [color_dict[cat] for cat in event_categories]\n",
    "\n",
    "# Add these as new columns to the events_df\n",
    "events_df['Category'] = event_categories\n",
    "events_df['Color'] = event_colors\n"
   ]
  },
  {
   "cell_type": "markdown",
   "metadata": {},
   "source": [
    "First draft of a plot with events"
   ]
  },
  {
   "cell_type": "code",
   "execution_count": 3,
   "metadata": {},
   "outputs": [
    {
     "data": {
      "image/png": "[encoded data removed]",
      "text/plain": [
       "<Figure size 1500x1200 with 1 Axes>"
      ]
     },
     "metadata": {},
     "output_type": "display_data"
    }
   ],
   "source": [
    "# Now let's create a visualization that combines economic indicators with major events\n",
    "plt.figure(figsize=(15, 12))\n",
    "plt.rcParams[\"font.family\"] = \"Times New Roman\"\n",
    "\n",
    "# Plot GDP per capita\n",
    "iran_data = dfgdp[dfgdp['Entity'] == 'Iran']\n",
    "plt.plot(iran_data['Year'], iran_data['GDP per capita'], label='GDP per capita', marker='o', markersize=10)\n",
    "axes = plt.gca()\n",
    "# Add vertical lines for major events\n",
    "for year in events_df['Year']:\n",
    "    if year in iran_data['Year'].values:\n",
    "        plt.axvline(x=year, color='r', alpha=0.3, linestyle='--', linewidth=2, \n",
    "                    ymax=(iran_data[iran_data['Year'] == year]['GDP per capita'].iloc[0] - axes.get_ylim()[0])/(axes.get_ylim()[1] - axes.get_ylim()[0]))\n",
    "\n",
    "xoffsets = [\n",
    "    0,         # 1963\n",
    "    -0.5,      # 1978\n",
    "    0,      # 1979 Revolution\n",
    "    0,       # 1980 War\n",
    "    -0.5,       # 1988\n",
    "    0.2,      # 1989\n",
    "    0,       # 1995\n",
    "    -0.5,     # 2002\n",
    "    0.2,     # 2003\n",
    "    0,      # 2005\n",
    "    -0.5,      # 2009\n",
    "    0.2,       # 2010\n",
    "    -0.5,       # 2012\n",
    "    0.2,      # 2013\n",
    "    0,     # 2015\n",
    "    -0.5,     # 2018\n",
    "    0,       # 2019\n",
    "    0.2        # 2020\n",
    "]\n",
    "\n",
    "# Add labels for key events\n",
    "for ind, row in events_df.iterrows():\n",
    "    if row['Year'] in iran_data['Year'].values:\n",
    "        plt.annotate(f\"{row['Event'][:30]}...\", \n",
    "                    xy=(row['Year'], iran_data[iran_data['Year'] == row['Year']]['GDP per capita'].iloc[0]),\n",
    "                    xytext=(xoffsets[ind], 1 if row['Year'] <= 2005 else -18), textcoords='offset fontsize',\n",
    "                    rotation=90,\n",
    "                    bbox=dict(facecolor='white', edgecolor='none', alpha=0.7),\n",
    "                    ha='left',\n",
    "                    fontsize=16,\n",
    "                    color = '#610023')\n",
    "\n",
    "plt.title(\"Iran's GDP per capita with Major Historical Events\", fontsize=22)\n",
    "plt.xlabel('Year', fontsize=20)\n",
    "plt.ylabel('GDP per capita', fontsize=20)\n",
    "plt.xticks(np.arange(iran_data['Year'].min(), \n",
    "                     iran_data['Year'].max()+1, \n",
    "                     5),  # Show tick every 5 years\n",
    "           rotation=45, \n",
    "           fontsize=14)\n",
    "plt.yticks(fontsize=14)\n",
    "plt.tight_layout()\n",
    "plt.show()"
   ]
  },
  {
   "cell_type": "markdown",
   "metadata": {},
   "source": [
    "Adding other data and making an interactive plot"
   ]
  },
  {
   "cell_type": "code",
   "execution_count": 5,
   "metadata": {},
   "outputs": [
    {
     "data": {
      "application/vnd.plotly.v1+json": {
       "config": {
        "plotlyServerURL": "https://plot.ly"
       },
       "data": [
        {
         "line": {
          "color": "#2E86C1",
          "width": 2.5
         },
         "name": "GDP per capita",
         "showlegend": false,
         "type": "scatter",
         "x": {
          "bdata": "qAepB6oHqwesB60HrgevB7AHsQeyB7MHtAe1B7YHtwe4B7kHuge7B7wHvQe+B78HwAfBB8IHwwfEB8UHxgfHB8gHyQfKB8sHzAfNB84HzwfQB9EH0gfTB9QH1QfWB9cH2AfZB9oH2wfcB90H3gffB+AH4QfiB+MH5AflB+YH",
          "dtype": "i2"
         },
         "xaxis": "x",
         "y": {
          "bdata": "AAAAAADaqkAAAAAAAEysQAAAAAAABKxAAAAAAAA2rkAAAAAAAHSvQAAAAAAAJLFAAAAAAABOskAAAAAAAMazQAAAAAAAG7ZAAAAAAABEuEAAAAAAABW6QAAAAAAAgLxAAAAAAIAbwEAAAAAAAAHBQAAAAAAA/cFAAAAAAIBQwkAAAAAAgNTEQAAAAACA7sNAAAAAAAADwUAAAAAAAP69QAAAAAAAvrhAAAAAAAD/tkAAAAAAAIe5QAAAAAAAxLtAAAAAAAAnu0AAAAAAAMW6QAAAAAAAYLdAAAAAAABRtkAAAAAAAIG0QAAAAAAAt7RAAAAAAAD0tUDNzMzMjOy4QD0K16NQfLtAHcnlP8QCu0D6fmq8tOS6QI/C9Si8tbtAEFg5tGhCvkBOYhBYubG/QMdLN4kxhcBATDeJQVAFwUBt5/upYcjBQEw3iUFQysJAaJHtfK9xxEC+nxovbXfGQE5iEFgpOshAqvHSTRKbyUDy0k1i4LTLQFYOLbKNNc5A/Knx0v29zkCuR+F6xC/QQOxRuB7VVdFAAAAAAACa0UAxCKwcIiXRQE5iEFi5ctBA6SYxCHwK0UAfhetRuIbQQJ7vp8aDUtFAsp3vpx780UAxCKwcorrRQCPb+X4a/tBAiUFg5RDk0EDhehSuF6HRQGIQWDlECtJA",
          "dtype": "f8"
         },
         "yaxis": "y"
        },
        {
         "hoverinfo": "name",
         "line": {
          "color": "#F39C12",
          "dash": "dash",
          "width": 1
         },
         "mode": "lines",
         "name": "1963: Shah launches \"White Revolution\" modernization program",
         "showlegend": false,
         "type": "scatter",
         "x": [
          1963,
          1963
         ],
         "xaxis": "x",
         "y": [
          3437,
          18473.066
         ],
         "yaxis": "y"
        },
        {
         "hoverinfo": "text",
         "marker": {
          "color": "#F39C12",
          "size": 8
         },
         "mode": "markers",
         "name": "1963: Shah launches \"White Revolution\" modernization program",
         "showlegend": false,
         "text": "Year: 1963<br>Event: Shah launches \"White Revolution\" modernization program<br>Value: 3867.00<br>Category: Social",
         "type": "scatter",
         "x": [
          1963
         ],
         "xaxis": "x",
         "y": [
          3867
         ],
         "yaxis": "y"
        },
        {
         "hoverinfo": "name",
         "line": {
          "color": "#E74C3C",
          "dash": "dash",
          "width": 1
         },
         "mode": "lines",
         "name": "1978: Mass demonstrations against Shah, martial law imposed",
         "showlegend": false,
         "type": "scatter",
         "x": [
          1978,
          1978
         ],
         "xaxis": "x",
         "y": [
          3437,
          18473.066
         ],
         "yaxis": "y"
        },
        {
         "hoverinfo": "text",
         "marker": {
          "color": "#E74C3C",
          "size": 8
         },
         "mode": "markers",
         "name": "1978: Mass demonstrations against Shah, martial law imposed",
         "showlegend": false,
         "text": "Year: 1978<br>Event: Mass demonstrations against Shah, martial law imposed<br>Value: 8710.00<br>Category: Political",
         "type": "scatter",
         "x": [
          1978
         ],
         "xaxis": "x",
         "y": [
          8710
         ],
         "yaxis": "y"
        },
        {
         "hoverinfo": "name",
         "line": {
          "color": "#E74C3C",
          "dash": "dash",
          "width": 1
         },
         "mode": "lines",
         "name": "1979: Islamic Revolution - Shah forced into exile, Islamic Republic established",
         "showlegend": false,
         "type": "scatter",
         "x": [
          1979,
          1979
         ],
         "xaxis": "x",
         "y": [
          3437,
          18473.066
         ],
         "yaxis": "y"
        },
        {
         "hoverinfo": "text",
         "marker": {
          "color": "#E74C3C",
          "size": 8
         },
         "mode": "markers",
         "name": "1979: Islamic Revolution - Shah forced into exile, Islamic Republic established",
         "showlegend": false,
         "text": "Year: 1979<br>Event: Islamic Revolution - Shah forced into exile, Islamic Republic established<br>Value: 7678.00<br>Category: Political",
         "type": "scatter",
         "x": [
          1979
         ],
         "xaxis": "x",
         "y": [
          7678
         ],
         "yaxis": "y"
        },
        {
         "hoverinfo": "name",
         "line": {
          "color": "#8E44AD",
          "dash": "dash",
          "width": 1
         },
         "mode": "lines",
         "name": "1980: Iran-Iraq war starts",
         "showlegend": false,
         "type": "scatter",
         "x": [
          1980,
          1980
         ],
         "xaxis": "x",
         "y": [
          3437,
          18473.066
         ],
         "yaxis": "y"
        },
        {
         "hoverinfo": "text",
         "marker": {
          "color": "#8E44AD",
          "size": 8
         },
         "mode": "markers",
         "name": "1980: Iran-Iraq war starts",
         "showlegend": false,
         "text": "Year: 1980<br>Event: Iran-Iraq war starts<br>Value: 6334.00<br>Category: Military",
         "type": "scatter",
         "x": [
          1980
         ],
         "xaxis": "x",
         "y": [
          6334
         ],
         "yaxis": "y"
        },
        {
         "hoverinfo": "name",
         "line": {
          "color": "#8E44AD",
          "dash": "dash",
          "width": 1
         },
         "mode": "lines",
         "name": "1988: Iran-Iraq war ends with ceasefire",
         "showlegend": false,
         "type": "scatter",
         "x": [
          1988,
          1988
         ],
         "xaxis": "x",
         "y": [
          3437,
          18473.066
         ],
         "yaxis": "y"
        },
        {
         "hoverinfo": "text",
         "marker": {
          "color": "#8E44AD",
          "size": 8
         },
         "mode": "markers",
         "name": "1988: Iran-Iraq war ends with ceasefire",
         "showlegend": false,
         "text": "Year: 1988<br>Event: Iran-Iraq war ends with ceasefire<br>Value: 5249.00<br>Category: Military",
         "type": "scatter",
         "x": [
          1988
         ],
         "xaxis": "x",
         "y": [
          5249
         ],
         "yaxis": "y"
        },
        {
         "hoverinfo": "name",
         "line": {
          "color": "#E74C3C",
          "dash": "dash",
          "width": 1
         },
         "mode": "lines",
         "name": "1989: Khomeini dies, Khamenei becomes supreme leader",
         "showlegend": false,
         "type": "scatter",
         "x": [
          1989,
          1989
         ],
         "xaxis": "x",
         "y": [
          3437,
          18473.066
         ],
         "yaxis": "y"
        },
        {
         "hoverinfo": "text",
         "marker": {
          "color": "#E74C3C",
          "size": 8
         },
         "mode": "markers",
         "name": "1989: Khomeini dies, Khamenei becomes supreme leader",
         "showlegend": false,
         "text": "Year: 1989<br>Event: Khomeini dies, Khamenei becomes supreme leader<br>Value: 5303.00<br>Category: Political",
         "type": "scatter",
         "x": [
          1989
         ],
         "xaxis": "x",
         "y": [
          5303
         ],
         "yaxis": "y"
        },
        {
         "hoverinfo": "name",
         "line": {
          "color": "#2ECC71",
          "dash": "dash",
          "width": 1
         },
         "mode": "lines",
         "name": "1995: US imposes oil and trade sanctions",
         "showlegend": false,
         "type": "scatter",
         "x": [
          1995,
          1995
         ],
         "xaxis": "x",
         "y": [
          3437,
          18473.066
         ],
         "yaxis": "y"
        },
        {
         "hoverinfo": "text",
         "marker": {
          "color": "#2ECC71",
          "size": 8
         },
         "mode": "markers",
         "name": "1995: US imposes oil and trade sanctions",
         "showlegend": false,
         "text": "Year: 1995<br>Event: US imposes oil and trade sanctions<br>Value: 7093.73<br>Category: Economic",
         "type": "scatter",
         "x": [
          1995
         ],
         "xaxis": "x",
         "y": [
          7093.735
         ],
         "yaxis": "y"
        },
        {
         "hoverinfo": "name",
         "line": {
          "color": "#3498DB",
          "dash": "dash",
          "width": 1
         },
         "mode": "lines",
         "name": "2002: Bush says Iran in \"Axis of Evil\"",
         "showlegend": false,
         "type": "scatter",
         "x": [
          2002,
          2002
         ],
         "xaxis": "x",
         "y": [
          3437,
          18473.066
         ],
         "yaxis": "y"
        },
        {
         "hoverinfo": "text",
         "marker": {
          "color": "#3498DB",
          "size": 8
         },
         "mode": "markers",
         "name": "2002: Bush says Iran in \"Axis of Evil\"",
         "showlegend": false,
         "text": "Year: 2002<br>Event: Bush says Iran in \"Axis of Evil\"<br>Value: 10467.37<br>Category: Diplomatic",
         "type": "scatter",
         "x": [
          2002
         ],
         "xaxis": "x",
         "y": [
          10467.371
         ],
         "yaxis": "y"
        },
        {
         "hoverinfo": "name",
         "line": {
          "color": "#3498DB",
          "dash": "dash",
          "width": 1
         },
         "mode": "lines",
         "name": "2003: Iran suspends uranium enrichment program",
         "showlegend": false,
         "type": "scatter",
         "x": [
          2003,
          2003
         ],
         "xaxis": "x",
         "y": [
          3437,
          18473.066
         ],
         "yaxis": "y"
        },
        {
         "hoverinfo": "text",
         "marker": {
          "color": "#3498DB",
          "size": 8
         },
         "mode": "markers",
         "name": "2003: Iran suspends uranium enrichment program",
         "showlegend": false,
         "text": "Year: 2003<br>Event: Iran suspends uranium enrichment program<br>Value: 11502.85<br>Category: Diplomatic",
         "type": "scatter",
         "x": [
          2003
         ],
         "xaxis": "x",
         "y": [
          11502.853
         ],
         "yaxis": "y"
        },
        {
         "hoverinfo": "name",
         "line": {
          "color": "#E74C3C",
          "dash": "dash",
          "width": 1
         },
         "mode": "lines",
         "name": "2005: Mahmoud Ahmadinejad becomes president",
         "showlegend": false,
         "type": "scatter",
         "x": [
          2005,
          2005
         ],
         "xaxis": "x",
         "y": [
          3437,
          18473.066
         ],
         "yaxis": "y"
        },
        {
         "hoverinfo": "text",
         "marker": {
          "color": "#E74C3C",
          "size": 8
         },
         "mode": "markers",
         "name": "2005: Mahmoud Ahmadinejad becomes president",
         "showlegend": false,
         "text": "Year: 2005<br>Event: Mahmoud Ahmadinejad becomes president<br>Value: 13110.14<br>Category: Political",
         "type": "scatter",
         "x": [
          2005
         ],
         "xaxis": "x",
         "y": [
          13110.143
         ],
         "yaxis": "y"
        },
        {
         "hoverinfo": "name",
         "line": {
          "color": "#E74C3C",
          "dash": "dash",
          "width": 1
         },
         "mode": "lines",
         "name": "2009: Green Movement protests",
         "showlegend": false,
         "type": "scatter",
         "x": [
          2009,
          2009
         ],
         "xaxis": "x",
         "y": [
          3437,
          18473.066
         ],
         "yaxis": "y"
        },
        {
         "hoverinfo": "text",
         "marker": {
          "color": "#E74C3C",
          "size": 8
         },
         "mode": "markers",
         "name": "2009: Green Movement protests",
         "showlegend": false,
         "text": "Year: 2009<br>Event: Green Movement protests<br>Value: 16575.07<br>Category: Political",
         "type": "scatter",
         "x": [
          2009
         ],
         "xaxis": "x",
         "y": [
          16575.07
         ],
         "yaxis": "y"
        },
        {
         "hoverinfo": "name",
         "line": {
          "color": "#2ECC71",
          "dash": "dash",
          "width": 1
         },
         "mode": "lines",
         "name": "2010: UN imposes new sanctions over nuclear program",
         "showlegend": false,
         "type": "scatter",
         "x": [
          2010,
          2010
         ],
         "xaxis": "x",
         "y": [
          3437,
          18473.066
         ],
         "yaxis": "y"
        },
        {
         "hoverinfo": "text",
         "marker": {
          "color": "#2ECC71",
          "size": 8
         },
         "mode": "markers",
         "name": "2010: UN imposes new sanctions over nuclear program",
         "showlegend": false,
         "text": "Year: 2010<br>Event: UN imposes new sanctions over nuclear program<br>Value: 17751.33<br>Category: Economic",
         "type": "scatter",
         "x": [
          2010
         ],
         "xaxis": "x",
         "y": [
          17751.33
         ],
         "yaxis": "y"
        },
        {
         "hoverinfo": "name",
         "line": {
          "color": "#2ECC71",
          "dash": "dash",
          "width": 1
         },
         "mode": "lines",
         "name": "2012: EU oil embargo, Iranian currency (rial) falls 80%",
         "showlegend": false,
         "type": "scatter",
         "x": [
          2012,
          2012
         ],
         "xaxis": "x",
         "y": [
          3437,
          18473.066
         ],
         "yaxis": "y"
        },
        {
         "hoverinfo": "text",
         "marker": {
          "color": "#2ECC71",
          "size": 8
         },
         "mode": "markers",
         "name": "2012: EU oil embargo, Iranian currency (rial) falls 80%",
         "showlegend": false,
         "text": "Year: 2012<br>Event: EU oil embargo, Iranian currency (rial) falls 80%<br>Value: 17556.53<br>Category: Economic",
         "type": "scatter",
         "x": [
          2012
         ],
         "xaxis": "x",
         "y": [
          17556.533
         ],
         "yaxis": "y"
        },
        {
         "hoverinfo": "name",
         "line": {
          "color": "#E74C3C",
          "dash": "dash",
          "width": 1
         },
         "mode": "lines",
         "name": "2013: Hassan Rouhani wins presidential election",
         "showlegend": false,
         "type": "scatter",
         "x": [
          2013,
          2013
         ],
         "xaxis": "x",
         "y": [
          3437,
          18473.066
         ],
         "yaxis": "y"
        },
        {
         "hoverinfo": "text",
         "marker": {
          "color": "#E74C3C",
          "size": 8
         },
         "mode": "markers",
         "name": "2013: Hassan Rouhani wins presidential election",
         "showlegend": false,
         "text": "Year: 2013<br>Event: Hassan Rouhani wins presidential election<br>Value: 16842.90<br>Category: Political",
         "type": "scatter",
         "x": [
          2013
         ],
         "xaxis": "x",
         "y": [
          16842.896
         ],
         "yaxis": "y"
        },
        {
         "hoverinfo": "name",
         "line": {
          "color": "#3498DB",
          "dash": "dash",
          "width": 1
         },
         "mode": "lines",
         "name": "2015: Nuclear deal reached with world powers",
         "showlegend": false,
         "type": "scatter",
         "x": [
          2015,
          2015
         ],
         "xaxis": "x",
         "y": [
          3437,
          18473.066
         ],
         "yaxis": "y"
        },
        {
         "hoverinfo": "text",
         "marker": {
          "color": "#3498DB",
          "size": 8
         },
         "mode": "markers",
         "name": "2015: Nuclear deal reached with world powers",
         "showlegend": false,
         "text": "Year: 2015<br>Event: Nuclear deal reached with world powers<br>Value: 16922.88<br>Category: Diplomatic",
         "type": "scatter",
         "x": [
          2015
         ],
         "xaxis": "x",
         "y": [
          16922.88
         ],
         "yaxis": "y"
        },
        {
         "hoverinfo": "name",
         "line": {
          "color": "#3498DB",
          "dash": "dash",
          "width": 1
         },
         "mode": "lines",
         "name": "2018: US withdraws from nuclear deal",
         "showlegend": false,
         "type": "scatter",
         "x": [
          2018,
          2018
         ],
         "xaxis": "x",
         "y": [
          3437,
          18473.066
         ],
         "yaxis": "y"
        },
        {
         "hoverinfo": "text",
         "marker": {
          "color": "#3498DB",
          "size": 8
         },
         "mode": "markers",
         "name": "2018: US withdraws from nuclear deal",
         "showlegend": false,
         "text": "Year: 2018<br>Event: US withdraws from nuclear deal<br>Value: 18154.53<br>Category: Diplomatic",
         "type": "scatter",
         "x": [
          2018
         ],
         "xaxis": "x",
         "y": [
          18154.533
         ],
         "yaxis": "y"
        },
        {
         "hoverinfo": "name",
         "line": {
          "color": "#2ECC71",
          "dash": "dash",
          "width": 1
         },
         "mode": "lines",
         "name": "2019: \"Bloody Aban\" mass protests",
         "showlegend": false,
         "type": "scatter",
         "x": [
          2019,
          2019
         ],
         "xaxis": "x",
         "y": [
          3437,
          18473.066
         ],
         "yaxis": "y"
        },
        {
         "hoverinfo": "text",
         "marker": {
          "color": "#2ECC71",
          "size": 8
         },
         "mode": "markers",
         "name": "2019: \"Bloody Aban\" mass protests",
         "showlegend": false,
         "text": "Year: 2019<br>Event: \"Bloody Aban\" mass protests<br>Value: 17400.41<br>Category: Economic",
         "type": "scatter",
         "x": [
          2019
         ],
         "xaxis": "x",
         "y": [
          17400.414
         ],
         "yaxis": "y"
        },
        {
         "hoverinfo": "name",
         "line": {
          "color": "#8E44AD",
          "dash": "dash",
          "width": 1
         },
         "mode": "lines",
         "name": "2020: US kills Qasem (Kotlet) Soleimani",
         "showlegend": false,
         "type": "scatter",
         "x": [
          2020,
          2020
         ],
         "xaxis": "x",
         "y": [
          3437,
          18473.066
         ],
         "yaxis": "y"
        },
        {
         "hoverinfo": "text",
         "marker": {
          "color": "#8E44AD",
          "size": 8
         },
         "mode": "markers",
         "name": "2020: US kills Qasem (Kotlet) Soleimani",
         "showlegend": false,
         "text": "Year: 2020<br>Event: US kills Qasem (Kotlet) Soleimani<br>Value: 17296.26<br>Category: Military",
         "type": "scatter",
         "x": [
          2020
         ],
         "xaxis": "x",
         "y": [
          17296.264
         ],
         "yaxis": "y"
        },
        {
         "line": {
          "color": "#2E86C1",
          "width": 2.5
         },
         "name": "Government Expenditure",
         "showlegend": false,
         "type": "scatter",
         "x": {
          "bdata": "qAepB6oHqwesB60HrgevB7AHsQeyB7MHtAe1B7YHtwe4B7kHuge7B7wHvQe+B78HwAfBB8IHwwfEB8UHxgfHB8gHyQfKB8sHzAfNB84HzwfQB9EH0gfTB9QH1QfWB9cH2AfZB9oH2wfcB90H3gffB+AH4QfiB+MH5AflB+YH",
          "dtype": "i2"
         },
         "xaxis": "x2",
         "y": {
          "bdata": "AAAAAAAA+H8AAAAAAAD4f4JzRpT2Ji9AUPwYc9eSLUD5D+m3r8MuQGUZ4lgXVzBA9dvXgXN2NEA0orQ3+EI2QNjw9EpZljdAAAAAAAAA+H8AAAAAAAD4fwAAAAAAAPh/AAAAAAAA+H8AAAAAAAD4fwAAAAAAAPh/AAAAAAAA+H8AAAAAAAD4fwAAAAAAAPh/AAAAAAAA+H8AAAAAAAD4f4zbaABv4UFACtejcD3aQEB1kxgEVr49QMzuycNCfTtAl/+Qfvu6N0AxCKwcWqQ1QA+cM6K09zJAowG8BRKkMkCutmJ/2Z03QBKDwMqhBTRABI2ZRL0ANEC8sgsG1yQxQLITXoJTnzFAe0ljtI6eQEDVP4hkyBE8QHVZTGw+ljlAahX9oZkPNUDNIamFkjk1QNJVurvOnjRARWgEG9c3M0BET8qkhkIwQH9OQX42ojBAgEi/fR0YM0AB++jUlR8zQNU9srlqYjJAyTmxh/axNUB1djI4Sl42QOif4GJF9TBAuTR+4ZW4M0AijQqcbBsyQBL5LqUuQTBA9KW3PxflMED92vrpP1MqQLzP8dHinCpAt39lpUlRLEA7wmnBi1IwQEetMH2vCTFA4qsdxTkeMUCQvknToIAuQIB9dOrKRyxA8MFrlzYEKkCH3uLhPV8sQCsxz0pauStA",
          "dtype": "f8"
         },
         "yaxis": "y2"
        },
        {
         "hoverinfo": "name",
         "line": {
          "color": "#F39C12",
          "dash": "dash",
          "width": 1
         },
         "mode": "lines",
         "name": "1963: Shah launches \"White Revolution\" modernization program",
         "showlegend": false,
         "type": "scatter",
         "x": [
          1963,
          1963
         ],
         "xaxis": "x2",
         "y": [
          13.008229,
          35.7612
         ],
         "yaxis": "y2"
        },
        {
         "hoverinfo": "text",
         "marker": {
          "color": "#F39C12",
          "size": 8
         },
         "mode": "markers",
         "name": "1963: Shah launches \"White Revolution\" modernization program",
         "showlegend": false,
         "text": "Year: 1963<br>Event: Shah launches \"White Revolution\" modernization program<br>Value: 14.79<br>Category: Social",
         "type": "scatter",
         "x": [
          1963
         ],
         "xaxis": "x2",
         "y": [
          14.7868
         ],
         "yaxis": "y2"
        },
        {
         "hoverinfo": "name",
         "line": {
          "color": "#E74C3C",
          "dash": "dash",
          "width": 1
         },
         "mode": "lines",
         "name": "1978: Mass demonstrations against Shah, martial law imposed",
         "showlegend": false,
         "type": "scatter",
         "x": [
          1978,
          1978
         ],
         "xaxis": "x2",
         "y": [
          13.008229,
          35.7612
         ],
         "yaxis": "y2"
        },
        {
         "hoverinfo": "text",
         "marker": {
          "color": "#E74C3C",
          "size": 8
         },
         "mode": "markers",
         "name": "1978: Mass demonstrations against Shah, martial law imposed",
         "showlegend": false,
         "text": "Year: 1978<br>Event: Mass demonstrations against Shah, martial law imposed<br>Value: nan<br>Category: Political",
         "type": "scatter",
         "x": [
          1978
         ],
         "xaxis": "x2",
         "y": [
          null
         ],
         "yaxis": "y2"
        },
        {
         "hoverinfo": "name",
         "line": {
          "color": "#E74C3C",
          "dash": "dash",
          "width": 1
         },
         "mode": "lines",
         "name": "1979: Islamic Revolution - Shah forced into exile, Islamic Republic established",
         "showlegend": false,
         "type": "scatter",
         "x": [
          1979,
          1979
         ],
         "xaxis": "x2",
         "y": [
          13.008229,
          35.7612
         ],
         "yaxis": "y2"
        },
        {
         "hoverinfo": "text",
         "marker": {
          "color": "#E74C3C",
          "size": 8
         },
         "mode": "markers",
         "name": "1979: Islamic Revolution - Shah forced into exile, Islamic Republic established",
         "showlegend": false,
         "text": "Year: 1979<br>Event: Islamic Revolution - Shah forced into exile, Islamic Republic established<br>Value: nan<br>Category: Political",
         "type": "scatter",
         "x": [
          1979
         ],
         "xaxis": "x2",
         "y": [
          null
         ],
         "yaxis": "y2"
        },
        {
         "hoverinfo": "name",
         "line": {
          "color": "#8E44AD",
          "dash": "dash",
          "width": 1
         },
         "mode": "lines",
         "name": "1980: Iran-Iraq war starts",
         "showlegend": false,
         "type": "scatter",
         "x": [
          1980,
          1980
         ],
         "xaxis": "x2",
         "y": [
          13.008229,
          35.7612
         ],
         "yaxis": "y2"
        },
        {
         "hoverinfo": "text",
         "marker": {
          "color": "#8E44AD",
          "size": 8
         },
         "mode": "markers",
         "name": "1980: Iran-Iraq war starts",
         "showlegend": false,
         "text": "Year: 1980<br>Event: Iran-Iraq war starts<br>Value: 35.76<br>Category: Military",
         "type": "scatter",
         "x": [
          1980
         ],
         "xaxis": "x2",
         "y": [
          35.7612
         ],
         "yaxis": "y2"
        },
        {
         "hoverinfo": "name",
         "line": {
          "color": "#8E44AD",
          "dash": "dash",
          "width": 1
         },
         "mode": "lines",
         "name": "1988: Iran-Iraq war ends with ceasefire",
         "showlegend": false,
         "type": "scatter",
         "x": [
          1988,
          1988
         ],
         "xaxis": "x2",
         "y": [
          13.008229,
          35.7612
         ],
         "yaxis": "y2"
        },
        {
         "hoverinfo": "text",
         "marker": {
          "color": "#8E44AD",
          "size": 8
         },
         "mode": "markers",
         "name": "1988: Iran-Iraq war ends with ceasefire",
         "showlegend": false,
         "text": "Year: 1988<br>Event: Iran-Iraq war ends with ceasefire<br>Value: 23.62<br>Category: Military",
         "type": "scatter",
         "x": [
          1988
         ],
         "xaxis": "x2",
         "y": [
          23.6166
         ],
         "yaxis": "y2"
        },
        {
         "hoverinfo": "name",
         "line": {
          "color": "#E74C3C",
          "dash": "dash",
          "width": 1
         },
         "mode": "lines",
         "name": "1989: Khomeini dies, Khamenei becomes supreme leader",
         "showlegend": false,
         "type": "scatter",
         "x": [
          1989,
          1989
         ],
         "xaxis": "x2",
         "y": [
          13.008229,
          35.7612
         ],
         "yaxis": "y2"
        },
        {
         "hoverinfo": "text",
         "marker": {
          "color": "#E74C3C",
          "size": 8
         },
         "mode": "markers",
         "name": "1989: Khomeini dies, Khamenei becomes supreme leader",
         "showlegend": false,
         "text": "Year: 1989<br>Event: Khomeini dies, Khamenei becomes supreme leader<br>Value: 20.02<br>Category: Political",
         "type": "scatter",
         "x": [
          1989
         ],
         "xaxis": "x2",
         "y": [
          20.022
         ],
         "yaxis": "y2"
        },
        {
         "hoverinfo": "name",
         "line": {
          "color": "#2ECC71",
          "dash": "dash",
          "width": 1
         },
         "mode": "lines",
         "name": "1995: US imposes oil and trade sanctions",
         "showlegend": false,
         "type": "scatter",
         "x": [
          1995,
          1995
         ],
         "xaxis": "x2",
         "y": [
          13.008229,
          35.7612
         ],
         "yaxis": "y2"
        },
        {
         "hoverinfo": "text",
         "marker": {
          "color": "#2ECC71",
          "size": 8
         },
         "mode": "markers",
         "name": "1995: US imposes oil and trade sanctions",
         "showlegend": false,
         "text": "Year: 1995<br>Event: US imposes oil and trade sanctions<br>Value: 25.59<br>Category: Economic",
         "type": "scatter",
         "x": [
          1995
         ],
         "xaxis": "x2",
         "y": [
          25.58689
         ],
         "yaxis": "y2"
        },
        {
         "hoverinfo": "name",
         "line": {
          "color": "#3498DB",
          "dash": "dash",
          "width": 1
         },
         "mode": "lines",
         "name": "2002: Bush says Iran in \"Axis of Evil\"",
         "showlegend": false,
         "type": "scatter",
         "x": [
          2002,
          2002
         ],
         "xaxis": "x2",
         "y": [
          13.008229,
          35.7612
         ],
         "yaxis": "y2"
        },
        {
         "hoverinfo": "text",
         "marker": {
          "color": "#3498DB",
          "size": 8
         },
         "mode": "markers",
         "name": "2002: Bush says Iran in \"Axis of Evil\"",
         "showlegend": false,
         "text": "Year: 2002<br>Event: Bush says Iran in \"Axis of Evil\"<br>Value: 19.09<br>Category: Diplomatic",
         "type": "scatter",
         "x": [
          2002
         ],
         "xaxis": "x2",
         "y": [
          19.0942
         ],
         "yaxis": "y2"
        },
        {
         "hoverinfo": "name",
         "line": {
          "color": "#3498DB",
          "dash": "dash",
          "width": 1
         },
         "mode": "lines",
         "name": "2003: Iran suspends uranium enrichment program",
         "showlegend": false,
         "type": "scatter",
         "x": [
          2003,
          2003
         ],
         "xaxis": "x2",
         "y": [
          13.008229,
          35.7612
         ],
         "yaxis": "y2"
        },
        {
         "hoverinfo": "text",
         "marker": {
          "color": "#3498DB",
          "size": 8
         },
         "mode": "markers",
         "name": "2003: Iran suspends uranium enrichment program",
         "showlegend": false,
         "text": "Year: 2003<br>Event: Iran suspends uranium enrichment program<br>Value: 19.12<br>Category: Diplomatic",
         "type": "scatter",
         "x": [
          2003
         ],
         "xaxis": "x2",
         "y": [
          19.12338
         ],
         "yaxis": "y2"
        },
        {
         "hoverinfo": "name",
         "line": {
          "color": "#E74C3C",
          "dash": "dash",
          "width": 1
         },
         "mode": "lines",
         "name": "2005: Mahmoud Ahmadinejad becomes president",
         "showlegend": false,
         "type": "scatter",
         "x": [
          2005,
          2005
         ],
         "xaxis": "x2",
         "y": [
          13.008229,
          35.7612
         ],
         "yaxis": "y2"
        },
        {
         "hoverinfo": "text",
         "marker": {
          "color": "#E74C3C",
          "size": 8
         },
         "mode": "markers",
         "name": "2005: Mahmoud Ahmadinejad becomes president",
         "showlegend": false,
         "text": "Year: 2005<br>Event: Mahmoud Ahmadinejad becomes president<br>Value: 21.70<br>Category: Political",
         "type": "scatter",
         "x": [
          2005
         ],
         "xaxis": "x2",
         "y": [
          21.695168
         ],
         "yaxis": "y2"
        },
        {
         "hoverinfo": "name",
         "line": {
          "color": "#E74C3C",
          "dash": "dash",
          "width": 1
         },
         "mode": "lines",
         "name": "2009: Green Movement protests",
         "showlegend": false,
         "type": "scatter",
         "x": [
          2009,
          2009
         ],
         "xaxis": "x2",
         "y": [
          13.008229,
          35.7612
         ],
         "yaxis": "y2"
        },
        {
         "hoverinfo": "text",
         "marker": {
          "color": "#E74C3C",
          "size": 8
         },
         "mode": "markers",
         "name": "2009: Green Movement protests",
         "showlegend": false,
         "text": "Year: 2009<br>Event: Green Movement protests<br>Value: 18.11<br>Category: Political",
         "type": "scatter",
         "x": [
          2009
         ],
         "xaxis": "x2",
         "y": [
          18.107126
         ],
         "yaxis": "y2"
        },
        {
         "hoverinfo": "name",
         "line": {
          "color": "#2ECC71",
          "dash": "dash",
          "width": 1
         },
         "mode": "lines",
         "name": "2010: UN imposes new sanctions over nuclear program",
         "showlegend": false,
         "type": "scatter",
         "x": [
          2010,
          2010
         ],
         "xaxis": "x2",
         "y": [
          13.008229,
          35.7612
         ],
         "yaxis": "y2"
        },
        {
         "hoverinfo": "text",
         "marker": {
          "color": "#2ECC71",
          "size": 8
         },
         "mode": "markers",
         "name": "2010: UN imposes new sanctions over nuclear program",
         "showlegend": false,
         "text": "Year: 2010<br>Event: UN imposes new sanctions over nuclear program<br>Value: 16.25<br>Category: Economic",
         "type": "scatter",
         "x": [
          2010
         ],
         "xaxis": "x2",
         "y": [
          16.254618
         ],
         "yaxis": "y2"
        },
        {
         "hoverinfo": "name",
         "line": {
          "color": "#2ECC71",
          "dash": "dash",
          "width": 1
         },
         "mode": "lines",
         "name": "2012: EU oil embargo, Iranian currency (rial) falls 80%",
         "showlegend": false,
         "type": "scatter",
         "x": [
          2012,
          2012
         ],
         "xaxis": "x2",
         "y": [
          13.008229,
          35.7612
         ],
         "yaxis": "y2"
        },
        {
         "hoverinfo": "text",
         "marker": {
          "color": "#2ECC71",
          "size": 8
         },
         "mode": "markers",
         "name": "2012: EU oil embargo, Iranian currency (rial) falls 80%",
         "showlegend": false,
         "text": "Year: 2012<br>Event: EU oil embargo, Iranian currency (rial) falls 80%<br>Value: 13.16<br>Category: Economic",
         "type": "scatter",
         "x": [
          2012
         ],
         "xaxis": "x2",
         "y": [
          13.162597
         ],
         "yaxis": "y2"
        },
        {
         "hoverinfo": "name",
         "line": {
          "color": "#E74C3C",
          "dash": "dash",
          "width": 1
         },
         "mode": "lines",
         "name": "2013: Hassan Rouhani wins presidential election",
         "showlegend": false,
         "type": "scatter",
         "x": [
          2013,
          2013
         ],
         "xaxis": "x2",
         "y": [
          13.008229,
          35.7612
         ],
         "yaxis": "y2"
        },
        {
         "hoverinfo": "text",
         "marker": {
          "color": "#E74C3C",
          "size": 8
         },
         "mode": "markers",
         "name": "2013: Hassan Rouhani wins presidential election",
         "showlegend": false,
         "text": "Year: 2013<br>Event: Hassan Rouhani wins presidential election<br>Value: 13.31<br>Category: Political",
         "type": "scatter",
         "x": [
          2013
         ],
         "xaxis": "x2",
         "y": [
          13.306418
         ],
         "yaxis": "y2"
        },
        {
         "hoverinfo": "name",
         "line": {
          "color": "#3498DB",
          "dash": "dash",
          "width": 1
         },
         "mode": "lines",
         "name": "2015: Nuclear deal reached with world powers",
         "showlegend": false,
         "type": "scatter",
         "x": [
          2015,
          2015
         ],
         "xaxis": "x2",
         "y": [
          13.008229,
          35.7612
         ],
         "yaxis": "y2"
        },
        {
         "hoverinfo": "text",
         "marker": {
          "color": "#3498DB",
          "size": 8
         },
         "mode": "markers",
         "name": "2015: Nuclear deal reached with world powers",
         "showlegend": false,
         "text": "Year: 2015<br>Event: Nuclear deal reached with world powers<br>Value: 16.32<br>Category: Diplomatic",
         "type": "scatter",
         "x": [
          2015
         ],
         "xaxis": "x2",
         "y": [
          16.322445
         ],
         "yaxis": "y2"
        },
        {
         "hoverinfo": "name",
         "line": {
          "color": "#3498DB",
          "dash": "dash",
          "width": 1
         },
         "mode": "lines",
         "name": "2018: US withdraws from nuclear deal",
         "showlegend": false,
         "type": "scatter",
         "x": [
          2018,
          2018
         ],
         "xaxis": "x2",
         "y": [
          13.008229,
          35.7612
         ],
         "yaxis": "y2"
        },
        {
         "hoverinfo": "text",
         "marker": {
          "color": "#3498DB",
          "size": 8
         },
         "mode": "markers",
         "name": "2018: US withdraws from nuclear deal",
         "showlegend": false,
         "text": "Year: 2018<br>Event: US withdraws from nuclear deal<br>Value: 15.25<br>Category: Diplomatic",
         "type": "scatter",
         "x": [
          2018
         ],
         "xaxis": "x2",
         "y": [
          15.251227
         ],
         "yaxis": "y2"
        },
        {
         "hoverinfo": "name",
         "line": {
          "color": "#2ECC71",
          "dash": "dash",
          "width": 1
         },
         "mode": "lines",
         "name": "2019: \"Bloody Aban\" mass protests",
         "showlegend": false,
         "type": "scatter",
         "x": [
          2019,
          2019
         ],
         "xaxis": "x2",
         "y": [
          13.008229,
          35.7612
         ],
         "yaxis": "y2"
        },
        {
         "hoverinfo": "text",
         "marker": {
          "color": "#2ECC71",
          "size": 8
         },
         "mode": "markers",
         "name": "2019: \"Bloody Aban\" mass protests",
         "showlegend": false,
         "text": "Year: 2019<br>Event: \"Bloody Aban\" mass protests<br>Value: 14.14<br>Category: Economic",
         "type": "scatter",
         "x": [
          2019
         ],
         "xaxis": "x2",
         "y": [
          14.14022
         ],
         "yaxis": "y2"
        },
        {
         "hoverinfo": "name",
         "line": {
          "color": "#8E44AD",
          "dash": "dash",
          "width": 1
         },
         "mode": "lines",
         "name": "2020: US kills Qasem (Kotlet) Soleimani",
         "showlegend": false,
         "type": "scatter",
         "x": [
          2020,
          2020
         ],
         "xaxis": "x2",
         "y": [
          13.008229,
          35.7612
         ],
         "yaxis": "y2"
        },
        {
         "hoverinfo": "text",
         "marker": {
          "color": "#8E44AD",
          "size": 8
         },
         "mode": "markers",
         "name": "2020: US kills Qasem (Kotlet) Soleimani",
         "showlegend": false,
         "text": "Year: 2020<br>Event: US kills Qasem (Kotlet) Soleimani<br>Value: 13.01<br>Category: Military",
         "type": "scatter",
         "x": [
          2020
         ],
         "xaxis": "x2",
         "y": [
          13.008229
         ],
         "yaxis": "y2"
        },
        {
         "line": {
          "color": "#2E86C1",
          "width": 2.5
         },
         "name": "Trade Share",
         "showlegend": false,
         "type": "scatter",
         "x": {
          "bdata": "qAepB6oHqwesB60HrgevB7AHsQeyB7MHtAe1B7YHtwe4B7kHuge7B7wHvQe+B78HwAfBB8IHwwfEB8UHxgfHB8gHyQfKB8sHzAfNB84HzwfQB9EH0gfTB9QH1QfWB9cH2AfZB9oH2wfcB90H3gffB+AH4QfiB+MH5AflB+YH",
          "dtype": "i2"
         },
         "xaxis": "x3",
         "y": {
          "bdata": "inWqfM88P0BFLGLYYZg9QJMYBFYOLTxAM/s8RnnKO0B+HThnRF1AQI8X0uEhUEBAIxCv6xf0QEC2MXbCS3pCQBDM0eP3/kJAdzBinwCKQ0CBeF2/YNVDQHva4a/JNkZAgy9Mpgo6RkBt4uR+hwxLQIrJG2Dm2VFA3rBtUWYHU0AyychZ2FtQQDeq04Gs8U1AHvmDgefYRkBeEfxvJWdFQJRQ+kLIPUVACJPi4xMoREAqUmFsIQhDQAYtJGB0XUNAyvs4miPvO0CPF9LhISw3QLtjsU0qSixAesTouYXiMUAAjdKlf5U1QOLoKt1d7ztAs5WX/E+KQkCi7gOQ2hhGQDIdOj3vMkRA6E6w/zoFR0Cr7Lsi+M1EQEbOwp52kkFAak3zjlOcQUAXZTbIJFNAQApLPKBsOj1A1LX2PlVxQUAPe6GA7aBEQP9byY6NRERAsTTwoxoWSEDaOc0C7VZJQEPLun8sqElAmIbhI2I4S0BMVG8NbJVKQLXFNT6T8UhAKsk6HF0dSEDEd2LWi9lFQLjpz36k4kVAbCQJwhWcREBE+1jBbwtGQF70FaQZi0dAhZSfVPusRkDuztptF7ZDQNXo1QClMURAweJw5ldfRkD4pX7eVEhNQJSl1vuNYElAkq6ZfLPnRUAxlX7C2S9GQMcQABx7zElA",
          "dtype": "f8"
         },
         "yaxis": "y3"
        },
        {
         "hoverinfo": "name",
         "line": {
          "color": "#F39C12",
          "dash": "dash",
          "width": 1
         },
         "mode": "lines",
         "name": "1963: Shah launches \"White Revolution\" modernization program",
         "showlegend": false,
         "type": "scatter",
         "x": [
          1963,
          1963
         ],
         "xaxis": "x3",
         "y": [
          14.144854,
          76.11562
         ],
         "yaxis": "y3"
        },
        {
         "hoverinfo": "text",
         "marker": {
          "color": "#F39C12",
          "size": 8
         },
         "mode": "markers",
         "name": "1963: Shah launches \"White Revolution\" modernization program",
         "showlegend": false,
         "text": "Year: 1963<br>Event: Shah launches \"White Revolution\" modernization program<br>Value: 27.79<br>Category: Social",
         "type": "scatter",
         "x": [
          1963
         ],
         "xaxis": "x3",
         "y": [
          27.790913
         ],
         "yaxis": "y3"
        },
        {
         "hoverinfo": "name",
         "line": {
          "color": "#E74C3C",
          "dash": "dash",
          "width": 1
         },
         "mode": "lines",
         "name": "1978: Mass demonstrations against Shah, martial law imposed",
         "showlegend": false,
         "type": "scatter",
         "x": [
          1978,
          1978
         ],
         "xaxis": "x3",
         "y": [
          14.144854,
          76.11562
         ],
         "yaxis": "y3"
        },
        {
         "hoverinfo": "text",
         "marker": {
          "color": "#E74C3C",
          "size": 8
         },
         "mode": "markers",
         "name": "1978: Mass demonstrations against Shah, martial law imposed",
         "showlegend": false,
         "text": "Year: 1978<br>Event: Mass demonstrations against Shah, martial law imposed<br>Value: 45.69<br>Category: Political",
         "type": "scatter",
         "x": [
          1978
         ],
         "xaxis": "x3",
         "y": [
          45.694565
         ],
         "yaxis": "y3"
        },
        {
         "hoverinfo": "name",
         "line": {
          "color": "#E74C3C",
          "dash": "dash",
          "width": 1
         },
         "mode": "lines",
         "name": "1979: Islamic Revolution - Shah forced into exile, Islamic Republic established",
         "showlegend": false,
         "type": "scatter",
         "x": [
          1979,
          1979
         ],
         "xaxis": "x3",
         "y": [
          14.144854,
          76.11562
         ],
         "yaxis": "y3"
        },
        {
         "hoverinfo": "text",
         "marker": {
          "color": "#E74C3C",
          "size": 8
         },
         "mode": "markers",
         "name": "1979: Islamic Revolution - Shah forced into exile, Islamic Republic established",
         "showlegend": false,
         "text": "Year: 1979<br>Event: Islamic Revolution - Shah forced into exile, Islamic Republic established<br>Value: 42.81<br>Category: Political",
         "type": "scatter",
         "x": [
          1979
         ],
         "xaxis": "x3",
         "y": [
          42.80583
         ],
         "yaxis": "y3"
        },
        {
         "hoverinfo": "name",
         "line": {
          "color": "#8E44AD",
          "dash": "dash",
          "width": 1
         },
         "mode": "lines",
         "name": "1980: Iran-Iraq war starts",
         "showlegend": false,
         "type": "scatter",
         "x": [
          1980,
          1980
         ],
         "xaxis": "x3",
         "y": [
          14.144854,
          76.11562
         ],
         "yaxis": "y3"
        },
        {
         "hoverinfo": "text",
         "marker": {
          "color": "#8E44AD",
          "size": 8
         },
         "mode": "markers",
         "name": "1980: Iran-Iraq war starts",
         "showlegend": false,
         "text": "Year: 1980<br>Event: Iran-Iraq war starts<br>Value: 42.48<br>Category: Military",
         "type": "scatter",
         "x": [
          1980
         ],
         "xaxis": "x3",
         "y": [
          42.482674
         ],
         "yaxis": "y3"
        },
        {
         "hoverinfo": "name",
         "line": {
          "color": "#8E44AD",
          "dash": "dash",
          "width": 1
         },
         "mode": "lines",
         "name": "1988: Iran-Iraq war ends with ceasefire",
         "showlegend": false,
         "type": "scatter",
         "x": [
          1988,
          1988
         ],
         "xaxis": "x3",
         "y": [
          14.144854,
          76.11562
         ],
         "yaxis": "y3"
        },
        {
         "hoverinfo": "text",
         "marker": {
          "color": "#8E44AD",
          "size": 8
         },
         "mode": "markers",
         "name": "1988: Iran-Iraq war ends with ceasefire",
         "showlegend": false,
         "text": "Year: 1988<br>Event: Iran-Iraq war ends with ceasefire<br>Value: 21.58<br>Category: Military",
         "type": "scatter",
         "x": [
          1988
         ],
         "xaxis": "x3",
         "y": [
          21.583979
         ],
         "yaxis": "y3"
        },
        {
         "hoverinfo": "name",
         "line": {
          "color": "#E74C3C",
          "dash": "dash",
          "width": 1
         },
         "mode": "lines",
         "name": "1989: Khomeini dies, Khamenei becomes supreme leader",
         "showlegend": false,
         "type": "scatter",
         "x": [
          1989,
          1989
         ],
         "xaxis": "x3",
         "y": [
          14.144854,
          76.11562
         ],
         "yaxis": "y3"
        },
        {
         "hoverinfo": "text",
         "marker": {
          "color": "#E74C3C",
          "size": 8
         },
         "mode": "markers",
         "name": "1989: Khomeini dies, Khamenei becomes supreme leader",
         "showlegend": false,
         "text": "Year: 1989<br>Event: Khomeini dies, Khamenei becomes supreme leader<br>Value: 27.94<br>Category: Political",
         "type": "scatter",
         "x": [
          1989
         ],
         "xaxis": "x3",
         "y": [
          27.935026
         ],
         "yaxis": "y3"
        },
        {
         "hoverinfo": "name",
         "line": {
          "color": "#2ECC71",
          "dash": "dash",
          "width": 1
         },
         "mode": "lines",
         "name": "1995: US imposes oil and trade sanctions",
         "showlegend": false,
         "type": "scatter",
         "x": [
          1995,
          1995
         ],
         "xaxis": "x3",
         "y": [
          14.144854,
          76.11562
         ],
         "yaxis": "y3"
        },
        {
         "hoverinfo": "text",
         "marker": {
          "color": "#2ECC71",
          "size": 8
         },
         "mode": "markers",
         "name": "1995: US imposes oil and trade sanctions",
         "showlegend": false,
         "text": "Year: 1995<br>Event: US imposes oil and trade sanctions<br>Value: 35.14<br>Category: Economic",
         "type": "scatter",
         "x": [
          1995
         ],
         "xaxis": "x3",
         "y": [
          35.144245
         ],
         "yaxis": "y3"
        },
        {
         "hoverinfo": "name",
         "line": {
          "color": "#3498DB",
          "dash": "dash",
          "width": 1
         },
         "mode": "lines",
         "name": "2002: Bush says Iran in \"Axis of Evil\"",
         "showlegend": false,
         "type": "scatter",
         "x": [
          2002,
          2002
         ],
         "xaxis": "x3",
         "y": [
          14.144854,
          76.11562
         ],
         "yaxis": "y3"
        },
        {
         "hoverinfo": "text",
         "marker": {
          "color": "#3498DB",
          "size": 8
         },
         "mode": "markers",
         "name": "2002: Bush says Iran in \"Axis of Evil\"",
         "showlegend": false,
         "text": "Year: 2002<br>Event: Bush says Iran in \"Axis of Evil\"<br>Value: 48.17<br>Category: Diplomatic",
         "type": "scatter",
         "x": [
          2002
         ],
         "xaxis": "x3",
         "y": [
          48.172688
         ],
         "yaxis": "y3"
        },
        {
         "hoverinfo": "name",
         "line": {
          "color": "#3498DB",
          "dash": "dash",
          "width": 1
         },
         "mode": "lines",
         "name": "2003: Iran suspends uranium enrichment program",
         "showlegend": false,
         "type": "scatter",
         "x": [
          2003,
          2003
         ],
         "xaxis": "x3",
         "y": [
          14.144854,
          76.11562
         ],
         "yaxis": "y3"
        },
        {
         "hoverinfo": "text",
         "marker": {
          "color": "#3498DB",
          "size": 8
         },
         "mode": "markers",
         "name": "2003: Iran suspends uranium enrichment program",
         "showlegend": false,
         "text": "Year: 2003<br>Event: Iran suspends uranium enrichment program<br>Value: 50.68<br>Category: Diplomatic",
         "type": "scatter",
         "x": [
          2003
         ],
         "xaxis": "x3",
         "y": [
          50.679108
         ],
         "yaxis": "y3"
        },
        {
         "hoverinfo": "name",
         "line": {
          "color": "#E74C3C",
          "dash": "dash",
          "width": 1
         },
         "mode": "lines",
         "name": "2005: Mahmoud Ahmadinejad becomes president",
         "showlegend": false,
         "type": "scatter",
         "x": [
          2005,
          2005
         ],
         "xaxis": "x3",
         "y": [
          14.144854,
          76.11562
         ],
         "yaxis": "y3"
        },
        {
         "hoverinfo": "text",
         "marker": {
          "color": "#E74C3C",
          "size": 8
         },
         "mode": "markers",
         "name": "2005: Mahmoud Ahmadinejad becomes president",
         "showlegend": false,
         "text": "Year: 2005<br>Event: Mahmoud Ahmadinejad becomes president<br>Value: 54.44<br>Category: Political",
         "type": "scatter",
         "x": [
          2005
         ],
         "xaxis": "x3",
         "y": [
          54.440495
         ],
         "yaxis": "y3"
        },
        {
         "hoverinfo": "name",
         "line": {
          "color": "#E74C3C",
          "dash": "dash",
          "width": 1
         },
         "mode": "lines",
         "name": "2009: Green Movement protests",
         "showlegend": false,
         "type": "scatter",
         "x": [
          2009,
          2009
         ],
         "xaxis": "x3",
         "y": [
          14.144854,
          76.11562
         ],
         "yaxis": "y3"
        },
        {
         "hoverinfo": "text",
         "marker": {
          "color": "#E74C3C",
          "size": 8
         },
         "mode": "markers",
         "name": "2009: Green Movement protests",
         "showlegend": false,
         "text": "Year: 2009<br>Event: Green Movement protests<br>Value: 43.70<br>Category: Political",
         "type": "scatter",
         "x": [
          2009
         ],
         "xaxis": "x3",
         "y": [
          43.69958
         ],
         "yaxis": "y3"
        },
        {
         "hoverinfo": "name",
         "line": {
          "color": "#2ECC71",
          "dash": "dash",
          "width": 1
         },
         "mode": "lines",
         "name": "2010: UN imposes new sanctions over nuclear program",
         "showlegend": false,
         "type": "scatter",
         "x": [
          2010,
          2010
         ],
         "xaxis": "x3",
         "y": [
          14.144854,
          76.11562
         ],
         "yaxis": "y3"
        },
        {
         "hoverinfo": "text",
         "marker": {
          "color": "#2ECC71",
          "size": 8
         },
         "mode": "markers",
         "name": "2010: UN imposes new sanctions over nuclear program",
         "showlegend": false,
         "text": "Year: 2010<br>Event: UN imposes new sanctions over nuclear program<br>Value: 43.77<br>Category: Economic",
         "type": "scatter",
         "x": [
          2010
         ],
         "xaxis": "x3",
         "y": [
          43.770645
         ],
         "yaxis": "y3"
        },
        {
         "hoverinfo": "name",
         "line": {
          "color": "#2ECC71",
          "dash": "dash",
          "width": 1
         },
         "mode": "lines",
         "name": "2012: EU oil embargo, Iranian currency (rial) falls 80%",
         "showlegend": false,
         "type": "scatter",
         "x": [
          2012,
          2012
         ],
         "xaxis": "x3",
         "y": [
          14.144854,
          76.11562
         ],
         "yaxis": "y3"
        },
        {
         "hoverinfo": "text",
         "marker": {
          "color": "#2ECC71",
          "size": 8
         },
         "mode": "markers",
         "name": "2012: EU oil embargo, Iranian currency (rial) falls 80%",
         "showlegend": false,
         "text": "Year: 2012<br>Event: EU oil embargo, Iranian currency (rial) falls 80%<br>Value: 44.09<br>Category: Economic",
         "type": "scatter",
         "x": [
          2012
         ],
         "xaxis": "x3",
         "y": [
          44.089348
         ],
         "yaxis": "y3"
        },
        {
         "hoverinfo": "name",
         "line": {
          "color": "#E74C3C",
          "dash": "dash",
          "width": 1
         },
         "mode": "lines",
         "name": "2013: Hassan Rouhani wins presidential election",
         "showlegend": false,
         "type": "scatter",
         "x": [
          2013,
          2013
         ],
         "xaxis": "x3",
         "y": [
          14.144854,
          76.11562
         ],
         "yaxis": "y3"
        },
        {
         "hoverinfo": "text",
         "marker": {
          "color": "#E74C3C",
          "size": 8
         },
         "mode": "markers",
         "name": "2013: Hassan Rouhani wins presidential election",
         "showlegend": false,
         "text": "Year: 2013<br>Event: Hassan Rouhani wins presidential election<br>Value: 47.09<br>Category: Political",
         "type": "scatter",
         "x": [
          2013
         ],
         "xaxis": "x3",
         "y": [
          47.08672
         ],
         "yaxis": "y3"
        },
        {
         "hoverinfo": "name",
         "line": {
          "color": "#3498DB",
          "dash": "dash",
          "width": 1
         },
         "mode": "lines",
         "name": "2015: Nuclear deal reached with world powers",
         "showlegend": false,
         "type": "scatter",
         "x": [
          2015,
          2015
         ],
         "xaxis": "x3",
         "y": [
          14.144854,
          76.11562
         ],
         "yaxis": "y3"
        },
        {
         "hoverinfo": "text",
         "marker": {
          "color": "#3498DB",
          "size": 8
         },
         "mode": "markers",
         "name": "2015: Nuclear deal reached with world powers",
         "showlegend": false,
         "text": "Year: 2015<br>Event: Nuclear deal reached with world powers<br>Value: 39.42<br>Category: Diplomatic",
         "type": "scatter",
         "x": [
          2015
         ],
         "xaxis": "x3",
         "y": [
          39.42259
         ],
         "yaxis": "y3"
        },
        {
         "hoverinfo": "name",
         "line": {
          "color": "#3498DB",
          "dash": "dash",
          "width": 1
         },
         "mode": "lines",
         "name": "2018: US withdraws from nuclear deal",
         "showlegend": false,
         "type": "scatter",
         "x": [
          2018,
          2018
         ],
         "xaxis": "x3",
         "y": [
          14.144854,
          76.11562
         ],
         "yaxis": "y3"
        },
        {
         "hoverinfo": "text",
         "marker": {
          "color": "#3498DB",
          "size": 8
         },
         "mode": "markers",
         "name": "2018: US withdraws from nuclear deal",
         "showlegend": false,
         "text": "Year: 2018<br>Event: US withdraws from nuclear deal<br>Value: 58.57<br>Category: Diplomatic",
         "type": "scatter",
         "x": [
          2018
         ],
         "xaxis": "x3",
         "y": [
          58.56509
         ],
         "yaxis": "y3"
        },
        {
         "hoverinfo": "name",
         "line": {
          "color": "#2ECC71",
          "dash": "dash",
          "width": 1
         },
         "mode": "lines",
         "name": "2019: \"Bloody Aban\" mass protests",
         "showlegend": false,
         "type": "scatter",
         "x": [
          2019,
          2019
         ],
         "xaxis": "x3",
         "y": [
          14.144854,
          76.11562
         ],
         "yaxis": "y3"
        },
        {
         "hoverinfo": "text",
         "marker": {
          "color": "#2ECC71",
          "size": 8
         },
         "mode": "markers",
         "name": "2019: \"Bloody Aban\" mass protests",
         "showlegend": false,
         "text": "Year: 2019<br>Event: \"Bloody Aban\" mass protests<br>Value: 50.75<br>Category: Economic",
         "type": "scatter",
         "x": [
          2019
         ],
         "xaxis": "x3",
         "y": [
          50.754333
         ],
         "yaxis": "y3"
        },
        {
         "hoverinfo": "name",
         "line": {
          "color": "#8E44AD",
          "dash": "dash",
          "width": 1
         },
         "mode": "lines",
         "name": "2020: US kills Qasem (Kotlet) Soleimani",
         "showlegend": false,
         "type": "scatter",
         "x": [
          2020,
          2020
         ],
         "xaxis": "x3",
         "y": [
          14.144854,
          76.11562
         ],
         "yaxis": "y3"
        },
        {
         "hoverinfo": "text",
         "marker": {
          "color": "#8E44AD",
          "size": 8
         },
         "mode": "markers",
         "name": "2020: US kills Qasem (Kotlet) Soleimani",
         "showlegend": false,
         "text": "Year: 2020<br>Event: US kills Qasem (Kotlet) Soleimani<br>Value: 43.81<br>Category: Military",
         "type": "scatter",
         "x": [
          2020
         ],
         "xaxis": "x3",
         "y": [
          43.810165
         ],
         "yaxis": "y3"
        },
        {
         "line": {
          "color": "#2E86C1",
          "width": 2.5
         },
         "name": "Inflation Rate",
         "showlegend": false,
         "type": "scatter",
         "x": {
          "bdata": "qAepB6oHqwesB60HrgevB7AHsQeyB7MHtAe1B7YHtwe4B7kHuge7B7wHvQe+B78HwAfBB8IHwwfEB8UHxgfHB8gHyQfKB8sHzAfNB84HzwfQB9EH0gfTB9QH1QfWB9cH2AfZB9oH2wfcB90H3gffB+AH4QfiB+MH5AflB+YH",
          "dtype": "i2"
         },
         "xaxis": "x4",
         "y": {
          "bdata": "x735DROlI0Ah+v+C7kwJQGSgQuAOFec/sPbBQ2LM1z/8dJcfE4QOQMGc6tooPAFAOVkPBG3X2L8NJrSbz4/5P7VaFgJvF+Y/KlYNwty+DEC+afrsgKv6P5fl6zL8xxBA06OpnsyXGUCL/tDMk6MjQBiYFYp0fyxAuHaiJCTCKUDbMuAsJYMmQIRHG0esSTtA4WJFDaZxJ0Bkzcggd/kkQGJnCp3XpDRA6spneR40OEBuMxXikbAyQOTbuwZ9vTNADFuzlZcUKUC+9zdor44RQMri/iPTbTJAyQT8GkmSPECPjUC8rqs8QMPy59uCWTZANBE2PL2CHkCIR+Ll6SAxQHxCdt7GzjlA4ScOoN8zNUC1VN6OcHI/QPPMy2H300hAERrBxvXvPEC06QjgZlkxQMTr+gW73TFAKJmc2hkSNECsqwK1GPQsQF8NUBpqjCZAmzqPiv+rLEC0Imqiz3cwQCY49YHkhS1ALJ56pMHdKkAFFOrpIwgkQLqgvmVOVzFAU67wLhdpOUD8471qZRorQOXxtPzALSRAsRpLWBtLOkAKMCx/vkE7QPOrOUAwTUJAC0J5H0ebMEAz/KcbKPgoQEJk7N9Q+xxArIvbaAAXIEDxSLw8nQMyQDWYhuEj9ENA1T4djxmYPkCkU1c+y7FFQP2iBP2FvkVA",
          "dtype": "f8"
         },
         "yaxis": "y4"
        },
        {
         "hoverinfo": "name",
         "line": {
          "color": "#F39C12",
          "dash": "dash",
          "width": 1
         },
         "mode": "lines",
         "name": "1963: Shah launches \"White Revolution\" modernization program",
         "showlegend": false,
         "type": "scatter",
         "x": [
          1963,
          1963
         ],
         "xaxis": "x4",
         "y": [
          -0.38814855,
          49.655987
         ],
         "yaxis": "y4"
        },
        {
         "hoverinfo": "text",
         "marker": {
          "color": "#F39C12",
          "size": 8
         },
         "mode": "markers",
         "name": "1963: Shah launches \"White Revolution\" modernization program",
         "showlegend": false,
         "text": "Year: 1963<br>Event: Shah launches \"White Revolution\" modernization program<br>Value: 0.37<br>Category: Social",
         "type": "scatter",
         "x": [
          1963
         ],
         "xaxis": "x4",
         "y": [
          0.3718496
         ],
         "yaxis": "y4"
        },
        {
         "hoverinfo": "name",
         "line": {
          "color": "#E74C3C",
          "dash": "dash",
          "width": 1
         },
         "mode": "lines",
         "name": "1978: Mass demonstrations against Shah, martial law imposed",
         "showlegend": false,
         "type": "scatter",
         "x": [
          1978,
          1978
         ],
         "xaxis": "x4",
         "y": [
          -0.38814855,
          49.655987
         ],
         "yaxis": "y4"
        },
        {
         "hoverinfo": "text",
         "marker": {
          "color": "#E74C3C",
          "size": 8
         },
         "mode": "markers",
         "name": "1978: Mass demonstrations against Shah, martial law imposed",
         "showlegend": false,
         "text": "Year: 1978<br>Event: Mass demonstrations against Shah, martial law imposed<br>Value: 11.72<br>Category: Political",
         "type": "scatter",
         "x": [
          1978
         ],
         "xaxis": "x4",
         "y": [
          11.72197
         ],
         "yaxis": "y4"
        },
        {
         "hoverinfo": "name",
         "line": {
          "color": "#E74C3C",
          "dash": "dash",
          "width": 1
         },
         "mode": "lines",
         "name": "1979: Islamic Revolution - Shah forced into exile, Islamic Republic established",
         "showlegend": false,
         "type": "scatter",
         "x": [
          1979,
          1979
         ],
         "xaxis": "x4",
         "y": [
          -0.38814855,
          49.655987
         ],
         "yaxis": "y4"
        },
        {
         "hoverinfo": "text",
         "marker": {
          "color": "#E74C3C",
          "size": 8
         },
         "mode": "markers",
         "name": "1979: Islamic Revolution - Shah forced into exile, Islamic Republic established",
         "showlegend": false,
         "text": "Year: 1979<br>Event: Islamic Revolution - Shah forced into exile, Islamic Republic established<br>Value: 10.49<br>Category: Political",
         "type": "scatter",
         "x": [
          1979
         ],
         "xaxis": "x4",
         "y": [
          10.487237
         ],
         "yaxis": "y4"
        },
        {
         "hoverinfo": "name",
         "line": {
          "color": "#8E44AD",
          "dash": "dash",
          "width": 1
         },
         "mode": "lines",
         "name": "1980: Iran-Iraq war starts",
         "showlegend": false,
         "type": "scatter",
         "x": [
          1980,
          1980
         ],
         "xaxis": "x4",
         "y": [
          -0.38814855,
          49.655987
         ],
         "yaxis": "y4"
        },
        {
         "hoverinfo": "text",
         "marker": {
          "color": "#8E44AD",
          "size": 8
         },
         "mode": "markers",
         "name": "1980: Iran-Iraq war starts",
         "showlegend": false,
         "text": "Year: 1980<br>Event: Iran-Iraq war starts<br>Value: 20.64<br>Category: Military",
         "type": "scatter",
         "x": [
          1980
         ],
         "xaxis": "x4",
         "y": [
          20.643915
         ],
         "yaxis": "y4"
        },
        {
         "hoverinfo": "name",
         "line": {
          "color": "#8E44AD",
          "dash": "dash",
          "width": 1
         },
         "mode": "lines",
         "name": "1988: Iran-Iraq war ends with ceasefire",
         "showlegend": false,
         "type": "scatter",
         "x": [
          1988,
          1988
         ],
         "xaxis": "x4",
         "y": [
          -0.38814855,
          49.655987
         ],
         "yaxis": "y4"
        },
        {
         "hoverinfo": "text",
         "marker": {
          "color": "#8E44AD",
          "size": 8
         },
         "mode": "markers",
         "name": "1988: Iran-Iraq war ends with ceasefire",
         "showlegend": false,
         "text": "Year: 1988<br>Event: Iran-Iraq war ends with ceasefire<br>Value: 28.67<br>Category: Military",
         "type": "scatter",
         "x": [
          1988
         ],
         "xaxis": "x4",
         "y": [
          28.670635
         ],
         "yaxis": "y4"
        },
        {
         "hoverinfo": "name",
         "line": {
          "color": "#E74C3C",
          "dash": "dash",
          "width": 1
         },
         "mode": "lines",
         "name": "1989: Khomeini dies, Khamenei becomes supreme leader",
         "showlegend": false,
         "type": "scatter",
         "x": [
          1989,
          1989
         ],
         "xaxis": "x4",
         "y": [
          -0.38814855,
          49.655987
         ],
         "yaxis": "y4"
        },
        {
         "hoverinfo": "text",
         "marker": {
          "color": "#E74C3C",
          "size": 8
         },
         "mode": "markers",
         "name": "1989: Khomeini dies, Khamenei becomes supreme leader",
         "showlegend": false,
         "text": "Year: 1989<br>Event: Khomeini dies, Khamenei becomes supreme leader<br>Value: 22.35<br>Category: Political",
         "type": "scatter",
         "x": [
          1989
         ],
         "xaxis": "x4",
         "y": [
          22.349653
         ],
         "yaxis": "y4"
        },
        {
         "hoverinfo": "name",
         "line": {
          "color": "#2ECC71",
          "dash": "dash",
          "width": 1
         },
         "mode": "lines",
         "name": "1995: US imposes oil and trade sanctions",
         "showlegend": false,
         "type": "scatter",
         "x": [
          1995,
          1995
         ],
         "xaxis": "x4",
         "y": [
          -0.38814855,
          49.655987
         ],
         "yaxis": "y4"
        },
        {
         "hoverinfo": "text",
         "marker": {
          "color": "#2ECC71",
          "size": 8
         },
         "mode": "markers",
         "name": "1995: US imposes oil and trade sanctions",
         "showlegend": false,
         "text": "Year: 1995<br>Event: US imposes oil and trade sanctions<br>Value: 49.66<br>Category: Economic",
         "type": "scatter",
         "x": [
          1995
         ],
         "xaxis": "x4",
         "y": [
          49.655987
         ],
         "yaxis": "y4"
        },
        {
         "hoverinfo": "name",
         "line": {
          "color": "#3498DB",
          "dash": "dash",
          "width": 1
         },
         "mode": "lines",
         "name": "2002: Bush says Iran in \"Axis of Evil\"",
         "showlegend": false,
         "type": "scatter",
         "x": [
          2002,
          2002
         ],
         "xaxis": "x4",
         "y": [
          -0.38814855,
          49.655987
         ],
         "yaxis": "y4"
        },
        {
         "hoverinfo": "text",
         "marker": {
          "color": "#3498DB",
          "size": 8
         },
         "mode": "markers",
         "name": "2002: Bush says Iran in \"Axis of Evil\"",
         "showlegend": false,
         "text": "Year: 2002<br>Event: Bush says Iran in \"Axis of Evil\"<br>Value: 14.34<br>Category: Diplomatic",
         "type": "scatter",
         "x": [
          2002
         ],
         "xaxis": "x4",
         "y": [
          14.335934
         ],
         "yaxis": "y4"
        },
        {
         "hoverinfo": "name",
         "line": {
          "color": "#3498DB",
          "dash": "dash",
          "width": 1
         },
         "mode": "lines",
         "name": "2003: Iran suspends uranium enrichment program",
         "showlegend": false,
         "type": "scatter",
         "x": [
          2003,
          2003
         ],
         "xaxis": "x4",
         "y": [
          -0.38814855,
          49.655987
         ],
         "yaxis": "y4"
        },
        {
         "hoverinfo": "text",
         "marker": {
          "color": "#3498DB",
          "size": 8
         },
         "mode": "markers",
         "name": "2003: Iran suspends uranium enrichment program",
         "showlegend": false,
         "text": "Year: 2003<br>Event: Iran suspends uranium enrichment program<br>Value: 16.47<br>Category: Diplomatic",
         "type": "scatter",
         "x": [
          2003
         ],
         "xaxis": "x4",
         "y": [
          16.468012
         ],
         "yaxis": "y4"
        },
        {
         "hoverinfo": "name",
         "line": {
          "color": "#E74C3C",
          "dash": "dash",
          "width": 1
         },
         "mode": "lines",
         "name": "2005: Mahmoud Ahmadinejad becomes president",
         "showlegend": false,
         "type": "scatter",
         "x": [
          2005,
          2005
         ],
         "xaxis": "x4",
         "y": [
          -0.38814855,
          49.655987
         ],
         "yaxis": "y4"
        },
        {
         "hoverinfo": "text",
         "marker": {
          "color": "#E74C3C",
          "size": 8
         },
         "mode": "markers",
         "name": "2005: Mahmoud Ahmadinejad becomes president",
         "showlegend": false,
         "text": "Year: 2005<br>Event: Mahmoud Ahmadinejad becomes president<br>Value: 13.43<br>Category: Political",
         "type": "scatter",
         "x": [
          2005
         ],
         "xaxis": "x4",
         "y": [
          13.433118
         ],
         "yaxis": "y4"
        },
        {
         "hoverinfo": "name",
         "line": {
          "color": "#E74C3C",
          "dash": "dash",
          "width": 1
         },
         "mode": "lines",
         "name": "2009: Green Movement protests",
         "showlegend": false,
         "type": "scatter",
         "x": [
          2009,
          2009
         ],
         "xaxis": "x4",
         "y": [
          -0.38814855,
          49.655987
         ],
         "yaxis": "y4"
        },
        {
         "hoverinfo": "text",
         "marker": {
          "color": "#E74C3C",
          "size": 8
         },
         "mode": "markers",
         "name": "2009: Green Movement protests",
         "showlegend": false,
         "text": "Year: 2009<br>Event: Green Movement protests<br>Value: 13.55<br>Category: Political",
         "type": "scatter",
         "x": [
          2009
         ],
         "xaxis": "x4",
         "y": [
          13.551555
         ],
         "yaxis": "y4"
        },
        {
         "hoverinfo": "name",
         "line": {
          "color": "#2ECC71",
          "dash": "dash",
          "width": 1
         },
         "mode": "lines",
         "name": "2010: UN imposes new sanctions over nuclear program",
         "showlegend": false,
         "type": "scatter",
         "x": [
          2010,
          2010
         ],
         "xaxis": "x4",
         "y": [
          -0.38814855,
          49.655987
         ],
         "yaxis": "y4"
        },
        {
         "hoverinfo": "text",
         "marker": {
          "color": "#2ECC71",
          "size": 8
         },
         "mode": "markers",
         "name": "2010: UN imposes new sanctions over nuclear program",
         "showlegend": false,
         "text": "Year: 2010<br>Event: UN imposes new sanctions over nuclear program<br>Value: 10.09<br>Category: Economic",
         "type": "scatter",
         "x": [
          2010
         ],
         "xaxis": "x4",
         "y": [
          10.089363
         ],
         "yaxis": "y4"
        },
        {
         "hoverinfo": "name",
         "line": {
          "color": "#2ECC71",
          "dash": "dash",
          "width": 1
         },
         "mode": "lines",
         "name": "2012: EU oil embargo, Iranian currency (rial) falls 80%",
         "showlegend": false,
         "type": "scatter",
         "x": [
          2012,
          2012
         ],
         "xaxis": "x4",
         "y": [
          -0.38814855,
          49.655987
         ],
         "yaxis": "y4"
        },
        {
         "hoverinfo": "text",
         "marker": {
          "color": "#2ECC71",
          "size": 8
         },
         "mode": "markers",
         "name": "2012: EU oil embargo, Iranian currency (rial) falls 80%",
         "showlegend": false,
         "text": "Year: 2012<br>Event: EU oil embargo, Iranian currency (rial) falls 80%<br>Value: 27.26<br>Category: Economic",
         "type": "scatter",
         "x": [
          2012
         ],
         "xaxis": "x4",
         "y": [
          27.256813
         ],
         "yaxis": "y4"
        },
        {
         "hoverinfo": "name",
         "line": {
          "color": "#E74C3C",
          "dash": "dash",
          "width": 1
         },
         "mode": "lines",
         "name": "2013: Hassan Rouhani wins presidential election",
         "showlegend": false,
         "type": "scatter",
         "x": [
          2013,
          2013
         ],
         "xaxis": "x4",
         "y": [
          -0.38814855,
          49.655987
         ],
         "yaxis": "y4"
        },
        {
         "hoverinfo": "text",
         "marker": {
          "color": "#E74C3C",
          "size": 8
         },
         "mode": "markers",
         "name": "2013: Hassan Rouhani wins presidential election",
         "showlegend": false,
         "text": "Year: 2013<br>Event: Hassan Rouhani wins presidential election<br>Value: 36.60<br>Category: Political",
         "type": "scatter",
         "x": [
          2013
         ],
         "xaxis": "x4",
         "y": [
          36.603035
         ],
         "yaxis": "y4"
        },
        {
         "hoverinfo": "name",
         "line": {
          "color": "#3498DB",
          "dash": "dash",
          "width": 1
         },
         "mode": "lines",
         "name": "2015: Nuclear deal reached with world powers",
         "showlegend": false,
         "type": "scatter",
         "x": [
          2015,
          2015
         ],
         "xaxis": "x4",
         "y": [
          -0.38814855,
          49.655987
         ],
         "yaxis": "y4"
        },
        {
         "hoverinfo": "text",
         "marker": {
          "color": "#3498DB",
          "size": 8
         },
         "mode": "markers",
         "name": "2015: Nuclear deal reached with world powers",
         "showlegend": false,
         "text": "Year: 2015<br>Event: Nuclear deal reached with world powers<br>Value: 12.48<br>Category: Diplomatic",
         "type": "scatter",
         "x": [
          2015
         ],
         "xaxis": "x4",
         "y": [
          12.484681
         ],
         "yaxis": "y4"
        },
        {
         "hoverinfo": "name",
         "line": {
          "color": "#3498DB",
          "dash": "dash",
          "width": 1
         },
         "mode": "lines",
         "name": "2018: US withdraws from nuclear deal",
         "showlegend": false,
         "type": "scatter",
         "x": [
          2018,
          2018
         ],
         "xaxis": "x4",
         "y": [
          -0.38814855,
          49.655987
         ],
         "yaxis": "y4"
        },
        {
         "hoverinfo": "text",
         "marker": {
          "color": "#3498DB",
          "size": 8
         },
         "mode": "markers",
         "name": "2018: US withdraws from nuclear deal",
         "showlegend": false,
         "text": "Year: 2018<br>Event: US withdraws from nuclear deal<br>Value: 18.01<br>Category: Diplomatic",
         "type": "scatter",
         "x": [
          2018
         ],
         "xaxis": "x4",
         "y": [
          18.014118
         ],
         "yaxis": "y4"
        },
        {
         "hoverinfo": "name",
         "line": {
          "color": "#2ECC71",
          "dash": "dash",
          "width": 1
         },
         "mode": "lines",
         "name": "2019: \"Bloody Aban\" mass protests",
         "showlegend": false,
         "type": "scatter",
         "x": [
          2019,
          2019
         ],
         "xaxis": "x4",
         "y": [
          -0.38814855,
          49.655987
         ],
         "yaxis": "y4"
        },
        {
         "hoverinfo": "text",
         "marker": {
          "color": "#2ECC71",
          "size": 8
         },
         "mode": "markers",
         "name": "2019: \"Bloody Aban\" mass protests",
         "showlegend": false,
         "text": "Year: 2019<br>Event: \"Bloody Aban\" mass protests<br>Value: 39.91<br>Category: Economic",
         "type": "scatter",
         "x": [
          2019
         ],
         "xaxis": "x4",
         "y": [
          39.907345
         ],
         "yaxis": "y4"
        },
        {
         "hoverinfo": "name",
         "line": {
          "color": "#8E44AD",
          "dash": "dash",
          "width": 1
         },
         "mode": "lines",
         "name": "2020: US kills Qasem (Kotlet) Soleimani",
         "showlegend": false,
         "type": "scatter",
         "x": [
          2020,
          2020
         ],
         "xaxis": "x4",
         "y": [
          -0.38814855,
          49.655987
         ],
         "yaxis": "y4"
        },
        {
         "hoverinfo": "text",
         "marker": {
          "color": "#8E44AD",
          "size": 8
         },
         "mode": "markers",
         "name": "2020: US kills Qasem (Kotlet) Soleimani",
         "showlegend": false,
         "text": "Year: 2020<br>Event: US kills Qasem (Kotlet) Soleimani<br>Value: 30.59<br>Category: Military",
         "type": "scatter",
         "x": [
          2020
         ],
         "xaxis": "x4",
         "y": [
          30.59414
         ],
         "yaxis": "y4"
        },
        {
         "marker": {
          "color": "#E74C3C",
          "size": 10
         },
         "mode": "markers",
         "name": "Political",
         "showlegend": true,
         "type": "scatter",
         "x": [
          null
         ],
         "y": [
          null
         ]
        },
        {
         "marker": {
          "color": "#2ECC71",
          "size": 10
         },
         "mode": "markers",
         "name": "Economic",
         "showlegend": true,
         "type": "scatter",
         "x": [
          null
         ],
         "y": [
          null
         ]
        },
        {
         "marker": {
          "color": "#8E44AD",
          "size": 10
         },
         "mode": "markers",
         "name": "Military",
         "showlegend": true,
         "type": "scatter",
         "x": [
          null
         ],
         "y": [
          null
         ]
        },
        {
         "marker": {
          "color": "#3498DB",
          "size": 10
         },
         "mode": "markers",
         "name": "Diplomatic",
         "showlegend": true,
         "type": "scatter",
         "x": [
          null
         ],
         "y": [
          null
         ]
        },
        {
         "marker": {
          "color": "#F39C12",
          "size": 10
         },
         "mode": "markers",
         "name": "Social",
         "showlegend": true,
         "type": "scatter",
         "x": [
          null
         ],
         "y": [
          null
         ]
        }
       ],
       "layout": {
        "annotations": [
         {
          "font": {
           "size": 16
          },
          "showarrow": false,
          "text": "GDP per capita",
          "x": 0.5,
          "xanchor": "center",
          "xref": "paper",
          "y": 1,
          "yanchor": "bottom",
          "yref": "paper"
         },
         {
          "font": {
           "size": 16
          },
          "showarrow": false,
          "text": "Government Expenditure",
          "x": 0.5,
          "xanchor": "center",
          "xref": "paper",
          "y": 0.7200000000000001,
          "yanchor": "bottom",
          "yref": "paper"
         },
         {
          "font": {
           "size": 16
          },
          "showarrow": false,
          "text": "Trade Share",
          "x": 0.5,
          "xanchor": "center",
          "xref": "paper",
          "y": 0.44000000000000006,
          "yanchor": "bottom",
          "yref": "paper"
         },
         {
          "font": {
           "size": 16
          },
          "showarrow": false,
          "text": "Inflation Rate",
          "x": 0.5,
          "xanchor": "center",
          "xref": "paper",
          "y": 0.16,
          "yanchor": "bottom",
          "yref": "paper"
         }
        ],
        "height": 1000,
        "showlegend": true,
        "template": {
         "data": {
          "bar": [
           {
            "error_x": {
             "color": "#2a3f5f"
            },
            "error_y": {
             "color": "#2a3f5f"
            },
            "marker": {
             "line": {
              "color": "#E5ECF6",
              "width": 0.5
             },
             "pattern": {
              "fillmode": "overlay",
              "size": 10,
              "solidity": 0.2
             }
            },
            "type": "bar"
           }
          ],
          "barpolar": [
           {
            "marker": {
             "line": {
              "color": "#E5ECF6",
              "width": 0.5
             },
             "pattern": {
              "fillmode": "overlay",
              "size": 10,
              "solidity": 0.2
             }
            },
            "type": "barpolar"
           }
          ],
          "carpet": [
           {
            "aaxis": {
             "endlinecolor": "#2a3f5f",
             "gridcolor": "white",
             "linecolor": "white",
             "minorgridcolor": "white",
             "startlinecolor": "#2a3f5f"
            },
            "baxis": {
             "endlinecolor": "#2a3f5f",
             "gridcolor": "white",
             "linecolor": "white",
             "minorgridcolor": "white",
             "startlinecolor": "#2a3f5f"
            },
            "type": "carpet"
           }
          ],
          "choropleth": [
           {
            "colorbar": {
             "outlinewidth": 0,
             "ticks": ""
            },
            "type": "choropleth"
           }
          ],
          "contour": [
           {
            "colorbar": {
             "outlinewidth": 0,
             "ticks": ""
            },
            "colorscale": [
             [
              0,
              "#0d0887"
             ],
             [
              0.1111111111111111,
              "#46039f"
             ],
             [
              0.2222222222222222,
              "#7201a8"
             ],
             [
              0.3333333333333333,
              "#9c179e"
             ],
             [
              0.4444444444444444,
              "#bd3786"
             ],
             [
              0.5555555555555556,
              "#d8576b"
             ],
             [
              0.6666666666666666,
              "#ed7953"
             ],
             [
              0.7777777777777778,
              "#fb9f3a"
             ],
             [
              0.8888888888888888,
              "#fdca26"
             ],
             [
              1,
              "#f0f921"
             ]
            ],
            "type": "contour"
           }
          ],
          "contourcarpet": [
           {
            "colorbar": {
             "outlinewidth": 0,
             "ticks": ""
            },
            "type": "contourcarpet"
           }
          ],
          "heatmap": [
           {
            "colorbar": {
             "outlinewidth": 0,
             "ticks": ""
            },
            "colorscale": [
             [
              0,
              "#0d0887"
             ],
             [
              0.1111111111111111,
              "#46039f"
             ],
             [
              0.2222222222222222,
              "#7201a8"
             ],
             [
              0.3333333333333333,
              "#9c179e"
             ],
             [
              0.4444444444444444,
              "#bd3786"
             ],
             [
              0.5555555555555556,
              "#d8576b"
             ],
             [
              0.6666666666666666,
              "#ed7953"
             ],
             [
              0.7777777777777778,
              "#fb9f3a"
             ],
             [
              0.8888888888888888,
              "#fdca26"
             ],
             [
              1,
              "#f0f921"
             ]
            ],
            "type": "heatmap"
           }
          ],
          "histogram": [
           {
            "marker": {
             "pattern": {
              "fillmode": "overlay",
              "size": 10,
              "solidity": 0.2
             }
            },
            "type": "histogram"
           }
          ],
          "histogram2d": [
           {
            "colorbar": {
             "outlinewidth": 0,
             "ticks": ""
            },
            "colorscale": [
             [
              0,
              "#0d0887"
             ],
             [
              0.1111111111111111,
              "#46039f"
             ],
             [
              0.2222222222222222,
              "#7201a8"
             ],
             [
              0.3333333333333333,
              "#9c179e"
             ],
             [
              0.4444444444444444,
              "#bd3786"
             ],
             [
              0.5555555555555556,
              "#d8576b"
             ],
             [
              0.6666666666666666,
              "#ed7953"
             ],
             [
              0.7777777777777778,
              "#fb9f3a"
             ],
             [
              0.8888888888888888,
              "#fdca26"
             ],
             [
              1,
              "#f0f921"
             ]
            ],
            "type": "histogram2d"
           }
          ],
          "histogram2dcontour": [
           {
            "colorbar": {
             "outlinewidth": 0,
             "ticks": ""
            },
            "colorscale": [
             [
              0,
              "#0d0887"
             ],
             [
              0.1111111111111111,
              "#46039f"
             ],
             [
              0.2222222222222222,
              "#7201a8"
             ],
             [
              0.3333333333333333,
              "#9c179e"
             ],
             [
              0.4444444444444444,
              "#bd3786"
             ],
             [
              0.5555555555555556,
              "#d8576b"
             ],
             [
              0.6666666666666666,
              "#ed7953"
             ],
             [
              0.7777777777777778,
              "#fb9f3a"
             ],
             [
              0.8888888888888888,
              "#fdca26"
             ],
             [
              1,
              "#f0f921"
             ]
            ],
            "type": "histogram2dcontour"
           }
          ],
          "mesh3d": [
           {
            "colorbar": {
             "outlinewidth": 0,
             "ticks": ""
            },
            "type": "mesh3d"
           }
          ],
          "parcoords": [
           {
            "line": {
             "colorbar": {
              "outlinewidth": 0,
              "ticks": ""
             }
            },
            "type": "parcoords"
           }
          ],
          "pie": [
           {
            "automargin": true,
            "type": "pie"
           }
          ],
          "scatter": [
           {
            "fillpattern": {
             "fillmode": "overlay",
             "size": 10,
             "solidity": 0.2
            },
            "type": "scatter"
           }
          ],
          "scatter3d": [
           {
            "line": {
             "colorbar": {
              "outlinewidth": 0,
              "ticks": ""
             }
            },
            "marker": {
             "colorbar": {
              "outlinewidth": 0,
              "ticks": ""
             }
            },
            "type": "scatter3d"
           }
          ],
          "scattercarpet": [
           {
            "marker": {
             "colorbar": {
              "outlinewidth": 0,
              "ticks": ""
             }
            },
            "type": "scattercarpet"
           }
          ],
          "scattergeo": [
           {
            "marker": {
             "colorbar": {
              "outlinewidth": 0,
              "ticks": ""
             }
            },
            "type": "scattergeo"
           }
          ],
          "scattergl": [
           {
            "marker": {
             "colorbar": {
              "outlinewidth": 0,
              "ticks": ""
             }
            },
            "type": "scattergl"
           }
          ],
          "scattermap": [
           {
            "marker": {
             "colorbar": {
              "outlinewidth": 0,
              "ticks": ""
             }
            },
            "type": "scattermap"
           }
          ],
          "scattermapbox": [
           {
            "marker": {
             "colorbar": {
              "outlinewidth": 0,
              "ticks": ""
             }
            },
            "type": "scattermapbox"
           }
          ],
          "scatterpolar": [
           {
            "marker": {
             "colorbar": {
              "outlinewidth": 0,
              "ticks": ""
             }
            },
            "type": "scatterpolar"
           }
          ],
          "scatterpolargl": [
           {
            "marker": {
             "colorbar": {
              "outlinewidth": 0,
              "ticks": ""
             }
            },
            "type": "scatterpolargl"
           }
          ],
          "scatterternary": [
           {
            "marker": {
             "colorbar": {
              "outlinewidth": 0,
              "ticks": ""
             }
            },
            "type": "scatterternary"
           }
          ],
          "surface": [
           {
            "colorbar": {
             "outlinewidth": 0,
             "ticks": ""
            },
            "colorscale": [
             [
              0,
              "#0d0887"
             ],
             [
              0.1111111111111111,
              "#46039f"
             ],
             [
              0.2222222222222222,
              "#7201a8"
             ],
             [
              0.3333333333333333,
              "#9c179e"
             ],
             [
              0.4444444444444444,
              "#bd3786"
             ],
             [
              0.5555555555555556,
              "#d8576b"
             ],
             [
              0.6666666666666666,
              "#ed7953"
             ],
             [
              0.7777777777777778,
              "#fb9f3a"
             ],
             [
              0.8888888888888888,
              "#fdca26"
             ],
             [
              1,
              "#f0f921"
             ]
            ],
            "type": "surface"
           }
          ],
          "table": [
           {
            "cells": {
             "fill": {
              "color": "#EBF0F8"
             },
             "line": {
              "color": "white"
             }
            },
            "header": {
             "fill": {
              "color": "#C8D4E3"
             },
             "line": {
              "color": "white"
             }
            },
            "type": "table"
           }
          ]
         },
         "layout": {
          "annotationdefaults": {
           "arrowcolor": "#2a3f5f",
           "arrowhead": 0,
           "arrowwidth": 1
          },
          "autotypenumbers": "strict",
          "coloraxis": {
           "colorbar": {
            "outlinewidth": 0,
            "ticks": ""
           }
          },
          "colorscale": {
           "diverging": [
            [
             0,
             "#8e0152"
            ],
            [
             0.1,
             "#c51b7d"
            ],
            [
             0.2,
             "#de77ae"
            ],
            [
             0.3,
             "#f1b6da"
            ],
            [
             0.4,
             "#fde0ef"
            ],
            [
             0.5,
             "#f7f7f7"
            ],
            [
             0.6,
             "#e6f5d0"
            ],
            [
             0.7,
             "#b8e186"
            ],
            [
             0.8,
             "#7fbc41"
            ],
            [
             0.9,
             "#4d9221"
            ],
            [
             1,
             "#276419"
            ]
           ],
           "sequential": [
            [
             0,
             "#0d0887"
            ],
            [
             0.1111111111111111,
             "#46039f"
            ],
            [
             0.2222222222222222,
             "#7201a8"
            ],
            [
             0.3333333333333333,
             "#9c179e"
            ],
            [
             0.4444444444444444,
             "#bd3786"
            ],
            [
             0.5555555555555556,
             "#d8576b"
            ],
            [
             0.6666666666666666,
             "#ed7953"
            ],
            [
             0.7777777777777778,
             "#fb9f3a"
            ],
            [
             0.8888888888888888,
             "#fdca26"
            ],
            [
             1,
             "#f0f921"
            ]
           ],
           "sequentialminus": [
            [
             0,
             "#0d0887"
            ],
            [
             0.1111111111111111,
             "#46039f"
            ],
            [
             0.2222222222222222,
             "#7201a8"
            ],
            [
             0.3333333333333333,
             "#9c179e"
            ],
            [
             0.4444444444444444,
             "#bd3786"
            ],
            [
             0.5555555555555556,
             "#d8576b"
            ],
            [
             0.6666666666666666,
             "#ed7953"
            ],
            [
             0.7777777777777778,
             "#fb9f3a"
            ],
            [
             0.8888888888888888,
             "#fdca26"
            ],
            [
             1,
             "#f0f921"
            ]
           ]
          },
          "colorway": [
           "#636efa",
           "#EF553B",
           "#00cc96",
           "#ab63fa",
           "#FFA15A",
           "#19d3f3",
           "#FF6692",
           "#B6E880",
           "#FF97FF",
           "#FECB52"
          ],
          "font": {
           "color": "#2a3f5f"
          },
          "geo": {
           "bgcolor": "white",
           "lakecolor": "white",
           "landcolor": "#E5ECF6",
           "showlakes": true,
           "showland": true,
           "subunitcolor": "white"
          },
          "hoverlabel": {
           "align": "left"
          },
          "hovermode": "closest",
          "mapbox": {
           "style": "light"
          },
          "paper_bgcolor": "white",
          "plot_bgcolor": "#E5ECF6",
          "polar": {
           "angularaxis": {
            "gridcolor": "white",
            "linecolor": "white",
            "ticks": ""
           },
           "bgcolor": "#E5ECF6",
           "radialaxis": {
            "gridcolor": "white",
            "linecolor": "white",
            "ticks": ""
           }
          },
          "scene": {
           "xaxis": {
            "backgroundcolor": "#E5ECF6",
            "gridcolor": "white",
            "gridwidth": 2,
            "linecolor": "white",
            "showbackground": true,
            "ticks": "",
            "zerolinecolor": "white"
           },
           "yaxis": {
            "backgroundcolor": "#E5ECF6",
            "gridcolor": "white",
            "gridwidth": 2,
            "linecolor": "white",
            "showbackground": true,
            "ticks": "",
            "zerolinecolor": "white"
           },
           "zaxis": {
            "backgroundcolor": "#E5ECF6",
            "gridcolor": "white",
            "gridwidth": 2,
            "linecolor": "white",
            "showbackground": true,
            "ticks": "",
            "zerolinecolor": "white"
           }
          },
          "shapedefaults": {
           "line": {
            "color": "#2a3f5f"
           }
          },
          "ternary": {
           "aaxis": {
            "gridcolor": "white",
            "linecolor": "white",
            "ticks": ""
           },
           "baxis": {
            "gridcolor": "white",
            "linecolor": "white",
            "ticks": ""
           },
           "bgcolor": "#E5ECF6",
           "caxis": {
            "gridcolor": "white",
            "linecolor": "white",
            "ticks": ""
           }
          },
          "title": {
           "x": 0.05
          },
          "xaxis": {
           "automargin": true,
           "gridcolor": "white",
           "linecolor": "white",
           "ticks": "",
           "title": {
            "standoff": 15
           },
           "zerolinecolor": "white",
           "zerolinewidth": 2
          },
          "yaxis": {
           "automargin": true,
           "gridcolor": "white",
           "linecolor": "white",
           "ticks": "",
           "title": {
            "standoff": 15
           },
           "zerolinecolor": "white",
           "zerolinewidth": 2
          }
         }
        },
        "title": {
         "font": {
          "size": 24
         },
         "text": "Iran's Economic Indicators with Major Historical Events (1960-2020)",
         "x": 0.5,
         "xanchor": "center",
         "y": 0.98,
         "yanchor": "top"
        },
        "width": 1100,
        "xaxis": {
         "anchor": "y",
         "domain": [
          0,
          1
         ],
         "gridcolor": "lightgray",
         "showgrid": true,
         "tickangle": 45,
         "title": {
          "text": "Year"
         }
        },
        "xaxis2": {
         "anchor": "y2",
         "domain": [
          0,
          1
         ],
         "gridcolor": "lightgray",
         "showgrid": true,
         "tickangle": 45,
         "title": {
          "text": "Year"
         }
        },
        "xaxis3": {
         "anchor": "y3",
         "domain": [
          0,
          1
         ],
         "gridcolor": "lightgray",
         "showgrid": true,
         "tickangle": 45,
         "title": {
          "text": "Year"
         }
        },
        "xaxis4": {
         "anchor": "y4",
         "domain": [
          0,
          1
         ],
         "gridcolor": "lightgray",
         "showgrid": true,
         "tickangle": 45,
         "title": {
          "text": "Year"
         }
        },
        "yaxis": {
         "anchor": "x",
         "domain": [
          0.84,
          1
         ],
         "gridcolor": "lightgray",
         "showgrid": true
        },
        "yaxis2": {
         "anchor": "x2",
         "domain": [
          0.56,
          0.7200000000000001
         ],
         "gridcolor": "lightgray",
         "showgrid": true
        },
        "yaxis3": {
         "anchor": "x3",
         "domain": [
          0.28,
          0.44000000000000006
         ],
         "gridcolor": "lightgray",
         "showgrid": true
        },
        "yaxis4": {
         "anchor": "x4",
         "domain": [
          0,
          0.16
         ],
         "gridcolor": "lightgray",
         "showgrid": true
        }
       }
      }
     },
     "metadata": {},
     "output_type": "display_data"
    },
    {
     "name": "stdout",
     "output_type": "stream",
     "text": [
      "\n",
      "Major Events Timeline:\n"
     ]
    },
    {
     "data": {
      "text/html": [
       "<div>\n",
       "<style scoped>\n",
       "    .dataframe tbody tr th:only-of-type {\n",
       "        vertical-align: middle;\n",
       "    }\n",
       "\n",
       "    .dataframe tbody tr th {\n",
       "        vertical-align: top;\n",
       "    }\n",
       "\n",
       "    .dataframe thead th {\n",
       "        text-align: right;\n",
       "    }\n",
       "</style>\n",
       "<table border=\"1\" class=\"dataframe\">\n",
       "  <thead>\n",
       "    <tr style=\"text-align: right;\">\n",
       "      <th></th>\n",
       "      <th>Year</th>\n",
       "      <th>Event</th>\n",
       "      <th>Category</th>\n",
       "      <th>Color</th>\n",
       "    </tr>\n",
       "  </thead>\n",
       "  <tbody>\n",
       "    <tr>\n",
       "      <th>0</th>\n",
       "      <td>1963</td>\n",
       "      <td>Shah launches \"White Revolution\" modernization...</td>\n",
       "      <td>Social</td>\n",
       "      <td>#F39C12</td>\n",
       "    </tr>\n",
       "    <tr>\n",
       "      <th>1</th>\n",
       "      <td>1978</td>\n",
       "      <td>Mass demonstrations against Shah, martial law ...</td>\n",
       "      <td>Political</td>\n",
       "      <td>#E74C3C</td>\n",
       "    </tr>\n",
       "    <tr>\n",
       "      <th>2</th>\n",
       "      <td>1979</td>\n",
       "      <td>Islamic Revolution - Shah forced into exile, I...</td>\n",
       "      <td>Political</td>\n",
       "      <td>#E74C3C</td>\n",
       "    </tr>\n",
       "    <tr>\n",
       "      <th>3</th>\n",
       "      <td>1980</td>\n",
       "      <td>Iran-Iraq war starts</td>\n",
       "      <td>Military</td>\n",
       "      <td>#8E44AD</td>\n",
       "    </tr>\n",
       "    <tr>\n",
       "      <th>4</th>\n",
       "      <td>1988</td>\n",
       "      <td>Iran-Iraq war ends with ceasefire</td>\n",
       "      <td>Military</td>\n",
       "      <td>#8E44AD</td>\n",
       "    </tr>\n",
       "    <tr>\n",
       "      <th>5</th>\n",
       "      <td>1989</td>\n",
       "      <td>Khomeini dies, Khamenei becomes supreme leader</td>\n",
       "      <td>Political</td>\n",
       "      <td>#E74C3C</td>\n",
       "    </tr>\n",
       "    <tr>\n",
       "      <th>6</th>\n",
       "      <td>1995</td>\n",
       "      <td>US imposes oil and trade sanctions</td>\n",
       "      <td>Economic</td>\n",
       "      <td>#2ECC71</td>\n",
       "    </tr>\n",
       "    <tr>\n",
       "      <th>7</th>\n",
       "      <td>2002</td>\n",
       "      <td>Bush says Iran in \"Axis of Evil\"</td>\n",
       "      <td>Diplomatic</td>\n",
       "      <td>#3498DB</td>\n",
       "    </tr>\n",
       "    <tr>\n",
       "      <th>8</th>\n",
       "      <td>2003</td>\n",
       "      <td>Iran suspends uranium enrichment program</td>\n",
       "      <td>Diplomatic</td>\n",
       "      <td>#3498DB</td>\n",
       "    </tr>\n",
       "    <tr>\n",
       "      <th>9</th>\n",
       "      <td>2005</td>\n",
       "      <td>Mahmoud Ahmadinejad becomes president</td>\n",
       "      <td>Political</td>\n",
       "      <td>#E74C3C</td>\n",
       "    </tr>\n",
       "    <tr>\n",
       "      <th>10</th>\n",
       "      <td>2009</td>\n",
       "      <td>Green Movement protests</td>\n",
       "      <td>Political</td>\n",
       "      <td>#E74C3C</td>\n",
       "    </tr>\n",
       "    <tr>\n",
       "      <th>11</th>\n",
       "      <td>2010</td>\n",
       "      <td>UN imposes new sanctions over nuclear program</td>\n",
       "      <td>Economic</td>\n",
       "      <td>#2ECC71</td>\n",
       "    </tr>\n",
       "    <tr>\n",
       "      <th>12</th>\n",
       "      <td>2012</td>\n",
       "      <td>EU oil embargo, Iranian currency (rial) falls 80%</td>\n",
       "      <td>Economic</td>\n",
       "      <td>#2ECC71</td>\n",
       "    </tr>\n",
       "    <tr>\n",
       "      <th>13</th>\n",
       "      <td>2013</td>\n",
       "      <td>Hassan Rouhani wins presidential election</td>\n",
       "      <td>Political</td>\n",
       "      <td>#E74C3C</td>\n",
       "    </tr>\n",
       "    <tr>\n",
       "      <th>14</th>\n",
       "      <td>2015</td>\n",
       "      <td>Nuclear deal reached with world powers</td>\n",
       "      <td>Diplomatic</td>\n",
       "      <td>#3498DB</td>\n",
       "    </tr>\n",
       "    <tr>\n",
       "      <th>15</th>\n",
       "      <td>2018</td>\n",
       "      <td>US withdraws from nuclear deal</td>\n",
       "      <td>Diplomatic</td>\n",
       "      <td>#3498DB</td>\n",
       "    </tr>\n",
       "    <tr>\n",
       "      <th>16</th>\n",
       "      <td>2019</td>\n",
       "      <td>\"Bloody Aban\" mass protests</td>\n",
       "      <td>Economic</td>\n",
       "      <td>#2ECC71</td>\n",
       "    </tr>\n",
       "    <tr>\n",
       "      <th>17</th>\n",
       "      <td>2020</td>\n",
       "      <td>US kills Qasem (Kotlet) Soleimani</td>\n",
       "      <td>Military</td>\n",
       "      <td>#8E44AD</td>\n",
       "    </tr>\n",
       "  </tbody>\n",
       "</table>\n",
       "</div>"
      ],
      "text/plain": [
       "    Year                                              Event    Category  \\\n",
       "0   1963  Shah launches \"White Revolution\" modernization...      Social   \n",
       "1   1978  Mass demonstrations against Shah, martial law ...   Political   \n",
       "2   1979  Islamic Revolution - Shah forced into exile, I...   Political   \n",
       "3   1980                               Iran-Iraq war starts    Military   \n",
       "4   1988                  Iran-Iraq war ends with ceasefire    Military   \n",
       "5   1989     Khomeini dies, Khamenei becomes supreme leader   Political   \n",
       "6   1995                 US imposes oil and trade sanctions    Economic   \n",
       "7   2002                   Bush says Iran in \"Axis of Evil\"  Diplomatic   \n",
       "8   2003           Iran suspends uranium enrichment program  Diplomatic   \n",
       "9   2005              Mahmoud Ahmadinejad becomes president   Political   \n",
       "10  2009                            Green Movement protests   Political   \n",
       "11  2010      UN imposes new sanctions over nuclear program    Economic   \n",
       "12  2012  EU oil embargo, Iranian currency (rial) falls 80%    Economic   \n",
       "13  2013          Hassan Rouhani wins presidential election   Political   \n",
       "14  2015             Nuclear deal reached with world powers  Diplomatic   \n",
       "15  2018                     US withdraws from nuclear deal  Diplomatic   \n",
       "16  2019                        \"Bloody Aban\" mass protests    Economic   \n",
       "17  2020                  US kills Qasem (Kotlet) Soleimani    Military   \n",
       "\n",
       "      Color  \n",
       "0   #F39C12  \n",
       "1   #E74C3C  \n",
       "2   #E74C3C  \n",
       "3   #8E44AD  \n",
       "4   #8E44AD  \n",
       "5   #E74C3C  \n",
       "6   #2ECC71  \n",
       "7   #3498DB  \n",
       "8   #3498DB  \n",
       "9   #E74C3C  \n",
       "10  #E74C3C  \n",
       "11  #2ECC71  \n",
       "12  #2ECC71  \n",
       "13  #E74C3C  \n",
       "14  #3498DB  \n",
       "15  #3498DB  \n",
       "16  #2ECC71  \n",
       "17  #8E44AD  "
      ]
     },
     "metadata": {},
     "output_type": "display_data"
    }
   ],
   "source": [
    "# Create subplots\n",
    "fig = make_subplots(\n",
    "    rows=4, cols=1,\n",
    "    subplot_titles=(\n",
    "        'GDP per capita', \n",
    "        'Government Expenditure', \n",
    "        'Trade Share',\n",
    "        'Inflation Rate'\n",
    "    ),\n",
    "    vertical_spacing=0.12,\n",
    "    horizontal_spacing=0.1\n",
    ")\n",
    "\n",
    "# Function to add traces and events to a subplot\n",
    "def add_interactive_plot(row, col, y_data, y_title):\n",
    "    # Add main line\n",
    "    fig.add_trace(\n",
    "        go.Scatter(\n",
    "            x=iran_data['Year'],\n",
    "            y=y_data,\n",
    "            name=y_title,\n",
    "            line=dict(color='#2E86C1', width=2.5),\n",
    "            showlegend=False\n",
    "        ),\n",
    "        row=row, col=col\n",
    "    )\n",
    "    \n",
    "    # Add event markers\n",
    "    for _, event in events_df.iterrows():\n",
    "        if event['Year'] in iran_data['Year'].values:\n",
    "            y_value = y_data[iran_data['Year'] == event['Year']].iloc[0]\n",
    "            \n",
    "            # Add vertical line for event\n",
    "            fig.add_trace(\n",
    "                go.Scatter(\n",
    "                    x=[event['Year'], event['Year']],\n",
    "                    y=[y_data.min(), y_data.max()],\n",
    "                    mode='lines',\n",
    "                    line=dict(color=event['Color'], width=1, dash='dash'),\n",
    "                    name=f\"{event['Year']}: {event['Event']}\",\n",
    "                    hoverinfo='name',\n",
    "                    showlegend=False\n",
    "                ),\n",
    "                row=row, col=col\n",
    "            )\n",
    "            \n",
    "            # Add hover point for event\n",
    "            fig.add_trace(\n",
    "                go.Scatter(\n",
    "                    x=[event['Year']],\n",
    "                    y=[y_value],\n",
    "                    mode='markers',\n",
    "                    marker=dict(color=event['Color'], size=8),\n",
    "                    name=f\"{event['Year']}: {event['Event']}\",\n",
    "                    text=f\"Year: {event['Year']}<br>Event: {event['Event']}<br>Value: {y_value:.2f}<br>Category: {event['Category']}\",\n",
    "                    hoverinfo='text',\n",
    "                    showlegend=False\n",
    "                ),\n",
    "                row=row, col=col\n",
    "            )\n",
    "\n",
    "# Add all subplots\n",
    "add_interactive_plot(1, 1, iran_data['GDP per capita'], 'GDP per capita')\n",
    "add_interactive_plot(2, 1, iran_data['Government expenditure (% of GDP)'], 'Government Expenditure')\n",
    "add_interactive_plot(3, 1, iran_data['Trade as a Share of GDP'], 'Trade Share')\n",
    "add_interactive_plot(4, 1, iran_data['Inflation, consumer prices (annual %)'], 'Inflation Rate')\n",
    "\n",
    "# Update layout\n",
    "fig.update_layout(\n",
    "    title=dict(\n",
    "        text=\"Iran's Economic Indicators with Major Historical Events (1960-2020)\",\n",
    "        x=0.5,\n",
    "        y=0.98,\n",
    "        xanchor='center',\n",
    "        yanchor='top',\n",
    "        font=dict(size=24)\n",
    "    ),\n",
    "    height=1000,\n",
    "    width=1100,\n",
    "    showlegend=True\n",
    ")\n",
    "\n",
    "# Update axes labels and formatting\n",
    "fig.update_xaxes(\n",
    "    title_text=\"Year\",\n",
    "    tickangle=45,\n",
    "    gridcolor='lightgray',\n",
    "    showgrid=True\n",
    ")\n",
    "\n",
    "fig.update_yaxes(\n",
    "    gridcolor='lightgray',\n",
    "    showgrid=True\n",
    ")\n",
    "\n",
    "# Add category legend\n",
    "for category, color in color_dict.items():\n",
    "    fig.add_trace(\n",
    "        go.Scatter(\n",
    "            x=[None],\n",
    "            y=[None],\n",
    "            mode='markers',\n",
    "            marker=dict(size=10, color=color),\n",
    "            name=category,\n",
    "            showlegend=True\n",
    "        )\n",
    "    )\n",
    "\n",
    "# Show the plot\n",
    "fig.show()\n",
    "\n",
    "# Display events table for reference\n",
    "print(\"\\nMajor Events Timeline:\")\n",
    "display(events_df.sort_values('Year'))"
   ]
  },
  {
   "cell_type": "code",
   "execution_count": null,
   "metadata": {},
   "outputs": [],
   "source": []
  }
 ],
 "metadata": {
  "kernelspec": {
   "display_name": "tf",
   "language": "python",
   "name": "python3"
  },
  "language_info": {
   "codemirror_mode": {
    "name": "ipython",
    "version": 3
   },
   "file_extension": ".py",
   "mimetype": "text/x-python",
   "name": "python",
   "nbconvert_exporter": "python",
   "pygments_lexer": "ipython3",
   "version": "3.9.21"
  }
 },
 "nbformat": 4,
 "nbformat_minor": 2
}
