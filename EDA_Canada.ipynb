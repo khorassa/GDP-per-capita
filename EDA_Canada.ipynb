{
 "cells": [
  {
   "cell_type": "markdown",
   "metadata": {},
   "source": [
    "## A quick look at the major economic indicators of a few countries  \n",
    "\n",
    "We start by importing the relevant libraries and the [gdp-per-capita dataset from Kaggle](https://www.kaggle.com/datasets/shaswatatripathy/gdp-per-capita-gov-expenditure-trade/data)."
   ]
  },
  {
   "cell_type": "code",
   "execution_count": 1,
   "metadata": {},
   "outputs": [
    {
     "name": "stdout",
     "output_type": "stream",
     "text": [
      "Dataset Info:\n",
      "----------------------------------------------------------------------------------------------------\n"
     ]
    },
    {
     "data": {
      "text/html": [
       "<div>\n",
       "<style scoped>\n",
       "    .dataframe tbody tr th:only-of-type {\n",
       "        vertical-align: middle;\n",
       "    }\n",
       "\n",
       "    .dataframe tbody tr th {\n",
       "        vertical-align: top;\n",
       "    }\n",
       "\n",
       "    .dataframe thead th {\n",
       "        text-align: right;\n",
       "    }\n",
       "</style>\n",
       "<table border=\"1\" class=\"dataframe\">\n",
       "  <thead>\n",
       "    <tr style=\"text-align: right;\">\n",
       "      <th></th>\n",
       "      <th>Column</th>\n",
       "      <th>Column Type</th>\n",
       "      <th>Missing Values</th>\n",
       "      <th>Total</th>\n",
       "      <th>Uniques</th>\n",
       "      <th>min</th>\n",
       "      <th>mean</th>\n",
       "      <th>median</th>\n",
       "      <th>max</th>\n",
       "    </tr>\n",
       "  </thead>\n",
       "  <tbody>\n",
       "    <tr>\n",
       "      <th>0</th>\n",
       "      <td>Entity</td>\n",
       "      <td>object</td>\n",
       "      <td>0</td>\n",
       "      <td>147615</td>\n",
       "      <td>173</td>\n",
       "      <td>NaN</td>\n",
       "      <td>NaN</td>\n",
       "      <td>NaN</td>\n",
       "      <td>NaN</td>\n",
       "    </tr>\n",
       "    <tr>\n",
       "      <th>1</th>\n",
       "      <td>GDP per capita</td>\n",
       "      <td>float64</td>\n",
       "      <td>0</td>\n",
       "      <td>147615</td>\n",
       "      <td>9710</td>\n",
       "      <td>403.601900</td>\n",
       "      <td>8770.541322</td>\n",
       "      <td>3204.651900</td>\n",
       "      <td>160051.23000</td>\n",
       "    </tr>\n",
       "    <tr>\n",
       "      <th>2</th>\n",
       "      <td>Government expenditure (% of GDP)</td>\n",
       "      <td>float64</td>\n",
       "      <td>139202</td>\n",
       "      <td>8413</td>\n",
       "      <td>8318</td>\n",
       "      <td>0.684444</td>\n",
       "      <td>23.679777</td>\n",
       "      <td>20.274118</td>\n",
       "      <td>594.76980</td>\n",
       "    </tr>\n",
       "    <tr>\n",
       "      <th>3</th>\n",
       "      <td>Inflation, consumer prices (annual %)</td>\n",
       "      <td>float64</td>\n",
       "      <td>3884</td>\n",
       "      <td>143731</td>\n",
       "      <td>7859</td>\n",
       "      <td>-17.640425</td>\n",
       "      <td>7.225029</td>\n",
       "      <td>4.652298</td>\n",
       "      <td>23773.13000</td>\n",
       "    </tr>\n",
       "    <tr>\n",
       "      <th>4</th>\n",
       "      <td>Trade as a Share of GDP</td>\n",
       "      <td>float64</td>\n",
       "      <td>3886</td>\n",
       "      <td>143729</td>\n",
       "      <td>8231</td>\n",
       "      <td>0.000000</td>\n",
       "      <td>51.509635</td>\n",
       "      <td>48.775925</td>\n",
       "      <td>442.62003</td>\n",
       "    </tr>\n",
       "    <tr>\n",
       "      <th>5</th>\n",
       "      <td>Value of global merchandise exports as a share...</td>\n",
       "      <td>float64</td>\n",
       "      <td>15019</td>\n",
       "      <td>132596</td>\n",
       "      <td>10007</td>\n",
       "      <td>0.044430</td>\n",
       "      <td>19.745334</td>\n",
       "      <td>17.700430</td>\n",
       "      <td>302.30634</td>\n",
       "    </tr>\n",
       "    <tr>\n",
       "      <th>6</th>\n",
       "      <td>Year</td>\n",
       "      <td>int64</td>\n",
       "      <td>0</td>\n",
       "      <td>147615</td>\n",
       "      <td>223</td>\n",
       "      <td>1800.000000</td>\n",
       "      <td>1995.451099</td>\n",
       "      <td>2000.000000</td>\n",
       "      <td>2022.00000</td>\n",
       "    </tr>\n",
       "  </tbody>\n",
       "</table>\n",
       "</div>"
      ],
      "text/plain": [
       "                                              Column Column Type  \\\n",
       "0                                             Entity      object   \n",
       "1                                     GDP per capita     float64   \n",
       "2                  Government expenditure (% of GDP)     float64   \n",
       "3              Inflation, consumer prices (annual %)     float64   \n",
       "4                            Trade as a Share of GDP     float64   \n",
       "5  Value of global merchandise exports as a share...     float64   \n",
       "6                                               Year       int64   \n",
       "\n",
       "   Missing Values   Total  Uniques          min         mean       median  \\\n",
       "0               0  147615      173          NaN          NaN          NaN   \n",
       "1               0  147615     9710   403.601900  8770.541322  3204.651900   \n",
       "2          139202    8413     8318     0.684444    23.679777    20.274118   \n",
       "3            3884  143731     7859   -17.640425     7.225029     4.652298   \n",
       "4            3886  143729     8231     0.000000    51.509635    48.775925   \n",
       "5           15019  132596    10007     0.044430    19.745334    17.700430   \n",
       "6               0  147615      223  1800.000000  1995.451099  2000.000000   \n",
       "\n",
       "            max  \n",
       "0           NaN  \n",
       "1  160051.23000  \n",
       "2     594.76980  \n",
       "3   23773.13000  \n",
       "4     442.62003  \n",
       "5     302.30634  \n",
       "6    2022.00000  "
      ]
     },
     "metadata": {},
     "output_type": "display_data"
    },
    {
     "name": "stdout",
     "output_type": "stream",
     "text": [
      "\n",
      "First few rows:\n",
      "----------------------------------------------------------------------------------------------------\n"
     ]
    },
    {
     "data": {
      "text/html": [
       "<div>\n",
       "<style scoped>\n",
       "    .dataframe tbody tr th:only-of-type {\n",
       "        vertical-align: middle;\n",
       "    }\n",
       "\n",
       "    .dataframe tbody tr th {\n",
       "        vertical-align: top;\n",
       "    }\n",
       "\n",
       "    .dataframe thead th {\n",
       "        text-align: right;\n",
       "    }\n",
       "</style>\n",
       "<table border=\"1\" class=\"dataframe\">\n",
       "  <thead>\n",
       "    <tr style=\"text-align: right;\">\n",
       "      <th></th>\n",
       "      <th>Entity</th>\n",
       "      <th>Year</th>\n",
       "      <th>GDP per capita</th>\n",
       "      <th>Value of global merchandise exports as a share of GDP</th>\n",
       "      <th>Government expenditure (% of GDP)</th>\n",
       "      <th>Trade as a Share of GDP</th>\n",
       "      <th>Inflation, consumer prices (annual %)</th>\n",
       "    </tr>\n",
       "  </thead>\n",
       "  <tbody>\n",
       "    <tr>\n",
       "      <th>0</th>\n",
       "      <td>Afghanistan</td>\n",
       "      <td>2005</td>\n",
       "      <td>964.4081</td>\n",
       "      <td>6.11945</td>\n",
       "      <td>NaN</td>\n",
       "      <td>NaN</td>\n",
       "      <td>12.686269</td>\n",
       "    </tr>\n",
       "    <tr>\n",
       "      <th>1</th>\n",
       "      <td>Afghanistan</td>\n",
       "      <td>2006</td>\n",
       "      <td>1057.0966</td>\n",
       "      <td>5.89436</td>\n",
       "      <td>NaN</td>\n",
       "      <td>NaN</td>\n",
       "      <td>6.784596</td>\n",
       "    </tr>\n",
       "    <tr>\n",
       "      <th>2</th>\n",
       "      <td>Afghanistan</td>\n",
       "      <td>2007</td>\n",
       "      <td>1259.9967</td>\n",
       "      <td>4.61202</td>\n",
       "      <td>NaN</td>\n",
       "      <td>NaN</td>\n",
       "      <td>8.680571</td>\n",
       "    </tr>\n",
       "    <tr>\n",
       "      <th>3</th>\n",
       "      <td>Afghanistan</td>\n",
       "      <td>2008</td>\n",
       "      <td>1319.6074</td>\n",
       "      <td>5.11368</td>\n",
       "      <td>NaN</td>\n",
       "      <td>NaN</td>\n",
       "      <td>26.418665</td>\n",
       "    </tr>\n",
       "    <tr>\n",
       "      <th>4</th>\n",
       "      <td>Afghanistan</td>\n",
       "      <td>2009</td>\n",
       "      <td>1557.3207</td>\n",
       "      <td>3.93394</td>\n",
       "      <td>NaN</td>\n",
       "      <td>NaN</td>\n",
       "      <td>-6.811161</td>\n",
       "    </tr>\n",
       "  </tbody>\n",
       "</table>\n",
       "</div>"
      ],
      "text/plain": [
       "        Entity  Year  GDP per capita  \\\n",
       "0  Afghanistan  2005        964.4081   \n",
       "1  Afghanistan  2006       1057.0966   \n",
       "2  Afghanistan  2007       1259.9967   \n",
       "3  Afghanistan  2008       1319.6074   \n",
       "4  Afghanistan  2009       1557.3207   \n",
       "\n",
       "   Value of global merchandise exports as a share of GDP  \\\n",
       "0                                            6.11945       \n",
       "1                                            5.89436       \n",
       "2                                            4.61202       \n",
       "3                                            5.11368       \n",
       "4                                            3.93394       \n",
       "\n",
       "   Government expenditure (% of GDP)  Trade as a Share of GDP  \\\n",
       "0                                NaN                      NaN   \n",
       "1                                NaN                      NaN   \n",
       "2                                NaN                      NaN   \n",
       "3                                NaN                      NaN   \n",
       "4                                NaN                      NaN   \n",
       "\n",
       "   Inflation, consumer prices (annual %)  \n",
       "0                              12.686269  \n",
       "1                               6.784596  \n",
       "2                               8.680571  \n",
       "3                              26.418665  \n",
       "4                              -6.811161  "
      ]
     },
     "metadata": {},
     "output_type": "display_data"
    }
   ],
   "source": [
    "import pandas as pd\n",
    "import numpy as np\n",
    "import matplotlib.pyplot as plt\n",
    "import seaborn as sns\n",
    "import plotly.graph_objects as go\n",
    "from plotly.subplots import make_subplots\n",
    "\n",
    "# Set style for better visualizations\n",
    "plt.style.use('fast')\n",
    "sns.set_palette('husl')\n",
    "\n",
    "# Read the dataset\n",
    "dfgdp = pd.read_csv('gdp_per_capita.csv')\n",
    "dfgdp = dfgdp.drop(columns=[\"Code\"]) # useless column\n",
    "summary = pd.DataFrame({\n",
    "    'Column Type': dfgdp.dtypes,\n",
    "    'Missing Values': dfgdp.isnull().sum(),\n",
    "    'Total': dfgdp.count(),\n",
    "    'Uniques': dfgdp.nunique(),\n",
    "    'min': dfgdp.min(numeric_only=True),\n",
    "    'mean': dfgdp.mean(numeric_only=True),\n",
    "    'median': dfgdp.median(numeric_only=True),\n",
    "    'max': dfgdp.max(numeric_only=True)\n",
    "}).reset_index().rename(columns={'index': 'Column'})\n",
    "\n",
    "# Display basic information\n",
    "print(\"Dataset Info:\")\n",
    "print(\"-\" * 100)\n",
    "display(summary)\n",
    "\n",
    "print(\"\\nFirst few rows:\")\n",
    "print(\"-\" * 100)\n",
    "display(dfgdp.head())"
   ]
  },
  {
   "cell_type": "markdown",
   "metadata": {},
   "source": [
    "In this notebook we'll look at Canada's data, with some of its major historical events. Note that these events are not an exhaustive list of influential events. "
   ]
  },
  {
   "cell_type": "code",
   "execution_count": 2,
   "metadata": {},
   "outputs": [
    {
     "name": "stdout",
     "output_type": "stream",
     "text": [
      "Canada Dataset Info:\n",
      "----------------------------------------------------------------------------------------------------\n"
     ]
    },
    {
     "data": {
      "text/html": [
       "<div>\n",
       "<style scoped>\n",
       "    .dataframe tbody tr th:only-of-type {\n",
       "        vertical-align: middle;\n",
       "    }\n",
       "\n",
       "    .dataframe tbody tr th {\n",
       "        vertical-align: top;\n",
       "    }\n",
       "\n",
       "    .dataframe thead th {\n",
       "        text-align: right;\n",
       "    }\n",
       "</style>\n",
       "<table border=\"1\" class=\"dataframe\">\n",
       "  <thead>\n",
       "    <tr style=\"text-align: right;\">\n",
       "      <th></th>\n",
       "      <th>Column</th>\n",
       "      <th>Column Type</th>\n",
       "      <th>Missing Values</th>\n",
       "      <th>Total</th>\n",
       "      <th>Uniques</th>\n",
       "      <th>min</th>\n",
       "      <th>mean</th>\n",
       "      <th>median</th>\n",
       "      <th>max</th>\n",
       "    </tr>\n",
       "  </thead>\n",
       "  <tbody>\n",
       "    <tr>\n",
       "      <th>0</th>\n",
       "      <td>Entity</td>\n",
       "      <td>object</td>\n",
       "      <td>0</td>\n",
       "      <td>153</td>\n",
       "      <td>1</td>\n",
       "      <td>NaN</td>\n",
       "      <td>NaN</td>\n",
       "      <td>NaN</td>\n",
       "      <td>NaN</td>\n",
       "    </tr>\n",
       "    <tr>\n",
       "      <th>1</th>\n",
       "      <td>GDP per capita</td>\n",
       "      <td>float64</td>\n",
       "      <td>0</td>\n",
       "      <td>153</td>\n",
       "      <td>152</td>\n",
       "      <td>2609.000000</td>\n",
       "      <td>16600.027850</td>\n",
       "      <td>11298.000000</td>\n",
       "      <td>45529.645000</td>\n",
       "    </tr>\n",
       "    <tr>\n",
       "      <th>2</th>\n",
       "      <td>Government expenditure (% of GDP)</td>\n",
       "      <td>float64</td>\n",
       "      <td>0</td>\n",
       "      <td>153</td>\n",
       "      <td>153</td>\n",
       "      <td>2.018480</td>\n",
       "      <td>23.415920</td>\n",
       "      <td>15.317500</td>\n",
       "      <td>53.340900</td>\n",
       "    </tr>\n",
       "    <tr>\n",
       "      <th>3</th>\n",
       "      <td>Inflation, consumer prices (annual %)</td>\n",
       "      <td>float64</td>\n",
       "      <td>90</td>\n",
       "      <td>63</td>\n",
       "      <td>63</td>\n",
       "      <td>0.165563</td>\n",
       "      <td>3.741172</td>\n",
       "      <td>2.525120</td>\n",
       "      <td>12.471612</td>\n",
       "    </tr>\n",
       "    <tr>\n",
       "      <th>4</th>\n",
       "      <td>Trade as a Share of GDP</td>\n",
       "      <td>float64</td>\n",
       "      <td>91</td>\n",
       "      <td>62</td>\n",
       "      <td>62</td>\n",
       "      <td>35.331780</td>\n",
       "      <td>56.269858</td>\n",
       "      <td>53.191562</td>\n",
       "      <td>82.765360</td>\n",
       "    </tr>\n",
       "    <tr>\n",
       "      <th>5</th>\n",
       "      <td>Value of global merchandise exports as a share...</td>\n",
       "      <td>float64</td>\n",
       "      <td>8</td>\n",
       "      <td>145</td>\n",
       "      <td>145</td>\n",
       "      <td>11.799010</td>\n",
       "      <td>20.975183</td>\n",
       "      <td>19.652910</td>\n",
       "      <td>37.867080</td>\n",
       "    </tr>\n",
       "    <tr>\n",
       "      <th>6</th>\n",
       "      <td>Year</td>\n",
       "      <td>int64</td>\n",
       "      <td>0</td>\n",
       "      <td>153</td>\n",
       "      <td>153</td>\n",
       "      <td>1870.000000</td>\n",
       "      <td>1946.000000</td>\n",
       "      <td>1946.000000</td>\n",
       "      <td>2022.000000</td>\n",
       "    </tr>\n",
       "  </tbody>\n",
       "</table>\n",
       "</div>"
      ],
      "text/plain": [
       "                                              Column Column Type  \\\n",
       "0                                             Entity      object   \n",
       "1                                     GDP per capita     float64   \n",
       "2                  Government expenditure (% of GDP)     float64   \n",
       "3              Inflation, consumer prices (annual %)     float64   \n",
       "4                            Trade as a Share of GDP     float64   \n",
       "5  Value of global merchandise exports as a share...     float64   \n",
       "6                                               Year       int64   \n",
       "\n",
       "   Missing Values  Total  Uniques          min          mean        median  \\\n",
       "0               0    153        1          NaN           NaN           NaN   \n",
       "1               0    153      152  2609.000000  16600.027850  11298.000000   \n",
       "2               0    153      153     2.018480     23.415920     15.317500   \n",
       "3              90     63       63     0.165563      3.741172      2.525120   \n",
       "4              91     62       62    35.331780     56.269858     53.191562   \n",
       "5               8    145      145    11.799010     20.975183     19.652910   \n",
       "6               0    153      153  1870.000000   1946.000000   1946.000000   \n",
       "\n",
       "            max  \n",
       "0           NaN  \n",
       "1  45529.645000  \n",
       "2     53.340900  \n",
       "3     12.471612  \n",
       "4     82.765360  \n",
       "5     37.867080  \n",
       "6   2022.000000  "
      ]
     },
     "metadata": {},
     "output_type": "display_data"
    }
   ],
   "source": [
    "# Plot GDP per capita\n",
    "can_data = dfgdp[dfgdp['Entity'] == 'Canada']\n",
    "summary = pd.DataFrame({\n",
    "    'Column Type': can_data.dtypes,\n",
    "    'Missing Values': can_data.isnull().sum(),\n",
    "    'Total': can_data.count(),\n",
    "    'Uniques': can_data.nunique(),\n",
    "    'min': can_data.min(numeric_only=True),\n",
    "    'mean': can_data.mean(numeric_only=True),\n",
    "    'median': can_data.median(numeric_only=True),\n",
    "    'max': can_data.max(numeric_only=True)\n",
    "}).reset_index().rename(columns={'index': 'Column'})\n",
    "\n",
    "# Display basic information\n",
    "print(\"Canada Dataset Info:\")\n",
    "print(\"-\" * 100)\n",
    "display(summary)"
   ]
  },
  {
   "cell_type": "code",
   "execution_count": 3,
   "metadata": {},
   "outputs": [
    {
     "data": {
      "image/png": "[encoded data removed]",
      "text/plain": [
       "<Figure size 1500x1200 with 1 Axes>"
      ]
     },
     "metadata": {},
     "output_type": "display_data"
    }
   ],
   "source": [
    "# Now let's create a visualization that combines economic indicators with major events\n",
    "plt.figure(figsize=(15, 12))\n",
    "plt.rcParams[\"font.family\"] = \"Times New Roman\"\n",
    "\n",
    "plt.plot(can_data['Year'], can_data['GDP per capita'], label='GDP per capita', marker='o', markersize=10)\n",
    "axes = plt.gca()\n",
    "# Add vertical lines for major events\n",
    "\n",
    "plt.title(\"Canada's GDP per capita\", fontsize=22)\n",
    "plt.xlabel('Year', fontsize=20)\n",
    "plt.ylabel('GDP per capita', fontsize=20)\n",
    "plt.xticks(np.arange(can_data['Year'].min(), \n",
    "                     can_data['Year'].max()+1, \n",
    "                     5),  # Show tick every 5 years\n",
    "           rotation=45, \n",
    "           fontsize=14)\n",
    "plt.yticks(fontsize=14)\n",
    "plt.tight_layout()\n",
    "plt.show()"
   ]
  },
  {
   "cell_type": "markdown",
   "metadata": {},
   "source": [
    "Events extracted from Wikipedia and other sources using Gen AI"
   ]
  },
  {
   "cell_type": "code",
   "execution_count": 4,
   "metadata": {},
   "outputs": [],
   "source": [
    "canada_events = [\n",
    "    {\"Year\": 1871, \"Event\": \"British Columbia joins Canada, expands Pacific access\", \"Event Category\": \"Political\"},\n",
    "    {\"Year\": 1873, \"Event\": \"Prince Edward Island joins Canadian Confederation\", \"Event Category\": \"Political\"},\n",
    "    {\"Year\": 1879, \"Event\": \"National Policy introduces protective industry tariffs\", \"Event Category\": \"Economic\"},\n",
    "    {\"Year\": 1885, \"Event\": \"Canadian Pacific Railway connects coast to coast\", \"Event Category\": \"Economic\"},\n",
    "    {\"Year\": 1896, \"Event\": \"Klondike Gold Rush sparks economic boom\", \"Event Category\": \"Economic\"},\n",
    "    {\"Year\": 1905, \"Event\": \"Alberta and Saskatchewan become new provinces\", \"Event Category\": \"Political\"},\n",
    "    {\"Year\": 1914, \"Event\": \"WWI boosts manufacturing and war production\", \"Event Category\": \"Military\"},\n",
    "    {\"Year\": 1917, \"Event\": \"Income tax introduced for war funding\", \"Event Category\": \"Economic\"},\n",
    "    {\"Year\": 1929, \"Event\": \"Great Depression causes widespread economic hardship\", \"Event Category\": \"Economic\"},\n",
    "    {\"Year\": 1939, \"Event\": \"WWII begins\", \"Event Category\": \"Military\"},\n",
    "    {\"Year\": 1940, \"Event\": \"National unemployment insurance system established\", \"Event Category\": \"Social\"},\n",
    "    {\"Year\": 1945, \"Event\": \"Post-war boom drives industrial growth\", \"Event Category\": \"Economic\"},\n",
    "    {\"Year\": 1965, \"Event\": \"Auto Pact integrates US-Canada automotive industries\", \"Event Category\": \"Diplomatic\"},\n",
    "    {\"Year\": 1973, \"Event\": \"Oil crisis triggers inflation and reforms\", \"Event Category\": \"Economic\"},\n",
    "    {\"Year\": 1981, \"Event\": \"Recession hits with high interest rates\", \"Event Category\": \"Economic\"},\n",
    "    {\"Year\": 1989, \"Event\": \"US-Canada Free Trade Agreement reduces barriers\", \"Event Category\": \"Diplomatic\"},\n",
    "    {\"Year\": 1994, \"Event\": \"NAFTA expands North American trade relations\", \"Event Category\": \"Diplomatic\"},\n",
    "    {\"Year\": 1997, \"Event\": \"Federal budget balanced after thirty years\", \"Event Category\": \"Economic\"},\n",
    "    {\"Year\": 2008, \"Event\": \"Canada weathers global financial crisis well\", \"Event Category\": \"Economic\"},\n",
    "    {\"Year\": 2015, \"Event\": \"National carbon pricing strategy implemented\", \"Event Category\": \"Political\"},\n",
    "    {\"Year\": 2018, \"Event\": \"Cannabis legalization creates new tax revenue\", \"Event Category\": \"Social\"},\n",
    "    {\"Year\": 2020, \"Event\": \"COVID-19 triggers emergency financial support\", \"Event Category\": \"Social\"},\n",
    "    {\"Year\": 2021, \"Event\": \"Economy recovers with 4.6% GDP growth\", \"Event Category\": \"Economic\"},\n",
    "    {\"Year\": 2022, \"Event\": \"High inflation prompts interest rate increases\", \"Event Category\": \"Economic\"}\n",
    "]"
   ]
  },
  {
   "cell_type": "markdown",
   "metadata": {},
   "source": [
    "Adding color coding based on event categories"
   ]
  },
  {
   "cell_type": "code",
   "execution_count": 5,
   "metadata": {},
   "outputs": [],
   "source": [
    "can_events = pd.DataFrame(canada_events)\n",
    "\n",
    "color_dict = {\n",
    "    'Political': '#E74C3C',    # Red\n",
    "    'Economic': '#2ECC71',     # Green\n",
    "    'Military': '#8E44AD',     # Purple\n",
    "    'Diplomatic': '#3498DB',   # Blue\n",
    "    'Social': '#F39C12',       # Orange\n",
    "}\n",
    "\n",
    "# Create the color list based on categories\n",
    "event_colors = [color_dict[cat] for cat in can_events['Event Category']]\n",
    "\n",
    "# Add these as new columns to the events_df\n",
    "can_events['Color'] = event_colors"
   ]
  },
  {
   "cell_type": "markdown",
   "metadata": {},
   "source": [
    "Adding other data and making an interactive plot"
   ]
  },
  {
   "cell_type": "code",
   "execution_count": 8,
   "metadata": {},
   "outputs": [
    {
     "data": {
      "application/vnd.plotly.v1+json": {
       "config": {
        "plotlyServerURL": "https://plot.ly"
       },
       "data": [
        {
         "line": {
          "color": "#2E86C1",
          "width": 2.5
         },
         "name": "GDP per capita",
         "showlegend": false,
         "type": "scatter",
         "x": {
          "bdata": "qAepB6oHqwesB60HrgevB7AHsQeyB7MHtAe1B7YHtwe4B7kHuge7B7wHvQe+B78HwAfBB8IHwwfEB8UHxgfHB8gHyQfKB8sHzAfNB84HzwfQB9EH0gfTB9QH1QfWB9cH2AfZB9oH2wfcB90H3gffB+AH4QfiB+MH5AflB+YH",
          "dtype": "i2"
         },
         "xaxis": "x",
         "y": {
          "bdata": "AAAAAABAy0AAAAAAAIDLQAAAAACA4cxAAAAAAADIzUAAAAAAACHPQAAAAACATdBAAAAAAAAK0UAAAAAAgD7RQAAAAABA3tFAAAAAAACL0kAAAAAAwMHSQAAAAAAAjtNAAAAAAEBZ1EAAAAAAgIrVQAAAAADAHNZAAAAAAMBI1kAAAAAAgDLXQAAAAABAstdAAAAAAIBo2EAAAAAAwCvZQAAAAAAALtlAAAAAAACk2UAAAAAAwI/YQAAAAABABtlAAAAAAAA12kAAAAAAQF7bQAAAAAAAzttAAAAAAICP3EAAAAAAwJDdQAAAAACAvt1AAAAAAIBg3UBU46Wb7HfcQGIQWDlMddxA+n5qvGT23EBU46WbdAbeQEjhehSumN5AaJHtfI/a3kBiEFg5bPHfQFpkO983f+BAYOXQIjdC4UCLbOf70QniQMl2vp9mN+JA4XoUrn+d4kAGgZVD/9PiQNejcD1ySONAPQrXo6DE40DNzMzM5CPkQA4tsp3baeRAg8DKoQ115EBxPQrXE6/jQIPAyqEtH+RAAAAAAKCa5EC6SQwCi73kQPYoXI8aAOVArkfhehRj5UCgGi/dMF7lQPYoXI/CVuVAoBov3bS55UDy0k1i/APmQBSuR+GGHOZAj8L1KLS/5EC6SQwCc6vlQD0K16M0O+ZA",
          "dtype": "f8"
         },
         "yaxis": "y"
        },
        {
         "hoverinfo": "name",
         "line": {
          "color": "#3498DB",
          "dash": "dash",
          "width": 1
         },
         "mode": "lines",
         "name": "1965: Auto Pact integrates US-Canada automotive industries",
         "showlegend": false,
         "type": "scatter",
         "x": [
          1965,
          1965
         ],
         "xaxis": "x",
         "y": [
          13952,
          45529.645
         ],
         "yaxis": "y"
        },
        {
         "hoverinfo": "text",
         "marker": {
          "color": "#3498DB",
          "size": 8
         },
         "mode": "markers",
         "name": "1965: Auto Pact integrates US-Canada automotive industries",
         "showlegend": false,
         "text": "Year: 1965<br>Event: Auto Pact integrates US-Canada automotive industries<br>Value: 16694.00<br>Category: Diplomatic",
         "type": "scatter",
         "x": [
          1965
         ],
         "xaxis": "x",
         "y": [
          16694
         ],
         "yaxis": "y"
        },
        {
         "hoverinfo": "name",
         "line": {
          "color": "#2ECC71",
          "dash": "dash",
          "width": 1
         },
         "mode": "lines",
         "name": "1973: Oil crisis triggers inflation and reforms",
         "showlegend": false,
         "type": "scatter",
         "x": [
          1973,
          1973
         ],
         "xaxis": "x",
         "y": [
          13952,
          45529.645
         ],
         "yaxis": "y"
        },
        {
         "hoverinfo": "text",
         "marker": {
          "color": "#2ECC71",
          "size": 8
         },
         "mode": "markers",
         "name": "1973: Oil crisis triggers inflation and reforms",
         "showlegend": false,
         "text": "Year: 1973<br>Event: Oil crisis triggers inflation and reforms<br>Value: 22058.00<br>Category: Economic",
         "type": "scatter",
         "x": [
          1973
         ],
         "xaxis": "x",
         "y": [
          22058
         ],
         "yaxis": "y"
        },
        {
         "hoverinfo": "name",
         "line": {
          "color": "#2ECC71",
          "dash": "dash",
          "width": 1
         },
         "mode": "lines",
         "name": "1981: Recession hits with high interest rates",
         "showlegend": false,
         "type": "scatter",
         "x": [
          1981,
          1981
         ],
         "xaxis": "x",
         "y": [
          13952,
          45529.645
         ],
         "yaxis": "y"
        },
        {
         "hoverinfo": "text",
         "marker": {
          "color": "#2ECC71",
          "size": 8
         },
         "mode": "markers",
         "name": "1981: Recession hits with high interest rates",
         "showlegend": false,
         "text": "Year: 1981<br>Event: Recession hits with high interest rates<br>Value: 26256.00<br>Category: Economic",
         "type": "scatter",
         "x": [
          1981
         ],
         "xaxis": "x",
         "y": [
          26256
         ],
         "yaxis": "y"
        },
        {
         "hoverinfo": "name",
         "line": {
          "color": "#3498DB",
          "dash": "dash",
          "width": 1
         },
         "mode": "lines",
         "name": "1989: US-Canada Free Trade Agreement reduces barriers",
         "showlegend": false,
         "type": "scatter",
         "x": [
          1989,
          1989
         ],
         "xaxis": "x",
         "y": [
          13952,
          45529.645
         ],
         "yaxis": "y"
        },
        {
         "hoverinfo": "text",
         "marker": {
          "color": "#3498DB",
          "size": 8
         },
         "mode": "markers",
         "name": "1989: US-Canada Free Trade Agreement reduces barriers",
         "showlegend": false,
         "text": "Year: 1989<br>Event: US-Canada Free Trade Agreement reduces barriers<br>Value: 30458.00<br>Category: Diplomatic",
         "type": "scatter",
         "x": [
          1989
         ],
         "xaxis": "x",
         "y": [
          30458
         ],
         "yaxis": "y"
        },
        {
         "hoverinfo": "name",
         "line": {
          "color": "#3498DB",
          "dash": "dash",
          "width": 1
         },
         "mode": "lines",
         "name": "1994: NAFTA expands North American trade relations",
         "showlegend": false,
         "type": "scatter",
         "x": [
          1994,
          1994
         ],
         "xaxis": "x",
         "y": [
          13952,
          45529.645
         ],
         "yaxis": "y"
        },
        {
         "hoverinfo": "text",
         "marker": {
          "color": "#3498DB",
          "size": 8
         },
         "mode": "markers",
         "name": "1994: NAFTA expands North American trade relations",
         "showlegend": false,
         "text": "Year: 1994<br>Event: NAFTA expands North American trade relations<br>Value: 30745.82<br>Category: Diplomatic",
         "type": "scatter",
         "x": [
          1994
         ],
         "xaxis": "x",
         "y": [
          30745.822
         ],
         "yaxis": "y"
        },
        {
         "hoverinfo": "name",
         "line": {
          "color": "#2ECC71",
          "dash": "dash",
          "width": 1
         },
         "mode": "lines",
         "name": "1997: Federal budget balanced after thirty years",
         "showlegend": false,
         "type": "scatter",
         "x": [
          1997,
          1997
         ],
         "xaxis": "x",
         "y": [
          13952,
          45529.645
         ],
         "yaxis": "y"
        },
        {
         "hoverinfo": "text",
         "marker": {
          "color": "#2ECC71",
          "size": 8
         },
         "mode": "markers",
         "name": "1997: Federal budget balanced after thirty years",
         "showlegend": false,
         "text": "Year: 1997<br>Event: Federal budget balanced after thirty years<br>Value: 32709.69<br>Category: Economic",
         "type": "scatter",
         "x": [
          1997
         ],
         "xaxis": "x",
         "y": [
          32709.691
         ],
         "yaxis": "y"
        },
        {
         "hoverinfo": "name",
         "line": {
          "color": "#2ECC71",
          "dash": "dash",
          "width": 1
         },
         "mode": "lines",
         "name": "2008: Canada weathers global financial crisis well",
         "showlegend": false,
         "type": "scatter",
         "x": [
          2008,
          2008
         ],
         "xaxis": "x",
         "y": [
          13952,
          45529.645
         ],
         "yaxis": "y"
        },
        {
         "hoverinfo": "text",
         "marker": {
          "color": "#2ECC71",
          "size": 8
         },
         "mode": "markers",
         "name": "2008: Canada weathers global financial crisis well",
         "showlegend": false,
         "text": "Year: 2008<br>Event: Canada weathers global financial crisis well<br>Value: 41896.43<br>Category: Economic",
         "type": "scatter",
         "x": [
          2008
         ],
         "xaxis": "x",
         "y": [
          41896.426
         ],
         "yaxis": "y"
        },
        {
         "hoverinfo": "name",
         "line": {
          "color": "#E74C3C",
          "dash": "dash",
          "width": 1
         },
         "mode": "lines",
         "name": "2015: National carbon pricing strategy implemented",
         "showlegend": false,
         "type": "scatter",
         "x": [
          2015,
          2015
         ],
         "xaxis": "x",
         "y": [
          13952,
          45529.645
         ],
         "yaxis": "y"
        },
        {
         "hoverinfo": "text",
         "marker": {
          "color": "#E74C3C",
          "size": 8
         },
         "mode": "markers",
         "name": "2015: National carbon pricing strategy implemented",
         "showlegend": false,
         "text": "Year: 2015<br>Event: National carbon pricing strategy implemented<br>Value: 43761.53<br>Category: Political",
         "type": "scatter",
         "x": [
          2015
         ],
         "xaxis": "x",
         "y": [
          43761.527
         ],
         "yaxis": "y"
        },
        {
         "hoverinfo": "name",
         "line": {
          "color": "#F39C12",
          "dash": "dash",
          "width": 1
         },
         "mode": "lines",
         "name": "2018: Cannabis legalization creates new tax revenue",
         "showlegend": false,
         "type": "scatter",
         "x": [
          2018,
          2018
         ],
         "xaxis": "x",
         "y": [
          13952,
          45529.645
         ],
         "yaxis": "y"
        },
        {
         "hoverinfo": "text",
         "marker": {
          "color": "#F39C12",
          "size": 8
         },
         "mode": "markers",
         "name": "2018: Cannabis legalization creates new tax revenue",
         "showlegend": false,
         "text": "Year: 2018<br>Event: Cannabis legalization creates new tax revenue<br>Value: 45087.89<br>Category: Social",
         "type": "scatter",
         "x": [
          2018
         ],
         "xaxis": "x",
         "y": [
          45087.887
         ],
         "yaxis": "y"
        },
        {
         "hoverinfo": "name",
         "line": {
          "color": "#F39C12",
          "dash": "dash",
          "width": 1
         },
         "mode": "lines",
         "name": "2020: COVID-19 triggers emergency financial support",
         "showlegend": false,
         "type": "scatter",
         "x": [
          2020,
          2020
         ],
         "xaxis": "x",
         "y": [
          13952,
          45529.645
         ],
         "yaxis": "y"
        },
        {
         "hoverinfo": "text",
         "marker": {
          "color": "#F39C12",
          "size": 8
         },
         "mode": "markers",
         "name": "2020: COVID-19 triggers emergency financial support",
         "showlegend": false,
         "text": "Year: 2020<br>Event: COVID-19 triggers emergency financial support<br>Value: 42493.63<br>Category: Social",
         "type": "scatter",
         "x": [
          2020
         ],
         "xaxis": "x",
         "y": [
          42493.63
         ],
         "yaxis": "y"
        },
        {
         "hoverinfo": "name",
         "line": {
          "color": "#2ECC71",
          "dash": "dash",
          "width": 1
         },
         "mode": "lines",
         "name": "2021: Economy recovers with 4.6% GDP growth",
         "showlegend": false,
         "type": "scatter",
         "x": [
          2021,
          2021
         ],
         "xaxis": "x",
         "y": [
          13952,
          45529.645
         ],
         "yaxis": "y"
        },
        {
         "hoverinfo": "text",
         "marker": {
          "color": "#2ECC71",
          "size": 8
         },
         "mode": "markers",
         "name": "2021: Economy recovers with 4.6% GDP growth",
         "showlegend": false,
         "text": "Year: 2021<br>Event: Economy recovers with 4.6% GDP growth<br>Value: 44379.59<br>Category: Economic",
         "type": "scatter",
         "x": [
          2021
         ],
         "xaxis": "x",
         "y": [
          44379.594
         ],
         "yaxis": "y"
        },
        {
         "hoverinfo": "name",
         "line": {
          "color": "#2ECC71",
          "dash": "dash",
          "width": 1
         },
         "mode": "lines",
         "name": "2022: High inflation prompts interest rate increases",
         "showlegend": false,
         "type": "scatter",
         "x": [
          2022,
          2022
         ],
         "xaxis": "x",
         "y": [
          13952,
          45529.645
         ],
         "yaxis": "y"
        },
        {
         "hoverinfo": "text",
         "marker": {
          "color": "#2ECC71",
          "size": 8
         },
         "mode": "markers",
         "name": "2022: High inflation prompts interest rate increases",
         "showlegend": false,
         "text": "Year: 2022<br>Event: High inflation prompts interest rate increases<br>Value: 45529.64<br>Category: Economic",
         "type": "scatter",
         "x": [
          2022
         ],
         "xaxis": "x",
         "y": [
          45529.645
         ],
         "yaxis": "y"
        },
        {
         "line": {
          "color": "#2E86C1",
          "width": 2.5
         },
         "name": "Government Expenditure",
         "showlegend": false,
         "type": "scatter",
         "x": {
          "bdata": "qAepB6oHqwesB60HrgevB7AHsQeyB7MHtAe1B7YHtwe4B7kHuge7B7wHvQe+B78HwAfBB8IHwwfEB8UHxgfHB8gHyQfKB8sHzAfNB84HzwfQB9EH0gfTB9QH1QfWB9cH2AfZB9oH2wfcB90H3gffB+AH4QfiB+MH5AflB+YH",
          "dtype": "i2"
         },
         "xaxis": "x2",
         "y": {
          "bdata": "liGOdXHbLUDDZKpgVKI+QG3F/rJ7oj5ASnuDL0xGPkDuWkI+6Kk9QI4G8BZI0D1A/mX35GHBPkBmiGNd3G5AQJM6AU2E5UBAjSjtDb74QEBPQBNhwwNCQHZxGw3gpUJAeVioNc3DQkCAt0CC4v9BQHqlLEMcy0JAyjLEsS6OREBSJ6CJsBlEQFfsL7snt0RA5j+k377OREAFo5I6AQVEQIJzRpT2xkRA3SQGgZU7RUApXI/C9aBHQCgPC7Wm8UdAB/AWSFDER0DKVMGopCZIQHzysFBrykdAHcnlP6QHR0AvbqMBvK1GQN6Th4Va60ZASS7/If1mSECoV8oyxCFKQGuad5yiq0pAW0I+6NkcSkCfq63YX95IQFpkO99PPUhANKK0N/hKR0BsCfmgZyNGQOcdp+hIZkZAK/aX3ZNXRUBLWYY41o1EQPBQFOgTjURAa7sJvmkyREDI6lbPSSNEQM++8iA9kUNAGCZTBaNCQ0B+NnLdlFRDQCAL0SFwQkNA628JwD9jQ0Bg5dAi27VFQOJa7WEviEVA76zddqHJREAjMqzijXZEQDNuaqD5+kNAq1yo/GsvQ0BgWP58WwJEQO2ZJQFqYERAezNqvko6REC4QILix1REQP2fw3x5S0RAn3djQWEuSkDZQpCDErhGQJynOuRmhERA",
          "dtype": "f8"
         },
         "yaxis": "y2"
        },
        {
         "hoverinfo": "name",
         "line": {
          "color": "#3498DB",
          "dash": "dash",
          "width": 1
         },
         "mode": "lines",
         "name": "1965: Auto Pact integrates US-Canada automotive industries",
         "showlegend": false,
         "type": "scatter",
         "x": [
          1965,
          1965
         ],
         "xaxis": "x2",
         "y": [
          14.9286,
          53.3409
         ],
         "yaxis": "y2"
        },
        {
         "hoverinfo": "text",
         "marker": {
          "color": "#3498DB",
          "size": 8
         },
         "mode": "markers",
         "name": "1965: Auto Pact integrates US-Canada automotive industries",
         "showlegend": false,
         "text": "Year: 1965<br>Event: Auto Pact integrates US-Canada automotive industries<br>Value: 29.81<br>Category: Diplomatic",
         "type": "scatter",
         "x": [
          1965
         ],
         "xaxis": "x2",
         "y": [
          29.8136
         ],
         "yaxis": "y2"
        },
        {
         "hoverinfo": "name",
         "line": {
          "color": "#2ECC71",
          "dash": "dash",
          "width": 1
         },
         "mode": "lines",
         "name": "1973: Oil crisis triggers inflation and reforms",
         "showlegend": false,
         "type": "scatter",
         "x": [
          1973,
          1973
         ],
         "xaxis": "x2",
         "y": [
          14.9286,
          53.3409
         ],
         "yaxis": "y2"
        },
        {
         "hoverinfo": "text",
         "marker": {
          "color": "#2ECC71",
          "size": 8
         },
         "mode": "markers",
         "name": "1973: Oil crisis triggers inflation and reforms",
         "showlegend": false,
         "text": "Year: 1973<br>Event: Oil crisis triggers inflation and reforms<br>Value: 36.00<br>Category: Economic",
         "type": "scatter",
         "x": [
          1973
         ],
         "xaxis": "x2",
         "y": [
          35.9991
         ],
         "yaxis": "y2"
        },
        {
         "hoverinfo": "name",
         "line": {
          "color": "#2ECC71",
          "dash": "dash",
          "width": 1
         },
         "mode": "lines",
         "name": "1981: Recession hits with high interest rates",
         "showlegend": false,
         "type": "scatter",
         "x": [
          1981,
          1981
         ],
         "xaxis": "x2",
         "y": [
          14.9286,
          53.3409
         ],
         "yaxis": "y2"
        },
        {
         "hoverinfo": "text",
         "marker": {
          "color": "#2ECC71",
          "size": 8
         },
         "mode": "markers",
         "name": "1981: Recession hits with high interest rates",
         "showlegend": false,
         "text": "Year: 1981<br>Event: Recession hits with high interest rates<br>Value: 42.47<br>Category: Economic",
         "type": "scatter",
         "x": [
          1981
         ],
         "xaxis": "x2",
         "y": [
          42.4655
         ],
         "yaxis": "y2"
        },
        {
         "hoverinfo": "name",
         "line": {
          "color": "#3498DB",
          "dash": "dash",
          "width": 1
         },
         "mode": "lines",
         "name": "1989: US-Canada Free Trade Agreement reduces barriers",
         "showlegend": false,
         "type": "scatter",
         "x": [
          1989,
          1989
         ],
         "xaxis": "x2",
         "y": [
          14.9286,
          53.3409
         ],
         "yaxis": "y2"
        },
        {
         "hoverinfo": "text",
         "marker": {
          "color": "#3498DB",
          "size": 8
         },
         "mode": "markers",
         "name": "1989: US-Canada Free Trade Agreement reduces barriers",
         "showlegend": false,
         "text": "Year: 1989<br>Event: US-Canada Free Trade Agreement reduces barriers<br>Value: 45.84<br>Category: Diplomatic",
         "type": "scatter",
         "x": [
          1989
         ],
         "xaxis": "x2",
         "y": [
          45.8387
         ],
         "yaxis": "y2"
        },
        {
         "hoverinfo": "name",
         "line": {
          "color": "#3498DB",
          "dash": "dash",
          "width": 1
         },
         "mode": "lines",
         "name": "1994: NAFTA expands North American trade relations",
         "showlegend": false,
         "type": "scatter",
         "x": [
          1994,
          1994
         ],
         "xaxis": "x2",
         "y": [
          14.9286,
          53.3409
         ],
         "yaxis": "y2"
        },
        {
         "hoverinfo": "text",
         "marker": {
          "color": "#3498DB",
          "size": 8
         },
         "mode": "markers",
         "name": "1994: NAFTA expands North American trade relations",
         "showlegend": false,
         "text": "Year: 1994<br>Event: NAFTA expands North American trade relations<br>Value: 49.74<br>Category: Diplomatic",
         "type": "scatter",
         "x": [
          1994
         ],
         "xaxis": "x2",
         "y": [
          49.7373
         ],
         "yaxis": "y2"
        },
        {
         "hoverinfo": "name",
         "line": {
          "color": "#2ECC71",
          "dash": "dash",
          "width": 1
         },
         "mode": "lines",
         "name": "1997: Federal budget balanced after thirty years",
         "showlegend": false,
         "type": "scatter",
         "x": [
          1997,
          1997
         ],
         "xaxis": "x2",
         "y": [
          14.9286,
          53.3409
         ],
         "yaxis": "y2"
        },
        {
         "hoverinfo": "text",
         "marker": {
          "color": "#2ECC71",
          "size": 8
         },
         "mode": "markers",
         "name": "1997: Federal budget balanced after thirty years",
         "showlegend": false,
         "text": "Year: 1997<br>Event: Federal budget balanced after thirty years<br>Value: 44.28<br>Category: Economic",
         "type": "scatter",
         "x": [
          1997
         ],
         "xaxis": "x2",
         "y": [
          44.2766
         ],
         "yaxis": "y2"
        },
        {
         "hoverinfo": "name",
         "line": {
          "color": "#2ECC71",
          "dash": "dash",
          "width": 1
         },
         "mode": "lines",
         "name": "2008: Canada weathers global financial crisis well",
         "showlegend": false,
         "type": "scatter",
         "x": [
          2008,
          2008
         ],
         "xaxis": "x2",
         "y": [
          14.9286,
          53.3409
         ],
         "yaxis": "y2"
        },
        {
         "hoverinfo": "text",
         "marker": {
          "color": "#2ECC71",
          "size": 8
         },
         "mode": "markers",
         "name": "2008: Canada weathers global financial crisis well",
         "showlegend": false,
         "text": "Year: 2008<br>Event: Canada weathers global financial crisis well<br>Value: 38.78<br>Category: Economic",
         "type": "scatter",
         "x": [
          2008
         ],
         "xaxis": "x2",
         "y": [
          38.775383
         ],
         "yaxis": "y2"
        },
        {
         "hoverinfo": "name",
         "line": {
          "color": "#E74C3C",
          "dash": "dash",
          "width": 1
         },
         "mode": "lines",
         "name": "2015: National carbon pricing strategy implemented",
         "showlegend": false,
         "type": "scatter",
         "x": [
          2015,
          2015
         ],
         "xaxis": "x2",
         "y": [
          14.9286,
          53.3409
         ],
         "yaxis": "y2"
        },
        {
         "hoverinfo": "text",
         "marker": {
          "color": "#E74C3C",
          "size": 8
         },
         "mode": "markers",
         "name": "2015: National carbon pricing strategy implemented",
         "showlegend": false,
         "text": "Year: 2015<br>Event: National carbon pricing strategy implemented<br>Value: 40.02<br>Category: Political",
         "type": "scatter",
         "x": [
          2015
         ],
         "xaxis": "x2",
         "y": [
          40.018417
         ],
         "yaxis": "y2"
        },
        {
         "hoverinfo": "name",
         "line": {
          "color": "#F39C12",
          "dash": "dash",
          "width": 1
         },
         "mode": "lines",
         "name": "2018: Cannabis legalization creates new tax revenue",
         "showlegend": false,
         "type": "scatter",
         "x": [
          2018,
          2018
         ],
         "xaxis": "x2",
         "y": [
          14.9286,
          53.3409
         ],
         "yaxis": "y2"
        },
        {
         "hoverinfo": "text",
         "marker": {
          "color": "#F39C12",
          "size": 8
         },
         "mode": "markers",
         "name": "2018: Cannabis legalization creates new tax revenue",
         "showlegend": false,
         "text": "Year: 2018<br>Event: Cannabis legalization creates new tax revenue<br>Value: 40.66<br>Category: Social",
         "type": "scatter",
         "x": [
          2018
         ],
         "xaxis": "x2",
         "y": [
          40.66235
         ],
         "yaxis": "y2"
        },
        {
         "hoverinfo": "name",
         "line": {
          "color": "#F39C12",
          "dash": "dash",
          "width": 1
         },
         "mode": "lines",
         "name": "2020: COVID-19 triggers emergency financial support",
         "showlegend": false,
         "type": "scatter",
         "x": [
          2020,
          2020
         ],
         "xaxis": "x2",
         "y": [
          14.9286,
          53.3409
         ],
         "yaxis": "y2"
        },
        {
         "hoverinfo": "text",
         "marker": {
          "color": "#F39C12",
          "size": 8
         },
         "mode": "markers",
         "name": "2020: COVID-19 triggers emergency financial support",
         "showlegend": false,
         "text": "Year: 2020<br>Event: COVID-19 triggers emergency financial support<br>Value: 52.36<br>Category: Social",
         "type": "scatter",
         "x": [
          2020
         ],
         "xaxis": "x2",
         "y": [
          52.362343
         ],
         "yaxis": "y2"
        },
        {
         "hoverinfo": "name",
         "line": {
          "color": "#2ECC71",
          "dash": "dash",
          "width": 1
         },
         "mode": "lines",
         "name": "2021: Economy recovers with 4.6% GDP growth",
         "showlegend": false,
         "type": "scatter",
         "x": [
          2021,
          2021
         ],
         "xaxis": "x2",
         "y": [
          14.9286,
          53.3409
         ],
         "yaxis": "y2"
        },
        {
         "hoverinfo": "text",
         "marker": {
          "color": "#2ECC71",
          "size": 8
         },
         "mode": "markers",
         "name": "2021: Economy recovers with 4.6% GDP growth",
         "showlegend": false,
         "text": "Year: 2021<br>Event: Economy recovers with 4.6% GDP growth<br>Value: 45.44<br>Category: Economic",
         "type": "scatter",
         "x": [
          2021
         ],
         "xaxis": "x2",
         "y": [
          45.438065
         ],
         "yaxis": "y2"
        },
        {
         "hoverinfo": "name",
         "line": {
          "color": "#2ECC71",
          "dash": "dash",
          "width": 1
         },
         "mode": "lines",
         "name": "2022: High inflation prompts interest rate increases",
         "showlegend": false,
         "type": "scatter",
         "x": [
          2022,
          2022
         ],
         "xaxis": "x2",
         "y": [
          14.9286,
          53.3409
         ],
         "yaxis": "y2"
        },
        {
         "hoverinfo": "text",
         "marker": {
          "color": "#2ECC71",
          "size": 8
         },
         "mode": "markers",
         "name": "2022: High inflation prompts interest rate increases",
         "showlegend": false,
         "text": "Year: 2022<br>Event: High inflation prompts interest rate increases<br>Value: 41.03<br>Category: Economic",
         "type": "scatter",
         "x": [
          2022
         ],
         "xaxis": "x2",
         "y": [
          41.03439
         ],
         "yaxis": "y2"
        },
        {
         "line": {
          "color": "#2E86C1",
          "width": 2.5
         },
         "name": "Trade Share",
         "showlegend": false,
         "type": "scatter",
         "x": {
          "bdata": "qAepB6oHqwesB60HrgevB7AHsQeyB7MHtAe1B7YHtwe4B7kHuge7B7wHvQe+B78HwAfBB8IHwwfEB8UHxgfHB8gHyQfKB8sHzAfNB84HzwfQB9EH0gfTB9QH1QfWB9cH2AfZB9oH2wfcB90H3gffB+AH4QfiB+MH5AflB+YH",
          "dtype": "i2"
         },
         "xaxis": "x3",
         "y": {
          "bdata": "AAAAAAAA+H9evvVhvedBQDblCu9ywUFAw7tcxHeqQUBpjqz8MoBCQINRSZ2AckJAINWw3xMnQ0CKyRtg5o9DQL3IBPwaXURAYcPTK2XxREC30QDeAr9EQIDUJk7uV0RAuDoA4q7sRECiC+pb5iRGQPq0iv7QCkhAJ1DEIobtRkB8nGnC9iFGQPGEXn8S4UZAQfUPIhlsSEAKaCJseB5KQDl9PV+zqEpA7zmwHCENSkDIlA9B1U5HQP/PYb68WkdAaQBvgQQ9SkC/f/PixGtKQM6qz9VWiEpAbcoV3uVuSUD0wwjh0a5JQG3i5H6HCElAIQIOoUr/SEB7ZkmAmpxIQMO7XMR3XkpAq3e4HRogTUDbxMn9DhlQQELsTKHzQ1FA7Sqk/KSQUUBrYKsEi5VSQFc9YB4yhVNAxQPKplwHVECpaoKo+7BUQLvyWZ4HllNAntLB+j/tUkAHYAMixHVRQCrG+ZtQjFFAZtr+lZVwUUAziuWWVgNRQBLCo40jklBAasGLvoLBUED1vYbguDxNQADK372jGk5ADycwndY/T0AAkX77OkxPQCv2l92THU9AahMn9zsYUEARx7q4jYpQQNYApaFGV1BAw7tcxHdGUEAyWdx/ZKZQQDNuaqD5ilBAqvI9IxGUTkD9EYYBSzZPQABvgQTF41BA",
          "dtype": "f8"
         },
         "yaxis": "y3"
        },
        {
         "hoverinfo": "name",
         "line": {
          "color": "#3498DB",
          "dash": "dash",
          "width": 1
         },
         "mode": "lines",
         "name": "1965: Auto Pact integrates US-Canada automotive industries",
         "showlegend": false,
         "type": "scatter",
         "x": [
          1965,
          1965
         ],
         "xaxis": "x3",
         "y": [
          35.33178,
          82.76536
         ],
         "yaxis": "y3"
        },
        {
         "hoverinfo": "text",
         "marker": {
          "color": "#3498DB",
          "size": 8
         },
         "mode": "markers",
         "name": "1965: Auto Pact integrates US-Canada automotive industries",
         "showlegend": false,
         "text": "Year: 1965<br>Event: Auto Pact integrates US-Canada automotive industries<br>Value: 36.89<br>Category: Diplomatic",
         "type": "scatter",
         "x": [
          1965
         ],
         "xaxis": "x3",
         "y": [
          36.89455
         ],
         "yaxis": "y3"
        },
        {
         "hoverinfo": "name",
         "line": {
          "color": "#2ECC71",
          "dash": "dash",
          "width": 1
         },
         "mode": "lines",
         "name": "1973: Oil crisis triggers inflation and reforms",
         "showlegend": false,
         "type": "scatter",
         "x": [
          1973,
          1973
         ],
         "xaxis": "x3",
         "y": [
          35.33178,
          82.76536
         ],
         "yaxis": "y3"
        },
        {
         "hoverinfo": "text",
         "marker": {
          "color": "#2ECC71",
          "size": 8
         },
         "mode": "markers",
         "name": "1973: Oil crisis triggers inflation and reforms",
         "showlegend": false,
         "text": "Year: 1973<br>Event: Oil crisis triggers inflation and reforms<br>Value: 44.29<br>Category: Economic",
         "type": "scatter",
         "x": [
          1973
         ],
         "xaxis": "x3",
         "y": [
          44.28828
         ],
         "yaxis": "y3"
        },
        {
         "hoverinfo": "name",
         "line": {
          "color": "#2ECC71",
          "dash": "dash",
          "width": 1
         },
         "mode": "lines",
         "name": "1981: Recession hits with high interest rates",
         "showlegend": false,
         "type": "scatter",
         "x": [
          1981,
          1981
         ],
         "xaxis": "x3",
         "y": [
          35.33178,
          82.76536
         ],
         "yaxis": "y3"
        },
        {
         "hoverinfo": "text",
         "marker": {
          "color": "#2ECC71",
          "size": 8
         },
         "mode": "markers",
         "name": "1981: Recession hits with high interest rates",
         "showlegend": false,
         "text": "Year: 1981<br>Event: Recession hits with high interest rates<br>Value: 52.10<br>Category: Economic",
         "type": "scatter",
         "x": [
          1981
         ],
         "xaxis": "x3",
         "y": [
          52.102573
         ],
         "yaxis": "y3"
        },
        {
         "hoverinfo": "name",
         "line": {
          "color": "#3498DB",
          "dash": "dash",
          "width": 1
         },
         "mode": "lines",
         "name": "1989: US-Canada Free Trade Agreement reduces barriers",
         "showlegend": false,
         "type": "scatter",
         "x": [
          1989,
          1989
         ],
         "xaxis": "x3",
         "y": [
          35.33178,
          82.76536
         ],
         "yaxis": "y3"
        },
        {
         "hoverinfo": "text",
         "marker": {
          "color": "#3498DB",
          "size": 8
         },
         "mode": "markers",
         "name": "1989: US-Canada Free Trade Agreement reduces barriers",
         "showlegend": false,
         "text": "Year: 1989<br>Event: US-Canada Free Trade Agreement reduces barriers<br>Value: 50.07<br>Category: Diplomatic",
         "type": "scatter",
         "x": [
          1989
         ],
         "xaxis": "x3",
         "y": [
          50.066635
         ],
         "yaxis": "y3"
        },
        {
         "hoverinfo": "name",
         "line": {
          "color": "#3498DB",
          "dash": "dash",
          "width": 1
         },
         "mode": "lines",
         "name": "1994: NAFTA expands North American trade relations",
         "showlegend": false,
         "type": "scatter",
         "x": [
          1994,
          1994
         ],
         "xaxis": "x3",
         "y": [
          35.33178,
          82.76536
         ],
         "yaxis": "y3"
        },
        {
         "hoverinfo": "text",
         "marker": {
          "color": "#3498DB",
          "size": 8
         },
         "mode": "markers",
         "name": "1994: NAFTA expands North American trade relations",
         "showlegend": false,
         "text": "Year: 1994<br>Event: NAFTA expands North American trade relations<br>Value: 64.39<br>Category: Diplomatic",
         "type": "scatter",
         "x": [
          1994
         ],
         "xaxis": "x3",
         "y": [
          64.39154
         ],
         "yaxis": "y3"
        },
        {
         "hoverinfo": "name",
         "line": {
          "color": "#2ECC71",
          "dash": "dash",
          "width": 1
         },
         "mode": "lines",
         "name": "1997: Federal budget balanced after thirty years",
         "showlegend": false,
         "type": "scatter",
         "x": [
          1997,
          1997
         ],
         "xaxis": "x3",
         "y": [
          35.33178,
          82.76536
         ],
         "yaxis": "y3"
        },
        {
         "hoverinfo": "text",
         "marker": {
          "color": "#2ECC71",
          "size": 8
         },
         "mode": "markers",
         "name": "1997: Federal budget balanced after thirty years",
         "showlegend": false,
         "text": "Year: 1997<br>Event: Federal budget balanced after thirty years<br>Value: 74.34<br>Category: Economic",
         "type": "scatter",
         "x": [
          1997
         ],
         "xaxis": "x3",
         "y": [
          74.33661
         ],
         "yaxis": "y3"
        },
        {
         "hoverinfo": "name",
         "line": {
          "color": "#2ECC71",
          "dash": "dash",
          "width": 1
         },
         "mode": "lines",
         "name": "2008: Canada weathers global financial crisis well",
         "showlegend": false,
         "type": "scatter",
         "x": [
          2008,
          2008
         ],
         "xaxis": "x3",
         "y": [
          35.33178,
          82.76536
         ],
         "yaxis": "y3"
        },
        {
         "hoverinfo": "text",
         "marker": {
          "color": "#2ECC71",
          "size": 8
         },
         "mode": "markers",
         "name": "2008: Canada weathers global financial crisis well",
         "showlegend": false,
         "text": "Year: 2008<br>Event: Canada weathers global financial crisis well<br>Value: 67.02<br>Category: Economic",
         "type": "scatter",
         "x": [
          2008
         ],
         "xaxis": "x3",
         "y": [
          67.023605
         ],
         "yaxis": "y3"
        },
        {
         "hoverinfo": "name",
         "line": {
          "color": "#E74C3C",
          "dash": "dash",
          "width": 1
         },
         "mode": "lines",
         "name": "2015: National carbon pricing strategy implemented",
         "showlegend": false,
         "type": "scatter",
         "x": [
          2015,
          2015
         ],
         "xaxis": "x3",
         "y": [
          35.33178,
          82.76536
         ],
         "yaxis": "y3"
        },
        {
         "hoverinfo": "text",
         "marker": {
          "color": "#E74C3C",
          "size": 8
         },
         "mode": "markers",
         "name": "2015: National carbon pricing strategy implemented",
         "showlegend": false,
         "text": "Year: 2015<br>Event: National carbon pricing strategy implemented<br>Value: 66.16<br>Category: Political",
         "type": "scatter",
         "x": [
          2015
         ],
         "xaxis": "x3",
         "y": [
          66.1649
         ],
         "yaxis": "y3"
        },
        {
         "hoverinfo": "name",
         "line": {
          "color": "#F39C12",
          "dash": "dash",
          "width": 1
         },
         "mode": "lines",
         "name": "2018: Cannabis legalization creates new tax revenue",
         "showlegend": false,
         "type": "scatter",
         "x": [
          2018,
          2018
         ],
         "xaxis": "x3",
         "y": [
          35.33178,
          82.76536
         ],
         "yaxis": "y3"
        },
        {
         "hoverinfo": "text",
         "marker": {
          "color": "#F39C12",
          "size": 8
         },
         "mode": "markers",
         "name": "2018: Cannabis legalization creates new tax revenue",
         "showlegend": false,
         "text": "Year: 2018<br>Event: Cannabis legalization creates new tax revenue<br>Value: 66.60<br>Category: Social",
         "type": "scatter",
         "x": [
          2018
         ],
         "xaxis": "x3",
         "y": [
          66.599884
         ],
         "yaxis": "y3"
        },
        {
         "hoverinfo": "name",
         "line": {
          "color": "#F39C12",
          "dash": "dash",
          "width": 1
         },
         "mode": "lines",
         "name": "2020: COVID-19 triggers emergency financial support",
         "showlegend": false,
         "type": "scatter",
         "x": [
          2020,
          2020
         ],
         "xaxis": "x3",
         "y": [
          35.33178,
          82.76536
         ],
         "yaxis": "y3"
        },
        {
         "hoverinfo": "text",
         "marker": {
          "color": "#F39C12",
          "size": 8
         },
         "mode": "markers",
         "name": "2020: COVID-19 triggers emergency financial support",
         "showlegend": false,
         "text": "Year: 2020<br>Event: COVID-19 triggers emergency financial support<br>Value: 61.16<br>Category: Social",
         "type": "scatter",
         "x": [
          2020
         ],
         "xaxis": "x3",
         "y": [
          61.156773
         ],
         "yaxis": "y3"
        },
        {
         "hoverinfo": "name",
         "line": {
          "color": "#2ECC71",
          "dash": "dash",
          "width": 1
         },
         "mode": "lines",
         "name": "2021: Economy recovers with 4.6% GDP growth",
         "showlegend": false,
         "type": "scatter",
         "x": [
          2021,
          2021
         ],
         "xaxis": "x3",
         "y": [
          35.33178,
          82.76536
         ],
         "yaxis": "y3"
        },
        {
         "hoverinfo": "text",
         "marker": {
          "color": "#2ECC71",
          "size": 8
         },
         "mode": "markers",
         "name": "2021: Economy recovers with 4.6% GDP growth",
         "showlegend": false,
         "text": "Year: 2021<br>Event: Economy recovers with 4.6% GDP growth<br>Value: 62.42<br>Category: Economic",
         "type": "scatter",
         "x": [
          2021
         ],
         "xaxis": "x3",
         "y": [
          62.424164
         ],
         "yaxis": "y3"
        },
        {
         "hoverinfo": "name",
         "line": {
          "color": "#2ECC71",
          "dash": "dash",
          "width": 1
         },
         "mode": "lines",
         "name": "2022: High inflation prompts interest rate increases",
         "showlegend": false,
         "type": "scatter",
         "x": [
          2022,
          2022
         ],
         "xaxis": "x3",
         "y": [
          35.33178,
          82.76536
         ],
         "yaxis": "y3"
        },
        {
         "hoverinfo": "text",
         "marker": {
          "color": "#2ECC71",
          "size": 8
         },
         "mode": "markers",
         "name": "2022: High inflation prompts interest rate increases",
         "showlegend": false,
         "text": "Year: 2022<br>Event: High inflation prompts interest rate increases<br>Value: 67.56<br>Category: Economic",
         "type": "scatter",
         "x": [
          2022
         ],
         "xaxis": "x3",
         "y": [
          67.5589
         ],
         "yaxis": "y3"
        },
        {
         "line": {
          "color": "#2E86C1",
          "width": 2.5
         },
         "name": "Inflation Rate",
         "showlegend": false,
         "type": "scatter",
         "x": {
          "bdata": "qAepB6oHqwesB60HrgevB7AHsQeyB7MHtAe1B7YHtwe4B7kHuge7B7wHvQe+B78HwAfBB8IHwwfEB8UHxgfHB8gHyQfKB8sHzAfNB84HzwfQB9EH0gfTB9QH1QfWB9cH2AfZB9oH2wfcB90H3gffB+AH4QfiB+MH5AflB+YH",
          "dtype": "i2"
         },
         "xaxis": "x4",
         "y": {
          "bdata": "bIHzmDe99T9ZAoRq3kzwP1gPTvox/PA/xQmnYOgM+j8FhHsKJZj+P6ZIvhJIqQJAKIHNOXiGDkAu8qH6vaMMQMDmwYKgOBBAGSNtPgk/EkBA6sCDsMQKQB/ezhmsowVAUhA8vr3zE0BV+DO8WfMdQAsKgzKN/iVAPnYXKClYJUC371F/vSoeQPJetTLh5x9A3Lkw0ovyIUB/944aE0oiQK/pQUEpQiRAZM3IIHfxKEAUJSGRtoklQEjfpGlQdBdAQSlauRc4EUCTAmYZPbIPQOffLvt1xxBAyEhRwqdsEUCDiqpf6RwQQCSBBps67xNA6x7ZXDUfE0CY+Q5+4oAWQCUZg5iV1/c/xBc3f13X/T84t/BZKjHFP5KLez2pMAFAT539N+Ug+T9Z0pubgPD5P5BJRs7C3u8/LyrzoOrB+z9TeTvCacEFQMa5l0VyMwRA7bq3IjERAkATkauiiREGQDRiC+ZUt/0/kPY/wFq1AUAuF5bkJQQAQDtREhJpGwFAElYZfFD2AkCrNw/MdirTPyEPM+oQbvw//0TAfA1MB0ArHJzjN0D4PyVBE7x8Bu4/ihI+pZSB/j8fr1Eg/QDyP2OJvQYz3PY/zgmQV9aM+T/bkguEUyUCQLu04bA0MP8/UMr/P6nx5j9y3ZTyWikLQM3IIHcRNhtA",
          "dtype": "f8"
         },
         "yaxis": "y4"
        },
        {
         "hoverinfo": "name",
         "line": {
          "color": "#3498DB",
          "dash": "dash",
          "width": 1
         },
         "mode": "lines",
         "name": "1965: Auto Pact integrates US-Canada automotive industries",
         "showlegend": false,
         "type": "scatter",
         "x": [
          1965,
          1965
         ],
         "xaxis": "x4",
         "y": [
          0.16556291,
          12.471612
         ],
         "yaxis": "y4"
        },
        {
         "hoverinfo": "text",
         "marker": {
          "color": "#3498DB",
          "size": 8
         },
         "mode": "markers",
         "name": "1965: Auto Pact integrates US-Canada automotive industries",
         "showlegend": false,
         "text": "Year: 1965<br>Event: Auto Pact integrates US-Canada automotive industries<br>Value: 2.33<br>Category: Diplomatic",
         "type": "scatter",
         "x": [
          1965
         ],
         "xaxis": "x4",
         "y": [
          2.332657
         ],
         "yaxis": "y4"
        },
        {
         "hoverinfo": "name",
         "line": {
          "color": "#2ECC71",
          "dash": "dash",
          "width": 1
         },
         "mode": "lines",
         "name": "1973: Oil crisis triggers inflation and reforms",
         "showlegend": false,
         "type": "scatter",
         "x": [
          1973,
          1973
         ],
         "xaxis": "x4",
         "y": [
          0.16556291,
          12.471612
         ],
         "yaxis": "y4"
        },
        {
         "hoverinfo": "text",
         "marker": {
          "color": "#2ECC71",
          "size": 8
         },
         "mode": "markers",
         "name": "1973: Oil crisis triggers inflation and reforms",
         "showlegend": false,
         "text": "Year: 1973<br>Event: Oil crisis triggers inflation and reforms<br>Value: 7.49<br>Category: Economic",
         "type": "scatter",
         "x": [
          1973
         ],
         "xaxis": "x4",
         "y": [
          7.487647
         ],
         "yaxis": "y4"
        },
        {
         "hoverinfo": "name",
         "line": {
          "color": "#2ECC71",
          "dash": "dash",
          "width": 1
         },
         "mode": "lines",
         "name": "1981: Recession hits with high interest rates",
         "showlegend": false,
         "type": "scatter",
         "x": [
          1981,
          1981
         ],
         "xaxis": "x4",
         "y": [
          0.16556291,
          12.471612
         ],
         "yaxis": "y4"
        },
        {
         "hoverinfo": "text",
         "marker": {
          "color": "#2ECC71",
          "size": 8
         },
         "mode": "markers",
         "name": "1981: Recession hits with high interest rates",
         "showlegend": false,
         "text": "Year: 1981<br>Event: Recession hits with high interest rates<br>Value: 12.47<br>Category: Economic",
         "type": "scatter",
         "x": [
          1981
         ],
         "xaxis": "x4",
         "y": [
          12.471612
         ],
         "yaxis": "y4"
        },
        {
         "hoverinfo": "name",
         "line": {
          "color": "#3498DB",
          "dash": "dash",
          "width": 1
         },
         "mode": "lines",
         "name": "1989: US-Canada Free Trade Agreement reduces barriers",
         "showlegend": false,
         "type": "scatter",
         "x": [
          1989,
          1989
         ],
         "xaxis": "x4",
         "y": [
          0.16556291,
          12.471612
         ],
         "yaxis": "y4"
        },
        {
         "hoverinfo": "text",
         "marker": {
          "color": "#3498DB",
          "size": 8
         },
         "mode": "markers",
         "name": "1989: US-Canada Free Trade Agreement reduces barriers",
         "showlegend": false,
         "text": "Year: 1989<br>Event: US-Canada Free Trade Agreement reduces barriers<br>Value: 4.98<br>Category: Diplomatic",
         "type": "scatter",
         "x": [
          1989
         ],
         "xaxis": "x4",
         "y": [
          4.983622
         ],
         "yaxis": "y4"
        },
        {
         "hoverinfo": "name",
         "line": {
          "color": "#3498DB",
          "dash": "dash",
          "width": 1
         },
         "mode": "lines",
         "name": "1994: NAFTA expands North American trade relations",
         "showlegend": false,
         "type": "scatter",
         "x": [
          1994,
          1994
         ],
         "xaxis": "x4",
         "y": [
          0.16556291,
          12.471612
         ],
         "yaxis": "y4"
        },
        {
         "hoverinfo": "text",
         "marker": {
          "color": "#3498DB",
          "size": 8
         },
         "mode": "markers",
         "name": "1994: NAFTA expands North American trade relations",
         "showlegend": false,
         "text": "Year: 1994<br>Event: NAFTA expands North American trade relations<br>Value: 0.17<br>Category: Diplomatic",
         "type": "scatter",
         "x": [
          1994
         ],
         "xaxis": "x4",
         "y": [
          0.16556291
         ],
         "yaxis": "y4"
        },
        {
         "hoverinfo": "name",
         "line": {
          "color": "#2ECC71",
          "dash": "dash",
          "width": 1
         },
         "mode": "lines",
         "name": "1997: Federal budget balanced after thirty years",
         "showlegend": false,
         "type": "scatter",
         "x": [
          1997,
          1997
         ],
         "xaxis": "x4",
         "y": [
          0.16556291,
          12.471612
         ],
         "yaxis": "y4"
        },
        {
         "hoverinfo": "text",
         "marker": {
          "color": "#2ECC71",
          "size": 8
         },
         "mode": "markers",
         "name": "1997: Federal budget balanced after thirty years",
         "showlegend": false,
         "text": "Year: 1997<br>Event: Federal budget balanced after thirty years<br>Value: 1.62<br>Category: Economic",
         "type": "scatter",
         "x": [
          1997
         ],
         "xaxis": "x4",
         "y": [
          1.6212164
         ],
         "yaxis": "y4"
        },
        {
         "hoverinfo": "name",
         "line": {
          "color": "#2ECC71",
          "dash": "dash",
          "width": 1
         },
         "mode": "lines",
         "name": "2008: Canada weathers global financial crisis well",
         "showlegend": false,
         "type": "scatter",
         "x": [
          2008,
          2008
         ],
         "xaxis": "x4",
         "y": [
          0.16556291,
          12.471612
         ],
         "yaxis": "y4"
        },
        {
         "hoverinfo": "text",
         "marker": {
          "color": "#2ECC71",
          "size": 8
         },
         "mode": "markers",
         "name": "2008: Canada weathers global financial crisis well",
         "showlegend": false,
         "text": "Year: 2008<br>Event: Canada weathers global financial crisis well<br>Value: 2.37<br>Category: Economic",
         "type": "scatter",
         "x": [
          2008
         ],
         "xaxis": "x4",
         "y": [
          2.3702707
         ],
         "yaxis": "y4"
        },
        {
         "hoverinfo": "name",
         "line": {
          "color": "#E74C3C",
          "dash": "dash",
          "width": 1
         },
         "mode": "lines",
         "name": "2015: National carbon pricing strategy implemented",
         "showlegend": false,
         "type": "scatter",
         "x": [
          2015,
          2015
         ],
         "xaxis": "x4",
         "y": [
          0.16556291,
          12.471612
         ],
         "yaxis": "y4"
        },
        {
         "hoverinfo": "text",
         "marker": {
          "color": "#E74C3C",
          "size": 8
         },
         "mode": "markers",
         "name": "2015: National carbon pricing strategy implemented",
         "showlegend": false,
         "text": "Year: 2015<br>Event: National carbon pricing strategy implemented<br>Value: 1.13<br>Category: Political",
         "type": "scatter",
         "x": [
          2015
         ],
         "xaxis": "x4",
         "y": [
          1.1252414
         ],
         "yaxis": "y4"
        },
        {
         "hoverinfo": "name",
         "line": {
          "color": "#F39C12",
          "dash": "dash",
          "width": 1
         },
         "mode": "lines",
         "name": "2018: Cannabis legalization creates new tax revenue",
         "showlegend": false,
         "type": "scatter",
         "x": [
          2018,
          2018
         ],
         "xaxis": "x4",
         "y": [
          0.16556291,
          12.471612
         ],
         "yaxis": "y4"
        },
        {
         "hoverinfo": "text",
         "marker": {
          "color": "#F39C12",
          "size": 8
         },
         "mode": "markers",
         "name": "2018: Cannabis legalization creates new tax revenue",
         "showlegend": false,
         "text": "Year: 2018<br>Event: Cannabis legalization creates new tax revenue<br>Value: 2.27<br>Category: Social",
         "type": "scatter",
         "x": [
          2018
         ],
         "xaxis": "x4",
         "y": [
          2.2682257
         ],
         "yaxis": "y4"
        },
        {
         "hoverinfo": "name",
         "line": {
          "color": "#F39C12",
          "dash": "dash",
          "width": 1
         },
         "mode": "lines",
         "name": "2020: COVID-19 triggers emergency financial support",
         "showlegend": false,
         "type": "scatter",
         "x": [
          2020,
          2020
         ],
         "xaxis": "x4",
         "y": [
          0.16556291,
          12.471612
         ],
         "yaxis": "y4"
        },
        {
         "hoverinfo": "text",
         "marker": {
          "color": "#F39C12",
          "size": 8
         },
         "mode": "markers",
         "name": "2020: COVID-19 triggers emergency financial support",
         "showlegend": false,
         "text": "Year: 2020<br>Event: COVID-19 triggers emergency financial support<br>Value: 0.72<br>Category: Social",
         "type": "scatter",
         "x": [
          2020
         ],
         "xaxis": "x4",
         "y": [
          0.71699965
         ],
         "yaxis": "y4"
        },
        {
         "hoverinfo": "name",
         "line": {
          "color": "#2ECC71",
          "dash": "dash",
          "width": 1
         },
         "mode": "lines",
         "name": "2021: Economy recovers with 4.6% GDP growth",
         "showlegend": false,
         "type": "scatter",
         "x": [
          2021,
          2021
         ],
         "xaxis": "x4",
         "y": [
          0.16556291,
          12.471612
         ],
         "yaxis": "y4"
        },
        {
         "hoverinfo": "text",
         "marker": {
          "color": "#2ECC71",
          "size": 8
         },
         "mode": "markers",
         "name": "2021: Economy recovers with 4.6% GDP growth",
         "showlegend": false,
         "text": "Year: 2021<br>Event: Economy recovers with 4.6% GDP growth<br>Value: 3.40<br>Category: Economic",
         "type": "scatter",
         "x": [
          2021
         ],
         "xaxis": "x4",
         "y": [
          3.395193
         ],
         "yaxis": "y4"
        },
        {
         "hoverinfo": "name",
         "line": {
          "color": "#2ECC71",
          "dash": "dash",
          "width": 1
         },
         "mode": "lines",
         "name": "2022: High inflation prompts interest rate increases",
         "showlegend": false,
         "type": "scatter",
         "x": [
          2022,
          2022
         ],
         "xaxis": "x4",
         "y": [
          0.16556291,
          12.471612
         ],
         "yaxis": "y4"
        },
        {
         "hoverinfo": "text",
         "marker": {
          "color": "#2ECC71",
          "size": 8
         },
         "mode": "markers",
         "name": "2022: High inflation prompts interest rate increases",
         "showlegend": false,
         "text": "Year: 2022<br>Event: High inflation prompts interest rate increases<br>Value: 6.80<br>Category: Economic",
         "type": "scatter",
         "x": [
          2022
         ],
         "xaxis": "x4",
         "y": [
          6.802801
         ],
         "yaxis": "y4"
        },
        {
         "marker": {
          "color": "#E74C3C",
          "size": 10
         },
         "mode": "markers",
         "name": "Political",
         "showlegend": true,
         "type": "scatter",
         "x": [
          null
         ],
         "y": [
          null
         ]
        },
        {
         "marker": {
          "color": "#2ECC71",
          "size": 10
         },
         "mode": "markers",
         "name": "Economic",
         "showlegend": true,
         "type": "scatter",
         "x": [
          null
         ],
         "y": [
          null
         ]
        },
        {
         "marker": {
          "color": "#8E44AD",
          "size": 10
         },
         "mode": "markers",
         "name": "Military",
         "showlegend": true,
         "type": "scatter",
         "x": [
          null
         ],
         "y": [
          null
         ]
        },
        {
         "marker": {
          "color": "#3498DB",
          "size": 10
         },
         "mode": "markers",
         "name": "Diplomatic",
         "showlegend": true,
         "type": "scatter",
         "x": [
          null
         ],
         "y": [
          null
         ]
        },
        {
         "marker": {
          "color": "#F39C12",
          "size": 10
         },
         "mode": "markers",
         "name": "Social",
         "showlegend": true,
         "type": "scatter",
         "x": [
          null
         ],
         "y": [
          null
         ]
        }
       ],
       "layout": {
        "annotations": [
         {
          "font": {
           "size": 16
          },
          "showarrow": false,
          "text": "GDP per capita",
          "x": 0.5,
          "xanchor": "center",
          "xref": "paper",
          "y": 1,
          "yanchor": "bottom",
          "yref": "paper"
         },
         {
          "font": {
           "size": 16
          },
          "showarrow": false,
          "text": "Government Expenditure",
          "x": 0.5,
          "xanchor": "center",
          "xref": "paper",
          "y": 0.7200000000000001,
          "yanchor": "bottom",
          "yref": "paper"
         },
         {
          "font": {
           "size": 16
          },
          "showarrow": false,
          "text": "Trade Share",
          "x": 0.5,
          "xanchor": "center",
          "xref": "paper",
          "y": 0.44000000000000006,
          "yanchor": "bottom",
          "yref": "paper"
         },
         {
          "font": {
           "size": 16
          },
          "showarrow": false,
          "text": "Inflation Rate",
          "x": 0.5,
          "xanchor": "center",
          "xref": "paper",
          "y": 0.16,
          "yanchor": "bottom",
          "yref": "paper"
         }
        ],
        "height": 1000,
        "showlegend": true,
        "template": {
         "data": {
          "bar": [
           {
            "error_x": {
             "color": "#2a3f5f"
            },
            "error_y": {
             "color": "#2a3f5f"
            },
            "marker": {
             "line": {
              "color": "#E5ECF6",
              "width": 0.5
             },
             "pattern": {
              "fillmode": "overlay",
              "size": 10,
              "solidity": 0.2
             }
            },
            "type": "bar"
           }
          ],
          "barpolar": [
           {
            "marker": {
             "line": {
              "color": "#E5ECF6",
              "width": 0.5
             },
             "pattern": {
              "fillmode": "overlay",
              "size": 10,
              "solidity": 0.2
             }
            },
            "type": "barpolar"
           }
          ],
          "carpet": [
           {
            "aaxis": {
             "endlinecolor": "#2a3f5f",
             "gridcolor": "white",
             "linecolor": "white",
             "minorgridcolor": "white",
             "startlinecolor": "#2a3f5f"
            },
            "baxis": {
             "endlinecolor": "#2a3f5f",
             "gridcolor": "white",
             "linecolor": "white",
             "minorgridcolor": "white",
             "startlinecolor": "#2a3f5f"
            },
            "type": "carpet"
           }
          ],
          "choropleth": [
           {
            "colorbar": {
             "outlinewidth": 0,
             "ticks": ""
            },
            "type": "choropleth"
           }
          ],
          "contour": [
           {
            "colorbar": {
             "outlinewidth": 0,
             "ticks": ""
            },
            "colorscale": [
             [
              0,
              "#0d0887"
             ],
             [
              0.1111111111111111,
              "#46039f"
             ],
             [
              0.2222222222222222,
              "#7201a8"
             ],
             [
              0.3333333333333333,
              "#9c179e"
             ],
             [
              0.4444444444444444,
              "#bd3786"
             ],
             [
              0.5555555555555556,
              "#d8576b"
             ],
             [
              0.6666666666666666,
              "#ed7953"
             ],
             [
              0.7777777777777778,
              "#fb9f3a"
             ],
             [
              0.8888888888888888,
              "#fdca26"
             ],
             [
              1,
              "#f0f921"
             ]
            ],
            "type": "contour"
           }
          ],
          "contourcarpet": [
           {
            "colorbar": {
             "outlinewidth": 0,
             "ticks": ""
            },
            "type": "contourcarpet"
           }
          ],
          "heatmap": [
           {
            "colorbar": {
             "outlinewidth": 0,
             "ticks": ""
            },
            "colorscale": [
             [
              0,
              "#0d0887"
             ],
             [
              0.1111111111111111,
              "#46039f"
             ],
             [
              0.2222222222222222,
              "#7201a8"
             ],
             [
              0.3333333333333333,
              "#9c179e"
             ],
             [
              0.4444444444444444,
              "#bd3786"
             ],
             [
              0.5555555555555556,
              "#d8576b"
             ],
             [
              0.6666666666666666,
              "#ed7953"
             ],
             [
              0.7777777777777778,
              "#fb9f3a"
             ],
             [
              0.8888888888888888,
              "#fdca26"
             ],
             [
              1,
              "#f0f921"
             ]
            ],
            "type": "heatmap"
           }
          ],
          "histogram": [
           {
            "marker": {
             "pattern": {
              "fillmode": "overlay",
              "size": 10,
              "solidity": 0.2
             }
            },
            "type": "histogram"
           }
          ],
          "histogram2d": [
           {
            "colorbar": {
             "outlinewidth": 0,
             "ticks": ""
            },
            "colorscale": [
             [
              0,
              "#0d0887"
             ],
             [
              0.1111111111111111,
              "#46039f"
             ],
             [
              0.2222222222222222,
              "#7201a8"
             ],
             [
              0.3333333333333333,
              "#9c179e"
             ],
             [
              0.4444444444444444,
              "#bd3786"
             ],
             [
              0.5555555555555556,
              "#d8576b"
             ],
             [
              0.6666666666666666,
              "#ed7953"
             ],
             [
              0.7777777777777778,
              "#fb9f3a"
             ],
             [
              0.8888888888888888,
              "#fdca26"
             ],
             [
              1,
              "#f0f921"
             ]
            ],
            "type": "histogram2d"
           }
          ],
          "histogram2dcontour": [
           {
            "colorbar": {
             "outlinewidth": 0,
             "ticks": ""
            },
            "colorscale": [
             [
              0,
              "#0d0887"
             ],
             [
              0.1111111111111111,
              "#46039f"
             ],
             [
              0.2222222222222222,
              "#7201a8"
             ],
             [
              0.3333333333333333,
              "#9c179e"
             ],
             [
              0.4444444444444444,
              "#bd3786"
             ],
             [
              0.5555555555555556,
              "#d8576b"
             ],
             [
              0.6666666666666666,
              "#ed7953"
             ],
             [
              0.7777777777777778,
              "#fb9f3a"
             ],
             [
              0.8888888888888888,
              "#fdca26"
             ],
             [
              1,
              "#f0f921"
             ]
            ],
            "type": "histogram2dcontour"
           }
          ],
          "mesh3d": [
           {
            "colorbar": {
             "outlinewidth": 0,
             "ticks": ""
            },
            "type": "mesh3d"
           }
          ],
          "parcoords": [
           {
            "line": {
             "colorbar": {
              "outlinewidth": 0,
              "ticks": ""
             }
            },
            "type": "parcoords"
           }
          ],
          "pie": [
           {
            "automargin": true,
            "type": "pie"
           }
          ],
          "scatter": [
           {
            "fillpattern": {
             "fillmode": "overlay",
             "size": 10,
             "solidity": 0.2
            },
            "type": "scatter"
           }
          ],
          "scatter3d": [
           {
            "line": {
             "colorbar": {
              "outlinewidth": 0,
              "ticks": ""
             }
            },
            "marker": {
             "colorbar": {
              "outlinewidth": 0,
              "ticks": ""
             }
            },
            "type": "scatter3d"
           }
          ],
          "scattercarpet": [
           {
            "marker": {
             "colorbar": {
              "outlinewidth": 0,
              "ticks": ""
             }
            },
            "type": "scattercarpet"
           }
          ],
          "scattergeo": [
           {
            "marker": {
             "colorbar": {
              "outlinewidth": 0,
              "ticks": ""
             }
            },
            "type": "scattergeo"
           }
          ],
          "scattergl": [
           {
            "marker": {
             "colorbar": {
              "outlinewidth": 0,
              "ticks": ""
             }
            },
            "type": "scattergl"
           }
          ],
          "scattermap": [
           {
            "marker": {
             "colorbar": {
              "outlinewidth": 0,
              "ticks": ""
             }
            },
            "type": "scattermap"
           }
          ],
          "scattermapbox": [
           {
            "marker": {
             "colorbar": {
              "outlinewidth": 0,
              "ticks": ""
             }
            },
            "type": "scattermapbox"
           }
          ],
          "scatterpolar": [
           {
            "marker": {
             "colorbar": {
              "outlinewidth": 0,
              "ticks": ""
             }
            },
            "type": "scatterpolar"
           }
          ],
          "scatterpolargl": [
           {
            "marker": {
             "colorbar": {
              "outlinewidth": 0,
              "ticks": ""
             }
            },
            "type": "scatterpolargl"
           }
          ],
          "scatterternary": [
           {
            "marker": {
             "colorbar": {
              "outlinewidth": 0,
              "ticks": ""
             }
            },
            "type": "scatterternary"
           }
          ],
          "surface": [
           {
            "colorbar": {
             "outlinewidth": 0,
             "ticks": ""
            },
            "colorscale": [
             [
              0,
              "#0d0887"
             ],
             [
              0.1111111111111111,
              "#46039f"
             ],
             [
              0.2222222222222222,
              "#7201a8"
             ],
             [
              0.3333333333333333,
              "#9c179e"
             ],
             [
              0.4444444444444444,
              "#bd3786"
             ],
             [
              0.5555555555555556,
              "#d8576b"
             ],
             [
              0.6666666666666666,
              "#ed7953"
             ],
             [
              0.7777777777777778,
              "#fb9f3a"
             ],
             [
              0.8888888888888888,
              "#fdca26"
             ],
             [
              1,
              "#f0f921"
             ]
            ],
            "type": "surface"
           }
          ],
          "table": [
           {
            "cells": {
             "fill": {
              "color": "#EBF0F8"
             },
             "line": {
              "color": "white"
             }
            },
            "header": {
             "fill": {
              "color": "#C8D4E3"
             },
             "line": {
              "color": "white"
             }
            },
            "type": "table"
           }
          ]
         },
         "layout": {
          "annotationdefaults": {
           "arrowcolor": "#2a3f5f",
           "arrowhead": 0,
           "arrowwidth": 1
          },
          "autotypenumbers": "strict",
          "coloraxis": {
           "colorbar": {
            "outlinewidth": 0,
            "ticks": ""
           }
          },
          "colorscale": {
           "diverging": [
            [
             0,
             "#8e0152"
            ],
            [
             0.1,
             "#c51b7d"
            ],
            [
             0.2,
             "#de77ae"
            ],
            [
             0.3,
             "#f1b6da"
            ],
            [
             0.4,
             "#fde0ef"
            ],
            [
             0.5,
             "#f7f7f7"
            ],
            [
             0.6,
             "#e6f5d0"
            ],
            [
             0.7,
             "#b8e186"
            ],
            [
             0.8,
             "#7fbc41"
            ],
            [
             0.9,
             "#4d9221"
            ],
            [
             1,
             "#276419"
            ]
           ],
           "sequential": [
            [
             0,
             "#0d0887"
            ],
            [
             0.1111111111111111,
             "#46039f"
            ],
            [
             0.2222222222222222,
             "#7201a8"
            ],
            [
             0.3333333333333333,
             "#9c179e"
            ],
            [
             0.4444444444444444,
             "#bd3786"
            ],
            [
             0.5555555555555556,
             "#d8576b"
            ],
            [
             0.6666666666666666,
             "#ed7953"
            ],
            [
             0.7777777777777778,
             "#fb9f3a"
            ],
            [
             0.8888888888888888,
             "#fdca26"
            ],
            [
             1,
             "#f0f921"
            ]
           ],
           "sequentialminus": [
            [
             0,
             "#0d0887"
            ],
            [
             0.1111111111111111,
             "#46039f"
            ],
            [
             0.2222222222222222,
             "#7201a8"
            ],
            [
             0.3333333333333333,
             "#9c179e"
            ],
            [
             0.4444444444444444,
             "#bd3786"
            ],
            [
             0.5555555555555556,
             "#d8576b"
            ],
            [
             0.6666666666666666,
             "#ed7953"
            ],
            [
             0.7777777777777778,
             "#fb9f3a"
            ],
            [
             0.8888888888888888,
             "#fdca26"
            ],
            [
             1,
             "#f0f921"
            ]
           ]
          },
          "colorway": [
           "#636efa",
           "#EF553B",
           "#00cc96",
           "#ab63fa",
           "#FFA15A",
           "#19d3f3",
           "#FF6692",
           "#B6E880",
           "#FF97FF",
           "#FECB52"
          ],
          "font": {
           "color": "#2a3f5f"
          },
          "geo": {
           "bgcolor": "white",
           "lakecolor": "white",
           "landcolor": "#E5ECF6",
           "showlakes": true,
           "showland": true,
           "subunitcolor": "white"
          },
          "hoverlabel": {
           "align": "left"
          },
          "hovermode": "closest",
          "mapbox": {
           "style": "light"
          },
          "paper_bgcolor": "white",
          "plot_bgcolor": "#E5ECF6",
          "polar": {
           "angularaxis": {
            "gridcolor": "white",
            "linecolor": "white",
            "ticks": ""
           },
           "bgcolor": "#E5ECF6",
           "radialaxis": {
            "gridcolor": "white",
            "linecolor": "white",
            "ticks": ""
           }
          },
          "scene": {
           "xaxis": {
            "backgroundcolor": "#E5ECF6",
            "gridcolor": "white",
            "gridwidth": 2,
            "linecolor": "white",
            "showbackground": true,
            "ticks": "",
            "zerolinecolor": "white"
           },
           "yaxis": {
            "backgroundcolor": "#E5ECF6",
            "gridcolor": "white",
            "gridwidth": 2,
            "linecolor": "white",
            "showbackground": true,
            "ticks": "",
            "zerolinecolor": "white"
           },
           "zaxis": {
            "backgroundcolor": "#E5ECF6",
            "gridcolor": "white",
            "gridwidth": 2,
            "linecolor": "white",
            "showbackground": true,
            "ticks": "",
            "zerolinecolor": "white"
           }
          },
          "shapedefaults": {
           "line": {
            "color": "#2a3f5f"
           }
          },
          "ternary": {
           "aaxis": {
            "gridcolor": "white",
            "linecolor": "white",
            "ticks": ""
           },
           "baxis": {
            "gridcolor": "white",
            "linecolor": "white",
            "ticks": ""
           },
           "bgcolor": "#E5ECF6",
           "caxis": {
            "gridcolor": "white",
            "linecolor": "white",
            "ticks": ""
           }
          },
          "title": {
           "x": 0.05
          },
          "xaxis": {
           "automargin": true,
           "gridcolor": "white",
           "linecolor": "white",
           "ticks": "",
           "title": {
            "standoff": 15
           },
           "zerolinecolor": "white",
           "zerolinewidth": 2
          },
          "yaxis": {
           "automargin": true,
           "gridcolor": "white",
           "linecolor": "white",
           "ticks": "",
           "title": {
            "standoff": 15
           },
           "zerolinecolor": "white",
           "zerolinewidth": 2
          }
         }
        },
        "title": {
         "font": {
          "size": 24
         },
         "text": "Canada's Economic Indicators with major events (1960-2022)",
         "x": 0.5,
         "xanchor": "center",
         "y": 0.98,
         "yanchor": "top"
        },
        "width": 1100,
        "xaxis": {
         "anchor": "y",
         "domain": [
          0,
          1
         ],
         "gridcolor": "lightgray",
         "showgrid": true,
         "tickangle": 45,
         "title": {
          "text": "Year"
         }
        },
        "xaxis2": {
         "anchor": "y2",
         "domain": [
          0,
          1
         ],
         "gridcolor": "lightgray",
         "showgrid": true,
         "tickangle": 45,
         "title": {
          "text": "Year"
         }
        },
        "xaxis3": {
         "anchor": "y3",
         "domain": [
          0,
          1
         ],
         "gridcolor": "lightgray",
         "showgrid": true,
         "tickangle": 45,
         "title": {
          "text": "Year"
         }
        },
        "xaxis4": {
         "anchor": "y4",
         "domain": [
          0,
          1
         ],
         "gridcolor": "lightgray",
         "showgrid": true,
         "tickangle": 45,
         "title": {
          "text": "Year"
         }
        },
        "yaxis": {
         "anchor": "x",
         "domain": [
          0.84,
          1
         ],
         "gridcolor": "lightgray",
         "showgrid": true
        },
        "yaxis2": {
         "anchor": "x2",
         "domain": [
          0.56,
          0.7200000000000001
         ],
         "gridcolor": "lightgray",
         "showgrid": true
        },
        "yaxis3": {
         "anchor": "x3",
         "domain": [
          0.28,
          0.44000000000000006
         ],
         "gridcolor": "lightgray",
         "showgrid": true
        },
        "yaxis4": {
         "anchor": "x4",
         "domain": [
          0,
          0.16
         ],
         "gridcolor": "lightgray",
         "showgrid": true
        }
       }
      }
     },
     "metadata": {},
     "output_type": "display_data"
    },
    {
     "name": "stdout",
     "output_type": "stream",
     "text": [
      "\n",
      "Major Events Timeline:\n"
     ]
    },
    {
     "data": {
      "text/html": [
       "<div>\n",
       "<style scoped>\n",
       "    .dataframe tbody tr th:only-of-type {\n",
       "        vertical-align: middle;\n",
       "    }\n",
       "\n",
       "    .dataframe tbody tr th {\n",
       "        vertical-align: top;\n",
       "    }\n",
       "\n",
       "    .dataframe thead th {\n",
       "        text-align: right;\n",
       "    }\n",
       "</style>\n",
       "<table border=\"1\" class=\"dataframe\">\n",
       "  <thead>\n",
       "    <tr style=\"text-align: right;\">\n",
       "      <th></th>\n",
       "      <th>Year</th>\n",
       "      <th>Event</th>\n",
       "      <th>Event Category</th>\n",
       "      <th>Color</th>\n",
       "    </tr>\n",
       "  </thead>\n",
       "  <tbody>\n",
       "    <tr>\n",
       "      <th>0</th>\n",
       "      <td>1871</td>\n",
       "      <td>British Columbia joins Canada, expands Pacific...</td>\n",
       "      <td>Political</td>\n",
       "      <td>#E74C3C</td>\n",
       "    </tr>\n",
       "    <tr>\n",
       "      <th>1</th>\n",
       "      <td>1873</td>\n",
       "      <td>Prince Edward Island joins Canadian Confederation</td>\n",
       "      <td>Political</td>\n",
       "      <td>#E74C3C</td>\n",
       "    </tr>\n",
       "    <tr>\n",
       "      <th>2</th>\n",
       "      <td>1879</td>\n",
       "      <td>National Policy introduces protective industry...</td>\n",
       "      <td>Economic</td>\n",
       "      <td>#2ECC71</td>\n",
       "    </tr>\n",
       "    <tr>\n",
       "      <th>3</th>\n",
       "      <td>1885</td>\n",
       "      <td>Canadian Pacific Railway connects coast to coast</td>\n",
       "      <td>Economic</td>\n",
       "      <td>#2ECC71</td>\n",
       "    </tr>\n",
       "    <tr>\n",
       "      <th>4</th>\n",
       "      <td>1896</td>\n",
       "      <td>Klondike Gold Rush sparks economic boom</td>\n",
       "      <td>Economic</td>\n",
       "      <td>#2ECC71</td>\n",
       "    </tr>\n",
       "    <tr>\n",
       "      <th>5</th>\n",
       "      <td>1905</td>\n",
       "      <td>Alberta and Saskatchewan become new provinces</td>\n",
       "      <td>Political</td>\n",
       "      <td>#E74C3C</td>\n",
       "    </tr>\n",
       "    <tr>\n",
       "      <th>6</th>\n",
       "      <td>1914</td>\n",
       "      <td>WWI boosts manufacturing and war production</td>\n",
       "      <td>Military</td>\n",
       "      <td>#8E44AD</td>\n",
       "    </tr>\n",
       "    <tr>\n",
       "      <th>7</th>\n",
       "      <td>1917</td>\n",
       "      <td>Income tax introduced for war funding</td>\n",
       "      <td>Economic</td>\n",
       "      <td>#2ECC71</td>\n",
       "    </tr>\n",
       "    <tr>\n",
       "      <th>8</th>\n",
       "      <td>1929</td>\n",
       "      <td>Great Depression causes widespread economic ha...</td>\n",
       "      <td>Economic</td>\n",
       "      <td>#2ECC71</td>\n",
       "    </tr>\n",
       "    <tr>\n",
       "      <th>9</th>\n",
       "      <td>1939</td>\n",
       "      <td>WWII begins</td>\n",
       "      <td>Military</td>\n",
       "      <td>#8E44AD</td>\n",
       "    </tr>\n",
       "    <tr>\n",
       "      <th>10</th>\n",
       "      <td>1940</td>\n",
       "      <td>National unemployment insurance system establi...</td>\n",
       "      <td>Social</td>\n",
       "      <td>#F39C12</td>\n",
       "    </tr>\n",
       "    <tr>\n",
       "      <th>11</th>\n",
       "      <td>1945</td>\n",
       "      <td>Post-war boom drives industrial growth</td>\n",
       "      <td>Economic</td>\n",
       "      <td>#2ECC71</td>\n",
       "    </tr>\n",
       "    <tr>\n",
       "      <th>12</th>\n",
       "      <td>1965</td>\n",
       "      <td>Auto Pact integrates US-Canada automotive indu...</td>\n",
       "      <td>Diplomatic</td>\n",
       "      <td>#3498DB</td>\n",
       "    </tr>\n",
       "    <tr>\n",
       "      <th>13</th>\n",
       "      <td>1973</td>\n",
       "      <td>Oil crisis triggers inflation and reforms</td>\n",
       "      <td>Economic</td>\n",
       "      <td>#2ECC71</td>\n",
       "    </tr>\n",
       "    <tr>\n",
       "      <th>14</th>\n",
       "      <td>1981</td>\n",
       "      <td>Recession hits with high interest rates</td>\n",
       "      <td>Economic</td>\n",
       "      <td>#2ECC71</td>\n",
       "    </tr>\n",
       "    <tr>\n",
       "      <th>15</th>\n",
       "      <td>1989</td>\n",
       "      <td>US-Canada Free Trade Agreement reduces barriers</td>\n",
       "      <td>Diplomatic</td>\n",
       "      <td>#3498DB</td>\n",
       "    </tr>\n",
       "    <tr>\n",
       "      <th>16</th>\n",
       "      <td>1994</td>\n",
       "      <td>NAFTA expands North American trade relations</td>\n",
       "      <td>Diplomatic</td>\n",
       "      <td>#3498DB</td>\n",
       "    </tr>\n",
       "    <tr>\n",
       "      <th>17</th>\n",
       "      <td>1997</td>\n",
       "      <td>Federal budget balanced after thirty years</td>\n",
       "      <td>Economic</td>\n",
       "      <td>#2ECC71</td>\n",
       "    </tr>\n",
       "    <tr>\n",
       "      <th>18</th>\n",
       "      <td>2008</td>\n",
       "      <td>Canada weathers global financial crisis well</td>\n",
       "      <td>Economic</td>\n",
       "      <td>#2ECC71</td>\n",
       "    </tr>\n",
       "    <tr>\n",
       "      <th>19</th>\n",
       "      <td>2015</td>\n",
       "      <td>National carbon pricing strategy implemented</td>\n",
       "      <td>Political</td>\n",
       "      <td>#E74C3C</td>\n",
       "    </tr>\n",
       "    <tr>\n",
       "      <th>20</th>\n",
       "      <td>2018</td>\n",
       "      <td>Cannabis legalization creates new tax revenue</td>\n",
       "      <td>Social</td>\n",
       "      <td>#F39C12</td>\n",
       "    </tr>\n",
       "    <tr>\n",
       "      <th>21</th>\n",
       "      <td>2020</td>\n",
       "      <td>COVID-19 triggers emergency financial support</td>\n",
       "      <td>Social</td>\n",
       "      <td>#F39C12</td>\n",
       "    </tr>\n",
       "    <tr>\n",
       "      <th>22</th>\n",
       "      <td>2021</td>\n",
       "      <td>Economy recovers with 4.6% GDP growth</td>\n",
       "      <td>Economic</td>\n",
       "      <td>#2ECC71</td>\n",
       "    </tr>\n",
       "    <tr>\n",
       "      <th>23</th>\n",
       "      <td>2022</td>\n",
       "      <td>High inflation prompts interest rate increases</td>\n",
       "      <td>Economic</td>\n",
       "      <td>#2ECC71</td>\n",
       "    </tr>\n",
       "  </tbody>\n",
       "</table>\n",
       "</div>"
      ],
      "text/plain": [
       "    Year                                              Event Event Category  \\\n",
       "0   1871  British Columbia joins Canada, expands Pacific...      Political   \n",
       "1   1873  Prince Edward Island joins Canadian Confederation      Political   \n",
       "2   1879  National Policy introduces protective industry...       Economic   \n",
       "3   1885   Canadian Pacific Railway connects coast to coast       Economic   \n",
       "4   1896            Klondike Gold Rush sparks economic boom       Economic   \n",
       "5   1905      Alberta and Saskatchewan become new provinces      Political   \n",
       "6   1914        WWI boosts manufacturing and war production       Military   \n",
       "7   1917              Income tax introduced for war funding       Economic   \n",
       "8   1929  Great Depression causes widespread economic ha...       Economic   \n",
       "9   1939                                        WWII begins       Military   \n",
       "10  1940  National unemployment insurance system establi...         Social   \n",
       "11  1945             Post-war boom drives industrial growth       Economic   \n",
       "12  1965  Auto Pact integrates US-Canada automotive indu...     Diplomatic   \n",
       "13  1973          Oil crisis triggers inflation and reforms       Economic   \n",
       "14  1981            Recession hits with high interest rates       Economic   \n",
       "15  1989    US-Canada Free Trade Agreement reduces barriers     Diplomatic   \n",
       "16  1994       NAFTA expands North American trade relations     Diplomatic   \n",
       "17  1997         Federal budget balanced after thirty years       Economic   \n",
       "18  2008       Canada weathers global financial crisis well       Economic   \n",
       "19  2015       National carbon pricing strategy implemented      Political   \n",
       "20  2018      Cannabis legalization creates new tax revenue         Social   \n",
       "21  2020      COVID-19 triggers emergency financial support         Social   \n",
       "22  2021              Economy recovers with 4.6% GDP growth       Economic   \n",
       "23  2022     High inflation prompts interest rate increases       Economic   \n",
       "\n",
       "      Color  \n",
       "0   #E74C3C  \n",
       "1   #E74C3C  \n",
       "2   #2ECC71  \n",
       "3   #2ECC71  \n",
       "4   #2ECC71  \n",
       "5   #E74C3C  \n",
       "6   #8E44AD  \n",
       "7   #2ECC71  \n",
       "8   #2ECC71  \n",
       "9   #8E44AD  \n",
       "10  #F39C12  \n",
       "11  #2ECC71  \n",
       "12  #3498DB  \n",
       "13  #2ECC71  \n",
       "14  #2ECC71  \n",
       "15  #3498DB  \n",
       "16  #3498DB  \n",
       "17  #2ECC71  \n",
       "18  #2ECC71  \n",
       "19  #E74C3C  \n",
       "20  #F39C12  \n",
       "21  #F39C12  \n",
       "22  #2ECC71  \n",
       "23  #2ECC71  "
      ]
     },
     "metadata": {},
     "output_type": "display_data"
    }
   ],
   "source": [
    "# Limiting to 1960 onwards\n",
    "can_data = can_data[can_data['Year'] >= 1960]\n",
    "\n",
    "# Create subplots\n",
    "fig = make_subplots(\n",
    "    rows=4, cols=1,\n",
    "    subplot_titles=(\n",
    "        'GDP per capita', \n",
    "        'Government Expenditure', \n",
    "        'Trade Share',\n",
    "        'Inflation Rate'\n",
    "    ),\n",
    "    vertical_spacing=0.12,\n",
    "    horizontal_spacing=0.1\n",
    ")\n",
    "\n",
    "# Function to add traces and events to a subplot\n",
    "def add_interactive_plot(row, col, y_data, y_title):\n",
    "    # Add main line\n",
    "    fig.add_trace(\n",
    "        go.Scatter(\n",
    "            x=can_data['Year'],\n",
    "            y=y_data,\n",
    "            name=y_title,\n",
    "            line=dict(color='#2E86C1', width=2.5),\n",
    "            showlegend=False\n",
    "        ),\n",
    "        row=row, col=col\n",
    "    )\n",
    "    \n",
    "    # Add event markers\n",
    "    for _, event in can_events.iterrows():\n",
    "        if event['Year'] in can_data['Year'].values:\n",
    "            y_value = y_data[can_data['Year'] == event['Year']].iloc[0]\n",
    "            \n",
    "            # Add vertical line for event\n",
    "            fig.add_trace(\n",
    "                go.Scatter(\n",
    "                    x=[event['Year'], event['Year']],\n",
    "                    y=[y_data.min(), y_data.max()],\n",
    "                    mode='lines',\n",
    "                    line=dict(color=event['Color'], width=1, dash='dash'),\n",
    "                    name=f\"{event['Year']}: {event['Event']}\",\n",
    "                    hoverinfo='name',\n",
    "                    showlegend=False\n",
    "                ),\n",
    "                row=row, col=col\n",
    "            )\n",
    "            \n",
    "            # Add hover point for event\n",
    "            fig.add_trace(\n",
    "                go.Scatter(\n",
    "                    x=[event['Year']],\n",
    "                    y=[y_value],\n",
    "                    mode='markers',\n",
    "                    marker=dict(color=event['Color'], size=8),\n",
    "                    name=f\"{event['Year']}: {event['Event']}\",\n",
    "                    text=f\"Year: {event['Year']}<br>Event: {event['Event']}<br>Value: {y_value:.2f}<br>Category: {event['Event Category']}\",\n",
    "                    hoverinfo='text',\n",
    "                    showlegend=False\n",
    "                ),\n",
    "                row=row, col=col\n",
    "            )\n",
    "\n",
    "# Add all subplots\n",
    "add_interactive_plot(1, 1, can_data['GDP per capita'], 'GDP per capita')\n",
    "add_interactive_plot(2, 1, can_data['Government expenditure (% of GDP)'], 'Government Expenditure')\n",
    "add_interactive_plot(3, 1, can_data['Trade as a Share of GDP'], 'Trade Share')\n",
    "add_interactive_plot(4, 1, can_data['Inflation, consumer prices (annual %)'], 'Inflation Rate')\n",
    "\n",
    "# Update layout\n",
    "fig.update_layout(\n",
    "    title=dict(\n",
    "        text=\"Canada's Economic Indicators with major events (1960-2022)\",\n",
    "        x=0.5,\n",
    "        y=0.98,\n",
    "        xanchor='center',\n",
    "        yanchor='top',\n",
    "        font=dict(size=24)\n",
    "    ),\n",
    "    height=1000,\n",
    "    width=1100,\n",
    "    showlegend=True\n",
    ")\n",
    "\n",
    "# Update axes labels and formatting\n",
    "fig.update_xaxes(\n",
    "    title_text=\"Year\",\n",
    "    tickangle=45,\n",
    "    gridcolor='lightgray',\n",
    "    showgrid=True\n",
    ")\n",
    "\n",
    "fig.update_yaxes(\n",
    "    gridcolor='lightgray',\n",
    "    showgrid=True\n",
    ")\n",
    "\n",
    "# Add category legend\n",
    "for category, color in color_dict.items():\n",
    "    fig.add_trace(\n",
    "        go.Scatter(\n",
    "            x=[None],\n",
    "            y=[None],\n",
    "            mode='markers',\n",
    "            marker=dict(size=10, color=color),\n",
    "            name=category,\n",
    "            showlegend=True\n",
    "        )\n",
    "    )\n",
    "\n",
    "# Show the plot\n",
    "fig.show()\n",
    "\n",
    "# Display events table for reference\n",
    "print(\"\\nMajor Events Timeline:\")\n",
    "display(can_events.sort_values('Year'))"
   ]
  },
  {
   "cell_type": "code",
   "execution_count": null,
   "metadata": {},
   "outputs": [],
   "source": []
  }
 ],
 "metadata": {
  "kernelspec": {
   "display_name": "tf",
   "language": "python",
   "name": "python3"
  },
  "language_info": {
   "codemirror_mode": {
    "name": "ipython",
    "version": 3
   },
   "file_extension": ".py",
   "mimetype": "text/x-python",
   "name": "python",
   "nbconvert_exporter": "python",
   "pygments_lexer": "ipython3",
   "version": "3.9.21"
  }
 },
 "nbformat": 4,
 "nbformat_minor": 2
}
